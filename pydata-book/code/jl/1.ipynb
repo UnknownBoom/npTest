{
 "cells": [
  {
   "cell_type": "code",
   "execution_count": 192,
   "id": "88d50605-d0fd-4d5c-aded-2d4a93481713",
   "metadata": {},
   "outputs": [],
   "source": [
    "from datetime import datetime\n",
    "\n",
    "import pandas as pd\n",
    "import numpy as np\n",
    "import matplotlib.pyplot as pl\n",
    "import seaborn as sns"
   ]
  },
  {
   "cell_type": "code",
   "execution_count": 193,
   "id": "e148fac6-c995-46dd-a51d-396e6a7fc432",
   "metadata": {},
   "outputs": [
    {
     "data": {
      "text/plain": "     total_bill   tip smoker   day    time  size\n0         16.99  1.01     No   Sun  Dinner     2\n1         10.34  1.66     No   Sun  Dinner     3\n2         21.01  3.50     No   Sun  Dinner     3\n3         23.68  3.31     No   Sun  Dinner     2\n4         24.59  3.61     No   Sun  Dinner     4\n..          ...   ...    ...   ...     ...   ...\n239       29.03  5.92     No   Sat  Dinner     3\n240       27.18  2.00    Yes   Sat  Dinner     2\n241       22.67  2.00    Yes   Sat  Dinner     2\n242       17.82  1.75     No   Sat  Dinner     2\n243       18.78  3.00     No  Thur  Dinner     2\n\n[244 rows x 6 columns]",
      "text/html": "<div>\n<style scoped>\n    .dataframe tbody tr th:only-of-type {\n        vertical-align: middle;\n    }\n\n    .dataframe tbody tr th {\n        vertical-align: top;\n    }\n\n    .dataframe thead th {\n        text-align: right;\n    }\n</style>\n<table border=\"1\" class=\"dataframe\">\n  <thead>\n    <tr style=\"text-align: right;\">\n      <th></th>\n      <th>total_bill</th>\n      <th>tip</th>\n      <th>smoker</th>\n      <th>day</th>\n      <th>time</th>\n      <th>size</th>\n    </tr>\n  </thead>\n  <tbody>\n    <tr>\n      <th>0</th>\n      <td>16.99</td>\n      <td>1.01</td>\n      <td>No</td>\n      <td>Sun</td>\n      <td>Dinner</td>\n      <td>2</td>\n    </tr>\n    <tr>\n      <th>1</th>\n      <td>10.34</td>\n      <td>1.66</td>\n      <td>No</td>\n      <td>Sun</td>\n      <td>Dinner</td>\n      <td>3</td>\n    </tr>\n    <tr>\n      <th>2</th>\n      <td>21.01</td>\n      <td>3.50</td>\n      <td>No</td>\n      <td>Sun</td>\n      <td>Dinner</td>\n      <td>3</td>\n    </tr>\n    <tr>\n      <th>3</th>\n      <td>23.68</td>\n      <td>3.31</td>\n      <td>No</td>\n      <td>Sun</td>\n      <td>Dinner</td>\n      <td>2</td>\n    </tr>\n    <tr>\n      <th>4</th>\n      <td>24.59</td>\n      <td>3.61</td>\n      <td>No</td>\n      <td>Sun</td>\n      <td>Dinner</td>\n      <td>4</td>\n    </tr>\n    <tr>\n      <th>...</th>\n      <td>...</td>\n      <td>...</td>\n      <td>...</td>\n      <td>...</td>\n      <td>...</td>\n      <td>...</td>\n    </tr>\n    <tr>\n      <th>239</th>\n      <td>29.03</td>\n      <td>5.92</td>\n      <td>No</td>\n      <td>Sat</td>\n      <td>Dinner</td>\n      <td>3</td>\n    </tr>\n    <tr>\n      <th>240</th>\n      <td>27.18</td>\n      <td>2.00</td>\n      <td>Yes</td>\n      <td>Sat</td>\n      <td>Dinner</td>\n      <td>2</td>\n    </tr>\n    <tr>\n      <th>241</th>\n      <td>22.67</td>\n      <td>2.00</td>\n      <td>Yes</td>\n      <td>Sat</td>\n      <td>Dinner</td>\n      <td>2</td>\n    </tr>\n    <tr>\n      <th>242</th>\n      <td>17.82</td>\n      <td>1.75</td>\n      <td>No</td>\n      <td>Sat</td>\n      <td>Dinner</td>\n      <td>2</td>\n    </tr>\n    <tr>\n      <th>243</th>\n      <td>18.78</td>\n      <td>3.00</td>\n      <td>No</td>\n      <td>Thur</td>\n      <td>Dinner</td>\n      <td>2</td>\n    </tr>\n  </tbody>\n</table>\n<p>244 rows × 6 columns</p>\n</div>"
     },
     "execution_count": 193,
     "metadata": {},
     "output_type": "execute_result"
    }
   ],
   "source": [
    "df = pd.read_csv('../../examples/tips.csv')\n",
    "df"
   ]
  },
  {
   "cell_type": "code",
   "execution_count": 194,
   "id": "06367c90-ea03-40ab-b325-53e1543c2e30",
   "metadata": {},
   "outputs": [
    {
     "data": {
      "text/plain": "size  1   2   3   4  5  6\nday                      \nFri   1  16   1   1  0  0\nSat   2  53  18  13  1  0\nSun   0  39  15  18  3  1\nThur  1  48   4   5  1  3",
      "text/html": "<div>\n<style scoped>\n    .dataframe tbody tr th:only-of-type {\n        vertical-align: middle;\n    }\n\n    .dataframe tbody tr th {\n        vertical-align: top;\n    }\n\n    .dataframe thead th {\n        text-align: right;\n    }\n</style>\n<table border=\"1\" class=\"dataframe\">\n  <thead>\n    <tr style=\"text-align: right;\">\n      <th>size</th>\n      <th>1</th>\n      <th>2</th>\n      <th>3</th>\n      <th>4</th>\n      <th>5</th>\n      <th>6</th>\n    </tr>\n    <tr>\n      <th>day</th>\n      <th></th>\n      <th></th>\n      <th></th>\n      <th></th>\n      <th></th>\n      <th></th>\n    </tr>\n  </thead>\n  <tbody>\n    <tr>\n      <th>Fri</th>\n      <td>1</td>\n      <td>16</td>\n      <td>1</td>\n      <td>1</td>\n      <td>0</td>\n      <td>0</td>\n    </tr>\n    <tr>\n      <th>Sat</th>\n      <td>2</td>\n      <td>53</td>\n      <td>18</td>\n      <td>13</td>\n      <td>1</td>\n      <td>0</td>\n    </tr>\n    <tr>\n      <th>Sun</th>\n      <td>0</td>\n      <td>39</td>\n      <td>15</td>\n      <td>18</td>\n      <td>3</td>\n      <td>1</td>\n    </tr>\n    <tr>\n      <th>Thur</th>\n      <td>1</td>\n      <td>48</td>\n      <td>4</td>\n      <td>5</td>\n      <td>1</td>\n      <td>3</td>\n    </tr>\n  </tbody>\n</table>\n</div>"
     },
     "execution_count": 194,
     "metadata": {},
     "output_type": "execute_result"
    }
   ],
   "source": [
    "cross_t = pd.crosstab(df['day'], df['size'])\n",
    "cross_t"
   ]
  },
  {
   "cell_type": "code",
   "execution_count": 195,
   "id": "c31eace4-c0ff-4853-a431-6d436863dcc4",
   "metadata": {},
   "outputs": [
    {
     "data": {
      "text/plain": "day\nFri     19\nSat     87\nSun     76\nThur    62\ndtype: int64"
     },
     "execution_count": 195,
     "metadata": {},
     "output_type": "execute_result"
    }
   ],
   "source": [
    "cross_t.sum(1)"
   ]
  },
  {
   "cell_type": "code",
   "execution_count": 196,
   "id": "2c04a559-7fd3-43d7-ae5c-b81d0b5c6391",
   "metadata": {},
   "outputs": [
    {
     "data": {
      "text/plain": "size         1         2         3         4         5         6\nday                                                             \nFri   0.052632  0.842105  0.052632  0.052632  0.000000  0.000000\nSat   0.022989  0.609195  0.206897  0.149425  0.011494  0.000000\nSun   0.000000  0.513158  0.197368  0.236842  0.039474  0.013158\nThur  0.016129  0.774194  0.064516  0.080645  0.016129  0.048387",
      "text/html": "<div>\n<style scoped>\n    .dataframe tbody tr th:only-of-type {\n        vertical-align: middle;\n    }\n\n    .dataframe tbody tr th {\n        vertical-align: top;\n    }\n\n    .dataframe thead th {\n        text-align: right;\n    }\n</style>\n<table border=\"1\" class=\"dataframe\">\n  <thead>\n    <tr style=\"text-align: right;\">\n      <th>size</th>\n      <th>1</th>\n      <th>2</th>\n      <th>3</th>\n      <th>4</th>\n      <th>5</th>\n      <th>6</th>\n    </tr>\n    <tr>\n      <th>day</th>\n      <th></th>\n      <th></th>\n      <th></th>\n      <th></th>\n      <th></th>\n      <th></th>\n    </tr>\n  </thead>\n  <tbody>\n    <tr>\n      <th>Fri</th>\n      <td>0.052632</td>\n      <td>0.842105</td>\n      <td>0.052632</td>\n      <td>0.052632</td>\n      <td>0.000000</td>\n      <td>0.000000</td>\n    </tr>\n    <tr>\n      <th>Sat</th>\n      <td>0.022989</td>\n      <td>0.609195</td>\n      <td>0.206897</td>\n      <td>0.149425</td>\n      <td>0.011494</td>\n      <td>0.000000</td>\n    </tr>\n    <tr>\n      <th>Sun</th>\n      <td>0.000000</td>\n      <td>0.513158</td>\n      <td>0.197368</td>\n      <td>0.236842</td>\n      <td>0.039474</td>\n      <td>0.013158</td>\n    </tr>\n    <tr>\n      <th>Thur</th>\n      <td>0.016129</td>\n      <td>0.774194</td>\n      <td>0.064516</td>\n      <td>0.080645</td>\n      <td>0.016129</td>\n      <td>0.048387</td>\n    </tr>\n  </tbody>\n</table>\n</div>"
     },
     "execution_count": 196,
     "metadata": {},
     "output_type": "execute_result"
    }
   ],
   "source": [
    "cross_p = cross_t.div(cross_t.sum(1), axis=0)\n",
    "cross_p"
   ]
  },
  {
   "cell_type": "code",
   "execution_count": 197,
   "id": "0bd79626-7012-4a19-8494-1c089e2d2d9f",
   "metadata": {},
   "outputs": [
    {
     "data": {
      "text/plain": "<AxesSubplot:xlabel='day'>"
     },
     "execution_count": 197,
     "metadata": {},
     "output_type": "execute_result"
    },
    {
     "data": {
      "text/plain": "<Figure size 432x288 with 1 Axes>",
      "image/png": "[encoded data removed]"
     },
     "metadata": {
      "needs_background": "light"
     },
     "output_type": "display_data"
    }
   ],
   "source": [
    "cross_p.plot.bar()"
   ]
  },
  {
   "cell_type": "code",
   "execution_count": 198,
   "id": "231efe25-a693-4a3d-8a6a-07dabe856db1",
   "metadata": {},
   "outputs": [
    {
     "data": {
      "text/plain": "     total_bill   tip smoker   day    time  size       t_p\n0         16.99  1.01     No   Sun  Dinner     2  0.063204\n1         10.34  1.66     No   Sun  Dinner     3  0.191244\n2         21.01  3.50     No   Sun  Dinner     3  0.199886\n3         23.68  3.31     No   Sun  Dinner     2  0.162494\n4         24.59  3.61     No   Sun  Dinner     4  0.172069\n..          ...   ...    ...   ...     ...   ...       ...\n239       29.03  5.92     No   Sat  Dinner     3  0.256166\n240       27.18  2.00    Yes   Sat  Dinner     2  0.079428\n241       22.67  2.00    Yes   Sat  Dinner     2  0.096759\n242       17.82  1.75     No   Sat  Dinner     2  0.108899\n243       18.78  3.00     No  Thur  Dinner     2  0.190114\n\n[244 rows x 7 columns]",
      "text/html": "<div>\n<style scoped>\n    .dataframe tbody tr th:only-of-type {\n        vertical-align: middle;\n    }\n\n    .dataframe tbody tr th {\n        vertical-align: top;\n    }\n\n    .dataframe thead th {\n        text-align: right;\n    }\n</style>\n<table border=\"1\" class=\"dataframe\">\n  <thead>\n    <tr style=\"text-align: right;\">\n      <th></th>\n      <th>total_bill</th>\n      <th>tip</th>\n      <th>smoker</th>\n      <th>day</th>\n      <th>time</th>\n      <th>size</th>\n      <th>t_p</th>\n    </tr>\n  </thead>\n  <tbody>\n    <tr>\n      <th>0</th>\n      <td>16.99</td>\n      <td>1.01</td>\n      <td>No</td>\n      <td>Sun</td>\n      <td>Dinner</td>\n      <td>2</td>\n      <td>0.063204</td>\n    </tr>\n    <tr>\n      <th>1</th>\n      <td>10.34</td>\n      <td>1.66</td>\n      <td>No</td>\n      <td>Sun</td>\n      <td>Dinner</td>\n      <td>3</td>\n      <td>0.191244</td>\n    </tr>\n    <tr>\n      <th>2</th>\n      <td>21.01</td>\n      <td>3.50</td>\n      <td>No</td>\n      <td>Sun</td>\n      <td>Dinner</td>\n      <td>3</td>\n      <td>0.199886</td>\n    </tr>\n    <tr>\n      <th>3</th>\n      <td>23.68</td>\n      <td>3.31</td>\n      <td>No</td>\n      <td>Sun</td>\n      <td>Dinner</td>\n      <td>2</td>\n      <td>0.162494</td>\n    </tr>\n    <tr>\n      <th>4</th>\n      <td>24.59</td>\n      <td>3.61</td>\n      <td>No</td>\n      <td>Sun</td>\n      <td>Dinner</td>\n      <td>4</td>\n      <td>0.172069</td>\n    </tr>\n    <tr>\n      <th>...</th>\n      <td>...</td>\n      <td>...</td>\n      <td>...</td>\n      <td>...</td>\n      <td>...</td>\n      <td>...</td>\n      <td>...</td>\n    </tr>\n    <tr>\n      <th>239</th>\n      <td>29.03</td>\n      <td>5.92</td>\n      <td>No</td>\n      <td>Sat</td>\n      <td>Dinner</td>\n      <td>3</td>\n      <td>0.256166</td>\n    </tr>\n    <tr>\n      <th>240</th>\n      <td>27.18</td>\n      <td>2.00</td>\n      <td>Yes</td>\n      <td>Sat</td>\n      <td>Dinner</td>\n      <td>2</td>\n      <td>0.079428</td>\n    </tr>\n    <tr>\n      <th>241</th>\n      <td>22.67</td>\n      <td>2.00</td>\n      <td>Yes</td>\n      <td>Sat</td>\n      <td>Dinner</td>\n      <td>2</td>\n      <td>0.096759</td>\n    </tr>\n    <tr>\n      <th>242</th>\n      <td>17.82</td>\n      <td>1.75</td>\n      <td>No</td>\n      <td>Sat</td>\n      <td>Dinner</td>\n      <td>2</td>\n      <td>0.108899</td>\n    </tr>\n    <tr>\n      <th>243</th>\n      <td>18.78</td>\n      <td>3.00</td>\n      <td>No</td>\n      <td>Thur</td>\n      <td>Dinner</td>\n      <td>2</td>\n      <td>0.190114</td>\n    </tr>\n  </tbody>\n</table>\n<p>244 rows × 7 columns</p>\n</div>"
     },
     "execution_count": 198,
     "metadata": {},
     "output_type": "execute_result"
    }
   ],
   "source": [
    "df['t_p'] = (df['tip'] / (df['total_bill'] - df['tip']))\n",
    "df"
   ]
  },
  {
   "cell_type": "code",
   "execution_count": 199,
   "id": "b5d68b0f-79e5-41de-82d3-4a9c71f864b6",
   "metadata": {},
   "outputs": [
    {
     "data": {
      "text/plain": "<AxesSubplot:xlabel='day', ylabel='t_p'>"
     },
     "execution_count": 199,
     "metadata": {},
     "output_type": "execute_result"
    },
    {
     "data": {
      "text/plain": "<Figure size 432x288 with 1 Axes>",
      "image/png": "[encoded data removed]"
     },
     "metadata": {
      "needs_background": "light"
     },
     "output_type": "display_data"
    }
   ],
   "source": [
    "sns.barplot(x='day', y='t_p', data=df)"
   ]
  },
  {
   "cell_type": "code",
   "execution_count": 200,
   "id": "633da6bc-163c-48c6-bffd-f150ea4b2187",
   "metadata": {},
   "outputs": [
    {
     "name": "stderr",
     "output_type": "stream",
     "text": [
      "d:\\projects\\python\\fastapi\\test\\venv\\lib\\site-packages\\seaborn\\distributions.py:2619: FutureWarning: `distplot` is a deprecated function and will be removed in a future version. Please adapt your code to use either `displot` (a figure-level function with similar flexibility) or `histplot` (an axes-level function for histograms).\n",
      "  warnings.warn(msg, FutureWarning)\n"
     ]
    },
    {
     "data": {
      "text/plain": "<AxesSubplot:ylabel='Density'>"
     },
     "execution_count": 200,
     "metadata": {},
     "output_type": "execute_result"
    },
    {
     "data": {
      "text/plain": "<Figure size 432x288 with 1 Axes>",
      "image/png": "[encoded data removed]"
     },
     "metadata": {
      "needs_background": "light"
     },
     "output_type": "display_data"
    }
   ],
   "source": [
    "nd1 = np.random.normal(0,1, size=200)\n",
    "nd2 = np.random.normal(10,2, size=200)\n",
    "sns.distplot(pd.Series(np.concatenate([nd1, nd2])))"
   ]
  },
  {
   "cell_type": "code",
   "execution_count": 201,
   "id": "b9f751be-3625-4d67-b767-1646ebab1b68",
   "metadata": {},
   "outputs": [
    {
     "data": {
      "text/plain": "<seaborn.axisgrid.FacetGrid at 0x28e62b1f280>"
     },
     "execution_count": 201,
     "metadata": {},
     "output_type": "execute_result"
    },
    {
     "data": {
      "text/plain": "<Figure size 789.625x360 with 2 Axes>",
      "image/png": "[encoded data removed]"
     },
     "metadata": {
      "needs_background": "light"
     },
     "output_type": "display_data"
    }
   ],
   "source": [
    "sns.catplot(x='day', y='t_p', hue='time', col='smoker', data=df, kind='bar')"
   ]
  },
  {
   "cell_type": "code",
   "execution_count": 202,
   "id": "25c3a9bd-152a-458d-822b-872cabde2029",
   "metadata": {},
   "outputs": [
    {
     "data": {
      "text/plain": "  key1 key2     data1     data2\n0    a  one  0.100326 -0.331036\n1    a  two  0.512907  0.008041\n2    b  one  0.041600 -0.489152\n3    b  two -0.531204 -2.405063\n4    a  one  0.858386  0.561763",
      "text/html": "<div>\n<style scoped>\n    .dataframe tbody tr th:only-of-type {\n        vertical-align: middle;\n    }\n\n    .dataframe tbody tr th {\n        vertical-align: top;\n    }\n\n    .dataframe thead th {\n        text-align: right;\n    }\n</style>\n<table border=\"1\" class=\"dataframe\">\n  <thead>\n    <tr style=\"text-align: right;\">\n      <th></th>\n      <th>key1</th>\n      <th>key2</th>\n      <th>data1</th>\n      <th>data2</th>\n    </tr>\n  </thead>\n  <tbody>\n    <tr>\n      <th>0</th>\n      <td>a</td>\n      <td>one</td>\n      <td>0.100326</td>\n      <td>-0.331036</td>\n    </tr>\n    <tr>\n      <th>1</th>\n      <td>a</td>\n      <td>two</td>\n      <td>0.512907</td>\n      <td>0.008041</td>\n    </tr>\n    <tr>\n      <th>2</th>\n      <td>b</td>\n      <td>one</td>\n      <td>0.041600</td>\n      <td>-0.489152</td>\n    </tr>\n    <tr>\n      <th>3</th>\n      <td>b</td>\n      <td>two</td>\n      <td>-0.531204</td>\n      <td>-2.405063</td>\n    </tr>\n    <tr>\n      <th>4</th>\n      <td>a</td>\n      <td>one</td>\n      <td>0.858386</td>\n      <td>0.561763</td>\n    </tr>\n  </tbody>\n</table>\n</div>"
     },
     "execution_count": 202,
     "metadata": {},
     "output_type": "execute_result"
    }
   ],
   "source": [
    "df = pd.DataFrame({'key1' : ['a', 'a', 'b', 'b', 'a'],\n",
    "                 'key2' : ['one', 'two', 'one', 'two', 'one'],\n",
    "                'data1' : np.random.randn(5),\n",
    "                'data2' : np.random.randn(5)})\n",
    "df"
   ]
  },
  {
   "cell_type": "code",
   "execution_count": 203,
   "id": "8b9cf845-d8e3-48f6-a94f-afc13313dbf1",
   "metadata": {},
   "outputs": [
    {
     "data": {
      "text/plain": "         data1     data2\nkey1                    \na     0.490540  0.079589\nb    -0.244802 -1.447108",
      "text/html": "<div>\n<style scoped>\n    .dataframe tbody tr th:only-of-type {\n        vertical-align: middle;\n    }\n\n    .dataframe tbody tr th {\n        vertical-align: top;\n    }\n\n    .dataframe thead th {\n        text-align: right;\n    }\n</style>\n<table border=\"1\" class=\"dataframe\">\n  <thead>\n    <tr style=\"text-align: right;\">\n      <th></th>\n      <th>data1</th>\n      <th>data2</th>\n    </tr>\n    <tr>\n      <th>key1</th>\n      <th></th>\n      <th></th>\n    </tr>\n  </thead>\n  <tbody>\n    <tr>\n      <th>a</th>\n      <td>0.490540</td>\n      <td>0.079589</td>\n    </tr>\n    <tr>\n      <th>b</th>\n      <td>-0.244802</td>\n      <td>-1.447108</td>\n    </tr>\n  </tbody>\n</table>\n</div>"
     },
     "execution_count": 203,
     "metadata": {},
     "output_type": "execute_result"
    }
   ],
   "source": [
    "gr = df.groupby(by=df['key1'])\n",
    "gr.mean()"
   ]
  },
  {
   "cell_type": "code",
   "execution_count": 204,
   "id": "ea1e6d71-f925-4b7a-9b01-a677e1a79388",
   "metadata": {},
   "outputs": [
    {
     "data": {
      "text/plain": "key1\na    3\nb    2\ndtype: int64"
     },
     "execution_count": 204,
     "metadata": {},
     "output_type": "execute_result"
    }
   ],
   "source": [
    "gr.size()"
   ]
  },
  {
   "cell_type": "code",
   "execution_count": 205,
   "outputs": [
    {
     "data": {
      "text/plain": "  key1 key2     data1     data2\n0    a  one  0.100326 -0.331036\n1    a  two  0.512907  0.008041\n2    b  one  0.041600 -0.489152\n3    b  two -0.531204 -2.405063\n4    a  one  0.858386  0.561763",
      "text/html": "<div>\n<style scoped>\n    .dataframe tbody tr th:only-of-type {\n        vertical-align: middle;\n    }\n\n    .dataframe tbody tr th {\n        vertical-align: top;\n    }\n\n    .dataframe thead th {\n        text-align: right;\n    }\n</style>\n<table border=\"1\" class=\"dataframe\">\n  <thead>\n    <tr style=\"text-align: right;\">\n      <th></th>\n      <th>key1</th>\n      <th>key2</th>\n      <th>data1</th>\n      <th>data2</th>\n    </tr>\n  </thead>\n  <tbody>\n    <tr>\n      <th>0</th>\n      <td>a</td>\n      <td>one</td>\n      <td>0.100326</td>\n      <td>-0.331036</td>\n    </tr>\n    <tr>\n      <th>1</th>\n      <td>a</td>\n      <td>two</td>\n      <td>0.512907</td>\n      <td>0.008041</td>\n    </tr>\n    <tr>\n      <th>2</th>\n      <td>b</td>\n      <td>one</td>\n      <td>0.041600</td>\n      <td>-0.489152</td>\n    </tr>\n    <tr>\n      <th>3</th>\n      <td>b</td>\n      <td>two</td>\n      <td>-0.531204</td>\n      <td>-2.405063</td>\n    </tr>\n    <tr>\n      <th>4</th>\n      <td>a</td>\n      <td>one</td>\n      <td>0.858386</td>\n      <td>0.561763</td>\n    </tr>\n  </tbody>\n</table>\n</div>"
     },
     "execution_count": 205,
     "metadata": {},
     "output_type": "execute_result"
    }
   ],
   "source": [
    "df"
   ],
   "metadata": {
    "collapsed": false,
    "pycharm": {
     "name": "#%%\n"
    }
   }
  },
  {
   "cell_type": "code",
   "execution_count": 206,
   "outputs": [
    {
     "name": "stdout",
     "output_type": "stream",
     "text": [
      "a\n",
      "  key1 key2     data1     data2\n",
      "0    a  one  0.100326 -0.331036\n",
      "1    a  two  0.512907  0.008041\n",
      "4    a  one  0.858386  0.561763\n",
      "b\n",
      "  key1 key2     data1     data2\n",
      "2    b  one  0.041600 -0.489152\n",
      "3    b  two -0.531204 -2.405063\n"
     ]
    }
   ],
   "source": [
    "for k,v in gr:\n",
    "    print(k)\n",
    "    print(v)"
   ],
   "metadata": {
    "collapsed": false,
    "pycharm": {
     "name": "#%%\n"
    }
   }
  },
  {
   "cell_type": "code",
   "execution_count": 207,
   "outputs": [
    {
     "data": {
      "text/plain": "key1  key2\na     one     0.115364\n      two     0.008041\nb     one    -0.489152\n      two    -2.405063\nName: data2, dtype: float64"
     },
     "execution_count": 207,
     "metadata": {},
     "output_type": "execute_result"
    }
   ],
   "source": [
    "df.groupby(['key1', 'key2'])['data2'].mean()"
   ],
   "metadata": {
    "collapsed": false,
    "pycharm": {
     "name": "#%%\n"
    }
   }
  },
  {
   "cell_type": "code",
   "execution_count": 208,
   "outputs": [
    {
     "data": {
      "text/plain": "              data2\nkey1 key2          \na    one   0.115364\n     two   0.008041\nb    one  -0.489152\n     two  -2.405063",
      "text/html": "<div>\n<style scoped>\n    .dataframe tbody tr th:only-of-type {\n        vertical-align: middle;\n    }\n\n    .dataframe tbody tr th {\n        vertical-align: top;\n    }\n\n    .dataframe thead th {\n        text-align: right;\n    }\n</style>\n<table border=\"1\" class=\"dataframe\">\n  <thead>\n    <tr style=\"text-align: right;\">\n      <th></th>\n      <th></th>\n      <th>data2</th>\n    </tr>\n    <tr>\n      <th>key1</th>\n      <th>key2</th>\n      <th></th>\n    </tr>\n  </thead>\n  <tbody>\n    <tr>\n      <th rowspan=\"2\" valign=\"top\">a</th>\n      <th>one</th>\n      <td>0.115364</td>\n    </tr>\n    <tr>\n      <th>two</th>\n      <td>0.008041</td>\n    </tr>\n    <tr>\n      <th rowspan=\"2\" valign=\"top\">b</th>\n      <th>one</th>\n      <td>-0.489152</td>\n    </tr>\n    <tr>\n      <th>two</th>\n      <td>-2.405063</td>\n    </tr>\n  </tbody>\n</table>\n</div>"
     },
     "execution_count": 208,
     "metadata": {},
     "output_type": "execute_result"
    }
   ],
   "source": [
    "df.groupby(['key1', 'key2'])[['data2']].mean()"
   ],
   "metadata": {
    "collapsed": false,
    "pycharm": {
     "name": "#%%\n"
    }
   }
  },
  {
   "cell_type": "code",
   "execution_count": 209,
   "outputs": [
    {
     "name": "stderr",
     "output_type": "stream",
     "text": [
      "C:\\Users\\asargsyan\\AppData\\Local\\Temp\\ipykernel_9956\\3729267243.py:4: FutureWarning: Slicing a positional slice with .loc is not supported, and will raise TypeError in a future version.  Use .loc with labels or .iloc with positions instead.\n",
      "  people.loc[2:3, ['b', 'c']] = np.nan\n"
     ]
    },
    {
     "data": {
      "text/plain": "               a         b         c         d         e\nJoe    -1.113446  1.063958  0.667348 -0.489066 -0.315711\nSteve   0.675624 -0.039477 -1.758820 -0.596553 -0.940131\nWes    -0.499985       NaN       NaN -0.346289  0.498567\nJim     0.607428 -0.359745  2.439071  0.728427 -1.015001\nTravis  2.178852  1.362897 -0.055557  1.034318  1.123335",
      "text/html": "<div>\n<style scoped>\n    .dataframe tbody tr th:only-of-type {\n        vertical-align: middle;\n    }\n\n    .dataframe tbody tr th {\n        vertical-align: top;\n    }\n\n    .dataframe thead th {\n        text-align: right;\n    }\n</style>\n<table border=\"1\" class=\"dataframe\">\n  <thead>\n    <tr style=\"text-align: right;\">\n      <th></th>\n      <th>a</th>\n      <th>b</th>\n      <th>c</th>\n      <th>d</th>\n      <th>e</th>\n    </tr>\n  </thead>\n  <tbody>\n    <tr>\n      <th>Joe</th>\n      <td>-1.113446</td>\n      <td>1.063958</td>\n      <td>0.667348</td>\n      <td>-0.489066</td>\n      <td>-0.315711</td>\n    </tr>\n    <tr>\n      <th>Steve</th>\n      <td>0.675624</td>\n      <td>-0.039477</td>\n      <td>-1.758820</td>\n      <td>-0.596553</td>\n      <td>-0.940131</td>\n    </tr>\n    <tr>\n      <th>Wes</th>\n      <td>-0.499985</td>\n      <td>NaN</td>\n      <td>NaN</td>\n      <td>-0.346289</td>\n      <td>0.498567</td>\n    </tr>\n    <tr>\n      <th>Jim</th>\n      <td>0.607428</td>\n      <td>-0.359745</td>\n      <td>2.439071</td>\n      <td>0.728427</td>\n      <td>-1.015001</td>\n    </tr>\n    <tr>\n      <th>Travis</th>\n      <td>2.178852</td>\n      <td>1.362897</td>\n      <td>-0.055557</td>\n      <td>1.034318</td>\n      <td>1.123335</td>\n    </tr>\n  </tbody>\n</table>\n</div>"
     },
     "execution_count": 209,
     "metadata": {},
     "output_type": "execute_result"
    }
   ],
   "source": [
    "people = pd.DataFrame(np.random.randn(5, 5),\n",
    "                   columns=['a', 'b', 'c', 'd', 'e'],\n",
    "                   index=['Joe', 'Steve', 'Wes', 'Jim', 'Travis'])\n",
    "people.loc[2:3, ['b', 'c']] = np.nan\n",
    "people"
   ],
   "metadata": {
    "collapsed": false,
    "pycharm": {
     "name": "#%%\n"
    }
   }
  },
  {
   "cell_type": "code",
   "execution_count": 210,
   "outputs": [
    {
     "data": {
      "text/plain": "        blue   red\nJoe     True  True\nSteve   True  True\nWes     True  True\nJim     True  True\nTravis  True  True",
      "text/html": "<div>\n<style scoped>\n    .dataframe tbody tr th:only-of-type {\n        vertical-align: middle;\n    }\n\n    .dataframe tbody tr th {\n        vertical-align: top;\n    }\n\n    .dataframe thead th {\n        text-align: right;\n    }\n</style>\n<table border=\"1\" class=\"dataframe\">\n  <thead>\n    <tr style=\"text-align: right;\">\n      <th></th>\n      <th>blue</th>\n      <th>red</th>\n    </tr>\n  </thead>\n  <tbody>\n    <tr>\n      <th>Joe</th>\n      <td>True</td>\n      <td>True</td>\n    </tr>\n    <tr>\n      <th>Steve</th>\n      <td>True</td>\n      <td>True</td>\n    </tr>\n    <tr>\n      <th>Wes</th>\n      <td>True</td>\n      <td>True</td>\n    </tr>\n    <tr>\n      <th>Jim</th>\n      <td>True</td>\n      <td>True</td>\n    </tr>\n    <tr>\n      <th>Travis</th>\n      <td>True</td>\n      <td>True</td>\n    </tr>\n  </tbody>\n</table>\n</div>"
     },
     "execution_count": 210,
     "metadata": {},
     "output_type": "execute_result"
    }
   ],
   "source": [
    "mapping = {'a': 'red', 'b': 'red', 'c': 'blue',\n",
    "            'd': 'blue', 'e': 'red', 'f' : 'orange'}\n",
    "\n",
    "c_m = people.groupby(by=mapping, axis=1)\n",
    "c_m.all()"
   ],
   "metadata": {
    "collapsed": false,
    "pycharm": {
     "name": "#%%\n"
    }
   }
  },
  {
   "cell_type": "code",
   "execution_count": 211,
   "outputs": [
    {
     "data": {
      "text/plain": "            blue       red\nJoe     0.178282 -0.365199\nSteve  -2.355373 -0.303984\nWes    -0.346289 -0.001418\nJim     3.167498 -0.767318\nTravis  0.978761  4.665084",
      "text/html": "<div>\n<style scoped>\n    .dataframe tbody tr th:only-of-type {\n        vertical-align: middle;\n    }\n\n    .dataframe tbody tr th {\n        vertical-align: top;\n    }\n\n    .dataframe thead th {\n        text-align: right;\n    }\n</style>\n<table border=\"1\" class=\"dataframe\">\n  <thead>\n    <tr style=\"text-align: right;\">\n      <th></th>\n      <th>blue</th>\n      <th>red</th>\n    </tr>\n  </thead>\n  <tbody>\n    <tr>\n      <th>Joe</th>\n      <td>0.178282</td>\n      <td>-0.365199</td>\n    </tr>\n    <tr>\n      <th>Steve</th>\n      <td>-2.355373</td>\n      <td>-0.303984</td>\n    </tr>\n    <tr>\n      <th>Wes</th>\n      <td>-0.346289</td>\n      <td>-0.001418</td>\n    </tr>\n    <tr>\n      <th>Jim</th>\n      <td>3.167498</td>\n      <td>-0.767318</td>\n    </tr>\n    <tr>\n      <th>Travis</th>\n      <td>0.978761</td>\n      <td>4.665084</td>\n    </tr>\n  </tbody>\n</table>\n</div>"
     },
     "execution_count": 211,
     "metadata": {},
     "output_type": "execute_result"
    }
   ],
   "source": [
    "c_m.sum()"
   ],
   "metadata": {
    "collapsed": false,
    "pycharm": {
     "name": "#%%\n"
    }
   }
  },
  {
   "cell_type": "code",
   "execution_count": 212,
   "outputs": [
    {
     "data": {
      "text/plain": "        1  2\nJoe     5  1\nSteve   5  1\nWes     3  0\nJim     5  1\nTravis  5  1",
      "text/html": "<div>\n<style scoped>\n    .dataframe tbody tr th:only-of-type {\n        vertical-align: middle;\n    }\n\n    .dataframe tbody tr th {\n        vertical-align: top;\n    }\n\n    .dataframe thead th {\n        text-align: right;\n    }\n</style>\n<table border=\"1\" class=\"dataframe\">\n  <thead>\n    <tr style=\"text-align: right;\">\n      <th></th>\n      <th>1</th>\n      <th>2</th>\n    </tr>\n  </thead>\n  <tbody>\n    <tr>\n      <th>Joe</th>\n      <td>5</td>\n      <td>1</td>\n    </tr>\n    <tr>\n      <th>Steve</th>\n      <td>5</td>\n      <td>1</td>\n    </tr>\n    <tr>\n      <th>Wes</th>\n      <td>3</td>\n      <td>0</td>\n    </tr>\n    <tr>\n      <th>Jim</th>\n      <td>5</td>\n      <td>1</td>\n    </tr>\n    <tr>\n      <th>Travis</th>\n      <td>5</td>\n      <td>1</td>\n    </tr>\n  </tbody>\n</table>\n</div>"
     },
     "execution_count": 212,
     "metadata": {},
     "output_type": "execute_result"
    }
   ],
   "source": [
    "people['aa'] = people['a'] - people['b']\n",
    "people.groupby(len, axis=1).count()"
   ],
   "metadata": {
    "collapsed": false,
    "pycharm": {
     "name": "#%%\n"
    }
   }
  },
  {
   "cell_type": "code",
   "execution_count": 213,
   "outputs": [
    {
     "data": {
      "text/plain": "     total_bill   tip smoker   day    time  size       t_p\n0         16.99  1.01     No   Sun  Dinner     2  0.059447\n1         10.34  1.66     No   Sun  Dinner     3  0.160542\n2         21.01  3.50     No   Sun  Dinner     3  0.166587\n3         23.68  3.31     No   Sun  Dinner     2  0.139780\n4         24.59  3.61     No   Sun  Dinner     4  0.146808\n..          ...   ...    ...   ...     ...   ...       ...\n239       29.03  5.92     No   Sat  Dinner     3  0.203927\n240       27.18  2.00    Yes   Sat  Dinner     2  0.073584\n241       22.67  2.00    Yes   Sat  Dinner     2  0.088222\n242       17.82  1.75     No   Sat  Dinner     2  0.098204\n243       18.78  3.00     No  Thur  Dinner     2  0.159744\n\n[244 rows x 7 columns]",
      "text/html": "<div>\n<style scoped>\n    .dataframe tbody tr th:only-of-type {\n        vertical-align: middle;\n    }\n\n    .dataframe tbody tr th {\n        vertical-align: top;\n    }\n\n    .dataframe thead th {\n        text-align: right;\n    }\n</style>\n<table border=\"1\" class=\"dataframe\">\n  <thead>\n    <tr style=\"text-align: right;\">\n      <th></th>\n      <th>total_bill</th>\n      <th>tip</th>\n      <th>smoker</th>\n      <th>day</th>\n      <th>time</th>\n      <th>size</th>\n      <th>t_p</th>\n    </tr>\n  </thead>\n  <tbody>\n    <tr>\n      <th>0</th>\n      <td>16.99</td>\n      <td>1.01</td>\n      <td>No</td>\n      <td>Sun</td>\n      <td>Dinner</td>\n      <td>2</td>\n      <td>0.059447</td>\n    </tr>\n    <tr>\n      <th>1</th>\n      <td>10.34</td>\n      <td>1.66</td>\n      <td>No</td>\n      <td>Sun</td>\n      <td>Dinner</td>\n      <td>3</td>\n      <td>0.160542</td>\n    </tr>\n    <tr>\n      <th>2</th>\n      <td>21.01</td>\n      <td>3.50</td>\n      <td>No</td>\n      <td>Sun</td>\n      <td>Dinner</td>\n      <td>3</td>\n      <td>0.166587</td>\n    </tr>\n    <tr>\n      <th>3</th>\n      <td>23.68</td>\n      <td>3.31</td>\n      <td>No</td>\n      <td>Sun</td>\n      <td>Dinner</td>\n      <td>2</td>\n      <td>0.139780</td>\n    </tr>\n    <tr>\n      <th>4</th>\n      <td>24.59</td>\n      <td>3.61</td>\n      <td>No</td>\n      <td>Sun</td>\n      <td>Dinner</td>\n      <td>4</td>\n      <td>0.146808</td>\n    </tr>\n    <tr>\n      <th>...</th>\n      <td>...</td>\n      <td>...</td>\n      <td>...</td>\n      <td>...</td>\n      <td>...</td>\n      <td>...</td>\n      <td>...</td>\n    </tr>\n    <tr>\n      <th>239</th>\n      <td>29.03</td>\n      <td>5.92</td>\n      <td>No</td>\n      <td>Sat</td>\n      <td>Dinner</td>\n      <td>3</td>\n      <td>0.203927</td>\n    </tr>\n    <tr>\n      <th>240</th>\n      <td>27.18</td>\n      <td>2.00</td>\n      <td>Yes</td>\n      <td>Sat</td>\n      <td>Dinner</td>\n      <td>2</td>\n      <td>0.073584</td>\n    </tr>\n    <tr>\n      <th>241</th>\n      <td>22.67</td>\n      <td>2.00</td>\n      <td>Yes</td>\n      <td>Sat</td>\n      <td>Dinner</td>\n      <td>2</td>\n      <td>0.088222</td>\n    </tr>\n    <tr>\n      <th>242</th>\n      <td>17.82</td>\n      <td>1.75</td>\n      <td>No</td>\n      <td>Sat</td>\n      <td>Dinner</td>\n      <td>2</td>\n      <td>0.098204</td>\n    </tr>\n    <tr>\n      <th>243</th>\n      <td>18.78</td>\n      <td>3.00</td>\n      <td>No</td>\n      <td>Thur</td>\n      <td>Dinner</td>\n      <td>2</td>\n      <td>0.159744</td>\n    </tr>\n  </tbody>\n</table>\n<p>244 rows × 7 columns</p>\n</div>"
     },
     "execution_count": 213,
     "metadata": {},
     "output_type": "execute_result"
    }
   ],
   "source": [
    "df = pd.read_csv('../../examples/tips.csv')\n",
    "df['t_p'] = df['tip']/df['total_bill']\n",
    "df"
   ],
   "metadata": {
    "collapsed": false,
    "pycharm": {
     "name": "#%%\n"
    }
   }
  },
  {
   "cell_type": "code",
   "execution_count": 214,
   "outputs": [
    {
     "data": {
      "text/plain": "day   smoker\nFri   No        0.151650\n      Yes       0.174783\nSat   No        0.158048\n      Yes       0.147906\nSun   No        0.160113\n      Yes       0.187250\nThur  No        0.160298\n      Yes       0.163863\nName: t_p, dtype: float64"
     },
     "execution_count": 214,
     "metadata": {},
     "output_type": "execute_result"
    }
   ],
   "source": [
    "gr = df.groupby(['day', 'smoker'])\n",
    "p_ = gr.agg('mean')['t_p']\n",
    "p_"
   ],
   "metadata": {
    "collapsed": false,
    "pycharm": {
     "name": "#%%\n"
    }
   }
  },
  {
   "cell_type": "code",
   "execution_count": 215,
   "outputs": [
    {
     "data": {
      "text/plain": "<AxesSubplot:xlabel='day,smoker', ylabel='MEAN'>"
     },
     "execution_count": 215,
     "metadata": {},
     "output_type": "execute_result"
    },
    {
     "data": {
      "text/plain": "<Figure size 432x288 with 1 Axes>",
      "image/png": "[encoded data removed]"
     },
     "metadata": {
      "needs_background": "light"
     },
     "output_type": "display_data"
    }
   ],
   "source": [
    "p_.plot.bar(ylabel='MEAN')"
   ],
   "metadata": {
    "collapsed": false,
    "pycharm": {
     "name": "#%%\n"
    }
   }
  },
  {
   "cell_type": "code",
   "execution_count": 216,
   "outputs": [
    {
     "data": {
      "text/plain": "day   smoker\nFri   No                                                 NoNoNoNo\n      Yes           YesYesYesYesYesYesYesYesYesYesYesYesYesYesYes\nSat   No        NoNoNoNoNoNoNoNoNoNoNoNoNoNoNoNoNoNoNoNoNoNoNo...\n      Yes       YesYesYesYesYesYesYesYesYesYesYesYesYesYesYesY...\nSun   No        NoNoNoNoNoNoNoNoNoNoNoNoNoNoNoNoNoNoNoNoNoNoNo...\n      Yes       YesYesYesYesYesYesYesYesYesYesYesYesYesYesYesY...\nThur  No        NoNoNoNoNoNoNoNoNoNoNoNoNoNoNoNoNoNoNoNoNoNoNo...\n      Yes       YesYesYesYesYesYesYesYesYesYesYesYesYesYesYesY...\nName: smoker, dtype: object"
     },
     "execution_count": 216,
     "metadata": {},
     "output_type": "execute_result"
    }
   ],
   "source": [
    "gr['smoker'].sum()"
   ],
   "metadata": {
    "collapsed": false,
    "pycharm": {
     "name": "#%%\n"
    }
   }
  },
  {
   "cell_type": "code",
   "execution_count": 217,
   "outputs": [
    {
     "data": {
      "text/plain": "<AxesSubplot:xlabel='day', ylabel='mean value'>"
     },
     "execution_count": 217,
     "metadata": {},
     "output_type": "execute_result"
    },
    {
     "data": {
      "text/plain": "<Figure size 432x288 with 1 Axes>",
      "image/png": "[encoded data removed]"
     },
     "metadata": {
      "needs_background": "light"
     },
     "output_type": "display_data"
    }
   ],
   "source": [
    "df[df['smoker'] == 'Yes'].groupby(['day'])['t_p'].agg(['mean']).plot.bar(ylabel='mean value')"
   ],
   "metadata": {
    "collapsed": false,
    "pycharm": {
     "name": "#%%\n"
    }
   }
  },
  {
   "cell_type": "code",
   "execution_count": 218,
   "outputs": [
    {
     "name": "stderr",
     "output_type": "stream",
     "text": [
      "C:\\Users\\asargsyan\\AppData\\Local\\Temp\\ipykernel_9956\\4222406472.py:2: FutureWarning: Indexing with multiple keys (implicitly converted to a tuple of keys) will be deprecated, use a list instead.\n",
      "  res = gr['t_p', 'total_bill'].agg(fs)\n"
     ]
    },
    {
     "data": {
      "text/plain": "              t_p                     total_bill                  \n            count      mean       max      count       mean    max\nday  smoker                                                       \nFri  No         4  0.151650  0.187735          4  18.420000  22.75\n     Yes       15  0.174783  0.263480         15  16.813333  40.17\nSat  No        45  0.158048  0.291990         45  19.661778  48.33\n     Yes       42  0.147906  0.325733         42  21.276667  50.81\nSun  No        57  0.160113  0.252672         57  20.506667  48.17\n     Yes       19  0.187250  0.710345         19  24.120000  45.35\nThur No        45  0.160298  0.266312         45  17.113111  41.19\n     Yes       17  0.163863  0.241255         17  19.190588  43.11",
      "text/html": "<div>\n<style scoped>\n    .dataframe tbody tr th:only-of-type {\n        vertical-align: middle;\n    }\n\n    .dataframe tbody tr th {\n        vertical-align: top;\n    }\n\n    .dataframe thead tr th {\n        text-align: left;\n    }\n\n    .dataframe thead tr:last-of-type th {\n        text-align: right;\n    }\n</style>\n<table border=\"1\" class=\"dataframe\">\n  <thead>\n    <tr>\n      <th></th>\n      <th></th>\n      <th colspan=\"3\" halign=\"left\">t_p</th>\n      <th colspan=\"3\" halign=\"left\">total_bill</th>\n    </tr>\n    <tr>\n      <th></th>\n      <th></th>\n      <th>count</th>\n      <th>mean</th>\n      <th>max</th>\n      <th>count</th>\n      <th>mean</th>\n      <th>max</th>\n    </tr>\n    <tr>\n      <th>day</th>\n      <th>smoker</th>\n      <th></th>\n      <th></th>\n      <th></th>\n      <th></th>\n      <th></th>\n      <th></th>\n    </tr>\n  </thead>\n  <tbody>\n    <tr>\n      <th rowspan=\"2\" valign=\"top\">Fri</th>\n      <th>No</th>\n      <td>4</td>\n      <td>0.151650</td>\n      <td>0.187735</td>\n      <td>4</td>\n      <td>18.420000</td>\n      <td>22.75</td>\n    </tr>\n    <tr>\n      <th>Yes</th>\n      <td>15</td>\n      <td>0.174783</td>\n      <td>0.263480</td>\n      <td>15</td>\n      <td>16.813333</td>\n      <td>40.17</td>\n    </tr>\n    <tr>\n      <th rowspan=\"2\" valign=\"top\">Sat</th>\n      <th>No</th>\n      <td>45</td>\n      <td>0.158048</td>\n      <td>0.291990</td>\n      <td>45</td>\n      <td>19.661778</td>\n      <td>48.33</td>\n    </tr>\n    <tr>\n      <th>Yes</th>\n      <td>42</td>\n      <td>0.147906</td>\n      <td>0.325733</td>\n      <td>42</td>\n      <td>21.276667</td>\n      <td>50.81</td>\n    </tr>\n    <tr>\n      <th rowspan=\"2\" valign=\"top\">Sun</th>\n      <th>No</th>\n      <td>57</td>\n      <td>0.160113</td>\n      <td>0.252672</td>\n      <td>57</td>\n      <td>20.506667</td>\n      <td>48.17</td>\n    </tr>\n    <tr>\n      <th>Yes</th>\n      <td>19</td>\n      <td>0.187250</td>\n      <td>0.710345</td>\n      <td>19</td>\n      <td>24.120000</td>\n      <td>45.35</td>\n    </tr>\n    <tr>\n      <th rowspan=\"2\" valign=\"top\">Thur</th>\n      <th>No</th>\n      <td>45</td>\n      <td>0.160298</td>\n      <td>0.266312</td>\n      <td>45</td>\n      <td>17.113111</td>\n      <td>41.19</td>\n    </tr>\n    <tr>\n      <th>Yes</th>\n      <td>17</td>\n      <td>0.163863</td>\n      <td>0.241255</td>\n      <td>17</td>\n      <td>19.190588</td>\n      <td>43.11</td>\n    </tr>\n  </tbody>\n</table>\n</div>"
     },
     "execution_count": 218,
     "metadata": {},
     "output_type": "execute_result"
    }
   ],
   "source": [
    "fs = ['count', 'mean', 'max']\n",
    "res = gr['t_p', 'total_bill'].agg(fs)\n",
    "\n",
    "res"
   ],
   "metadata": {
    "collapsed": false,
    "pycharm": {
     "name": "#%%\n"
    }
   }
  },
  {
   "cell_type": "code",
   "execution_count": 219,
   "outputs": [
    {
     "data": {
      "text/plain": "<AxesSubplot:xlabel='day,smoker'>"
     },
     "execution_count": 219,
     "metadata": {},
     "output_type": "execute_result"
    },
    {
     "data": {
      "text/plain": "<Figure size 432x288 with 1 Axes>",
      "image/png": "[encoded data removed]"
     },
     "metadata": {
      "needs_background": "light"
     },
     "output_type": "display_data"
    }
   ],
   "source": [
    "res.plot.bar()"
   ],
   "metadata": {
    "collapsed": false,
    "pycharm": {
     "name": "#%%\n"
    }
   }
  },
  {
   "cell_type": "code",
   "execution_count": 220,
   "outputs": [
    {
     "data": {
      "text/plain": "             count      mean       max\nday  smoker                           \nFri  No          4  0.151650  0.187735\n     Yes        15  0.174783  0.263480\nSat  No         45  0.158048  0.291990\n     Yes        42  0.147906  0.325733\nSun  No         57  0.160113  0.252672\n     Yes        19  0.187250  0.710345\nThur No         45  0.160298  0.266312\n     Yes        17  0.163863  0.241255",
      "text/html": "<div>\n<style scoped>\n    .dataframe tbody tr th:only-of-type {\n        vertical-align: middle;\n    }\n\n    .dataframe tbody tr th {\n        vertical-align: top;\n    }\n\n    .dataframe thead th {\n        text-align: right;\n    }\n</style>\n<table border=\"1\" class=\"dataframe\">\n  <thead>\n    <tr style=\"text-align: right;\">\n      <th></th>\n      <th></th>\n      <th>count</th>\n      <th>mean</th>\n      <th>max</th>\n    </tr>\n    <tr>\n      <th>day</th>\n      <th>smoker</th>\n      <th></th>\n      <th></th>\n      <th></th>\n    </tr>\n  </thead>\n  <tbody>\n    <tr>\n      <th rowspan=\"2\" valign=\"top\">Fri</th>\n      <th>No</th>\n      <td>4</td>\n      <td>0.151650</td>\n      <td>0.187735</td>\n    </tr>\n    <tr>\n      <th>Yes</th>\n      <td>15</td>\n      <td>0.174783</td>\n      <td>0.263480</td>\n    </tr>\n    <tr>\n      <th rowspan=\"2\" valign=\"top\">Sat</th>\n      <th>No</th>\n      <td>45</td>\n      <td>0.158048</td>\n      <td>0.291990</td>\n    </tr>\n    <tr>\n      <th>Yes</th>\n      <td>42</td>\n      <td>0.147906</td>\n      <td>0.325733</td>\n    </tr>\n    <tr>\n      <th rowspan=\"2\" valign=\"top\">Sun</th>\n      <th>No</th>\n      <td>57</td>\n      <td>0.160113</td>\n      <td>0.252672</td>\n    </tr>\n    <tr>\n      <th>Yes</th>\n      <td>19</td>\n      <td>0.187250</td>\n      <td>0.710345</td>\n    </tr>\n    <tr>\n      <th rowspan=\"2\" valign=\"top\">Thur</th>\n      <th>No</th>\n      <td>45</td>\n      <td>0.160298</td>\n      <td>0.266312</td>\n    </tr>\n    <tr>\n      <th>Yes</th>\n      <td>17</td>\n      <td>0.163863</td>\n      <td>0.241255</td>\n    </tr>\n  </tbody>\n</table>\n</div>"
     },
     "execution_count": 220,
     "metadata": {},
     "output_type": "execute_result"
    }
   ],
   "source": [
    "res['t_p']"
   ],
   "metadata": {
    "collapsed": false,
    "pycharm": {
     "name": "#%%\n"
    }
   }
  },
  {
   "cell_type": "code",
   "execution_count": 221,
   "outputs": [
    {
     "data": {
      "text/plain": "count    4.000000\nmean     0.151650\nmax      0.187735\nName: No, dtype: float64"
     },
     "execution_count": 221,
     "metadata": {},
     "output_type": "execute_result"
    }
   ],
   "source": [
    "res['t_p'].loc['Fri',:].loc['No', :]"
   ],
   "metadata": {
    "collapsed": false,
    "pycharm": {
     "name": "#%%\n"
    }
   }
  },
  {
   "cell_type": "code",
   "execution_count": 222,
   "outputs": [
    {
     "data": {
      "text/plain": "     total_bill   tip smoker   day    time  size       t_p\n0         16.99  1.01     No   Sun  Dinner     2  0.059447\n1         10.34  1.66     No   Sun  Dinner     3  0.160542\n2         21.01  3.50     No   Sun  Dinner     3  0.166587\n3         23.68  3.31     No   Sun  Dinner     2  0.139780\n4         24.59  3.61     No   Sun  Dinner     4  0.146808\n..          ...   ...    ...   ...     ...   ...       ...\n239       29.03  5.92     No   Sat  Dinner     3  0.203927\n240       27.18  2.00    Yes   Sat  Dinner     2  0.073584\n241       22.67  2.00    Yes   Sat  Dinner     2  0.088222\n242       17.82  1.75     No   Sat  Dinner     2  0.098204\n243       18.78  3.00     No  Thur  Dinner     2  0.159744\n\n[244 rows x 7 columns]",
      "text/html": "<div>\n<style scoped>\n    .dataframe tbody tr th:only-of-type {\n        vertical-align: middle;\n    }\n\n    .dataframe tbody tr th {\n        vertical-align: top;\n    }\n\n    .dataframe thead th {\n        text-align: right;\n    }\n</style>\n<table border=\"1\" class=\"dataframe\">\n  <thead>\n    <tr style=\"text-align: right;\">\n      <th></th>\n      <th>total_bill</th>\n      <th>tip</th>\n      <th>smoker</th>\n      <th>day</th>\n      <th>time</th>\n      <th>size</th>\n      <th>t_p</th>\n    </tr>\n  </thead>\n  <tbody>\n    <tr>\n      <th>0</th>\n      <td>16.99</td>\n      <td>1.01</td>\n      <td>No</td>\n      <td>Sun</td>\n      <td>Dinner</td>\n      <td>2</td>\n      <td>0.059447</td>\n    </tr>\n    <tr>\n      <th>1</th>\n      <td>10.34</td>\n      <td>1.66</td>\n      <td>No</td>\n      <td>Sun</td>\n      <td>Dinner</td>\n      <td>3</td>\n      <td>0.160542</td>\n    </tr>\n    <tr>\n      <th>2</th>\n      <td>21.01</td>\n      <td>3.50</td>\n      <td>No</td>\n      <td>Sun</td>\n      <td>Dinner</td>\n      <td>3</td>\n      <td>0.166587</td>\n    </tr>\n    <tr>\n      <th>3</th>\n      <td>23.68</td>\n      <td>3.31</td>\n      <td>No</td>\n      <td>Sun</td>\n      <td>Dinner</td>\n      <td>2</td>\n      <td>0.139780</td>\n    </tr>\n    <tr>\n      <th>4</th>\n      <td>24.59</td>\n      <td>3.61</td>\n      <td>No</td>\n      <td>Sun</td>\n      <td>Dinner</td>\n      <td>4</td>\n      <td>0.146808</td>\n    </tr>\n    <tr>\n      <th>...</th>\n      <td>...</td>\n      <td>...</td>\n      <td>...</td>\n      <td>...</td>\n      <td>...</td>\n      <td>...</td>\n      <td>...</td>\n    </tr>\n    <tr>\n      <th>239</th>\n      <td>29.03</td>\n      <td>5.92</td>\n      <td>No</td>\n      <td>Sat</td>\n      <td>Dinner</td>\n      <td>3</td>\n      <td>0.203927</td>\n    </tr>\n    <tr>\n      <th>240</th>\n      <td>27.18</td>\n      <td>2.00</td>\n      <td>Yes</td>\n      <td>Sat</td>\n      <td>Dinner</td>\n      <td>2</td>\n      <td>0.073584</td>\n    </tr>\n    <tr>\n      <th>241</th>\n      <td>22.67</td>\n      <td>2.00</td>\n      <td>Yes</td>\n      <td>Sat</td>\n      <td>Dinner</td>\n      <td>2</td>\n      <td>0.088222</td>\n    </tr>\n    <tr>\n      <th>242</th>\n      <td>17.82</td>\n      <td>1.75</td>\n      <td>No</td>\n      <td>Sat</td>\n      <td>Dinner</td>\n      <td>2</td>\n      <td>0.098204</td>\n    </tr>\n    <tr>\n      <th>243</th>\n      <td>18.78</td>\n      <td>3.00</td>\n      <td>No</td>\n      <td>Thur</td>\n      <td>Dinner</td>\n      <td>2</td>\n      <td>0.159744</td>\n    </tr>\n  </tbody>\n</table>\n<p>244 rows × 7 columns</p>\n</div>"
     },
     "execution_count": 222,
     "metadata": {},
     "output_type": "execute_result"
    }
   ],
   "source": [
    "df"
   ],
   "metadata": {
    "collapsed": false,
    "pycharm": {
     "name": "#%%\n"
    }
   }
  },
  {
   "cell_type": "code",
   "execution_count": 223,
   "outputs": [
    {
     "data": {
      "text/plain": "     total_bill   tip  size       t_p\n0         16.99  1.01     2  0.059447\n1         10.34  1.66     3  0.160542\n2         21.01  3.50     3  0.166587\n3         23.68  3.31     2  0.139780\n4         24.59  3.61     4  0.146808\n..          ...   ...   ...       ...\n239       29.03  5.92     3  0.203927\n240       27.18  2.00     2  0.073584\n241       22.67  2.00     2  0.088222\n242       17.82  1.75     2  0.098204\n243       18.78  3.00     2  0.159744\n\n[244 rows x 4 columns]",
      "text/html": "<div>\n<style scoped>\n    .dataframe tbody tr th:only-of-type {\n        vertical-align: middle;\n    }\n\n    .dataframe tbody tr th {\n        vertical-align: top;\n    }\n\n    .dataframe thead th {\n        text-align: right;\n    }\n</style>\n<table border=\"1\" class=\"dataframe\">\n  <thead>\n    <tr style=\"text-align: right;\">\n      <th></th>\n      <th>total_bill</th>\n      <th>tip</th>\n      <th>size</th>\n      <th>t_p</th>\n    </tr>\n  </thead>\n  <tbody>\n    <tr>\n      <th>0</th>\n      <td>16.99</td>\n      <td>1.01</td>\n      <td>2</td>\n      <td>0.059447</td>\n    </tr>\n    <tr>\n      <th>1</th>\n      <td>10.34</td>\n      <td>1.66</td>\n      <td>3</td>\n      <td>0.160542</td>\n    </tr>\n    <tr>\n      <th>2</th>\n      <td>21.01</td>\n      <td>3.50</td>\n      <td>3</td>\n      <td>0.166587</td>\n    </tr>\n    <tr>\n      <th>3</th>\n      <td>23.68</td>\n      <td>3.31</td>\n      <td>2</td>\n      <td>0.139780</td>\n    </tr>\n    <tr>\n      <th>4</th>\n      <td>24.59</td>\n      <td>3.61</td>\n      <td>4</td>\n      <td>0.146808</td>\n    </tr>\n    <tr>\n      <th>...</th>\n      <td>...</td>\n      <td>...</td>\n      <td>...</td>\n      <td>...</td>\n    </tr>\n    <tr>\n      <th>239</th>\n      <td>29.03</td>\n      <td>5.92</td>\n      <td>3</td>\n      <td>0.203927</td>\n    </tr>\n    <tr>\n      <th>240</th>\n      <td>27.18</td>\n      <td>2.00</td>\n      <td>2</td>\n      <td>0.073584</td>\n    </tr>\n    <tr>\n      <th>241</th>\n      <td>22.67</td>\n      <td>2.00</td>\n      <td>2</td>\n      <td>0.088222</td>\n    </tr>\n    <tr>\n      <th>242</th>\n      <td>17.82</td>\n      <td>1.75</td>\n      <td>2</td>\n      <td>0.098204</td>\n    </tr>\n    <tr>\n      <th>243</th>\n      <td>18.78</td>\n      <td>3.00</td>\n      <td>2</td>\n      <td>0.159744</td>\n    </tr>\n  </tbody>\n</table>\n<p>244 rows × 4 columns</p>\n</div>"
     },
     "execution_count": 223,
     "metadata": {},
     "output_type": "execute_result"
    }
   ],
   "source": [
    "df.groupby(lambda x: x).sum()"
   ],
   "metadata": {
    "collapsed": false,
    "pycharm": {
     "name": "#%%\n"
    }
   }
  },
  {
   "cell_type": "code",
   "execution_count": 224,
   "outputs": [
    {
     "ename": "TypeError",
     "evalue": "unsupported operand type(s) for /: 'str' and 'str'",
     "output_type": "error",
     "traceback": [
      "\u001B[1;31m---------------------------------------------------------------------------\u001B[0m",
      "\u001B[1;31mTypeError\u001B[0m                                 Traceback (most recent call last)",
      "File \u001B[1;32md:\\projects\\python\\fastapi\\test\\venv\\lib\\site-packages\\pandas\\core\\ops\\array_ops.py:163\u001B[0m, in \u001B[0;36m_na_arithmetic_op\u001B[1;34m(left, right, op, is_cmp)\u001B[0m\n\u001B[0;32m    162\u001B[0m \u001B[38;5;28;01mtry\u001B[39;00m:\n\u001B[1;32m--> 163\u001B[0m     result \u001B[38;5;241m=\u001B[39m \u001B[43mfunc\u001B[49m\u001B[43m(\u001B[49m\u001B[43mleft\u001B[49m\u001B[43m,\u001B[49m\u001B[43m \u001B[49m\u001B[43mright\u001B[49m\u001B[43m)\u001B[49m\n\u001B[0;32m    164\u001B[0m \u001B[38;5;28;01mexcept\u001B[39;00m \u001B[38;5;167;01mTypeError\u001B[39;00m:\n",
      "File \u001B[1;32md:\\projects\\python\\fastapi\\test\\venv\\lib\\site-packages\\pandas\\core\\computation\\expressions.py:239\u001B[0m, in \u001B[0;36mevaluate\u001B[1;34m(op, a, b, use_numexpr)\u001B[0m\n\u001B[0;32m    237\u001B[0m     \u001B[38;5;28;01mif\u001B[39;00m use_numexpr:\n\u001B[0;32m    238\u001B[0m         \u001B[38;5;66;03m# error: \"None\" not callable\u001B[39;00m\n\u001B[1;32m--> 239\u001B[0m         \u001B[38;5;28;01mreturn\u001B[39;00m \u001B[43m_evaluate\u001B[49m\u001B[43m(\u001B[49m\u001B[43mop\u001B[49m\u001B[43m,\u001B[49m\u001B[43m \u001B[49m\u001B[43mop_str\u001B[49m\u001B[43m,\u001B[49m\u001B[43m \u001B[49m\u001B[43ma\u001B[49m\u001B[43m,\u001B[49m\u001B[43m \u001B[49m\u001B[43mb\u001B[49m\u001B[43m)\u001B[49m  \u001B[38;5;66;03m# type: ignore[misc]\u001B[39;00m\n\u001B[0;32m    240\u001B[0m \u001B[38;5;28;01mreturn\u001B[39;00m _evaluate_standard(op, op_str, a, b)\n",
      "File \u001B[1;32md:\\projects\\python\\fastapi\\test\\venv\\lib\\site-packages\\pandas\\core\\computation\\expressions.py:69\u001B[0m, in \u001B[0;36m_evaluate_standard\u001B[1;34m(op, op_str, a, b)\u001B[0m\n\u001B[0;32m     68\u001B[0m     _store_test_result(\u001B[38;5;28;01mFalse\u001B[39;00m)\n\u001B[1;32m---> 69\u001B[0m \u001B[38;5;28;01mreturn\u001B[39;00m \u001B[43mop\u001B[49m\u001B[43m(\u001B[49m\u001B[43ma\u001B[49m\u001B[43m,\u001B[49m\u001B[43m \u001B[49m\u001B[43mb\u001B[49m\u001B[43m)\u001B[49m\n",
      "\u001B[1;31mTypeError\u001B[0m: unsupported operand type(s) for /: 'str' and 'float'",
      "\nDuring handling of the above exception, another exception occurred:\n",
      "\u001B[1;31mTypeError\u001B[0m                                 Traceback (most recent call last)",
      "Input \u001B[1;32mIn [224]\u001B[0m, in \u001B[0;36m<cell line: 1>\u001B[1;34m()\u001B[0m\n\u001B[1;32m----> 1\u001B[0m \u001B[43mdf\u001B[49m\u001B[38;5;241;43m.\u001B[39;49m\u001B[43mpct_change\u001B[49m\u001B[43m(\u001B[49m\u001B[43m)\u001B[49m\n",
      "File \u001B[1;32md:\\projects\\python\\fastapi\\test\\venv\\lib\\site-packages\\pandas\\core\\generic.py:10376\u001B[0m, in \u001B[0;36mNDFrame.pct_change\u001B[1;34m(self, periods, fill_method, limit, freq, **kwargs)\u001B[0m\n\u001B[0;32m  10374\u001B[0m shifted \u001B[38;5;241m=\u001B[39m data\u001B[38;5;241m.\u001B[39mshift(periods\u001B[38;5;241m=\u001B[39mperiods, freq\u001B[38;5;241m=\u001B[39mfreq, axis\u001B[38;5;241m=\u001B[39maxis, \u001B[38;5;241m*\u001B[39m\u001B[38;5;241m*\u001B[39mkwargs)\n\u001B[0;32m  10375\u001B[0m \u001B[38;5;66;03m# Unsupported left operand type for / (\"NDFrameT\")\u001B[39;00m\n\u001B[1;32m> 10376\u001B[0m rs \u001B[38;5;241m=\u001B[39m \u001B[43mdata\u001B[49m\u001B[43m \u001B[49m\u001B[38;5;241;43m/\u001B[39;49m\u001B[43m \u001B[49m\u001B[43mshifted\u001B[49m \u001B[38;5;241m-\u001B[39m \u001B[38;5;241m1\u001B[39m  \u001B[38;5;66;03m# type: ignore[operator]\u001B[39;00m\n\u001B[0;32m  10377\u001B[0m \u001B[38;5;28;01mif\u001B[39;00m freq \u001B[38;5;129;01mis\u001B[39;00m \u001B[38;5;129;01mnot\u001B[39;00m \u001B[38;5;28;01mNone\u001B[39;00m:\n\u001B[0;32m  10378\u001B[0m     \u001B[38;5;66;03m# Shift method is implemented differently when freq is not None\u001B[39;00m\n\u001B[0;32m  10379\u001B[0m     \u001B[38;5;66;03m# We want to restore the original index\u001B[39;00m\n\u001B[0;32m  10380\u001B[0m     rs \u001B[38;5;241m=\u001B[39m rs\u001B[38;5;241m.\u001B[39mloc[\u001B[38;5;241m~\u001B[39mrs\u001B[38;5;241m.\u001B[39mindex\u001B[38;5;241m.\u001B[39mduplicated()]\n",
      "File \u001B[1;32md:\\projects\\python\\fastapi\\test\\venv\\lib\\site-packages\\pandas\\core\\ops\\common.py:70\u001B[0m, in \u001B[0;36m_unpack_zerodim_and_defer.<locals>.new_method\u001B[1;34m(self, other)\u001B[0m\n\u001B[0;32m     66\u001B[0m             \u001B[38;5;28;01mreturn\u001B[39;00m \u001B[38;5;28mNotImplemented\u001B[39m\n\u001B[0;32m     68\u001B[0m other \u001B[38;5;241m=\u001B[39m item_from_zerodim(other)\n\u001B[1;32m---> 70\u001B[0m \u001B[38;5;28;01mreturn\u001B[39;00m \u001B[43mmethod\u001B[49m\u001B[43m(\u001B[49m\u001B[38;5;28;43mself\u001B[39;49m\u001B[43m,\u001B[49m\u001B[43m \u001B[49m\u001B[43mother\u001B[49m\u001B[43m)\u001B[49m\n",
      "File \u001B[1;32md:\\projects\\python\\fastapi\\test\\venv\\lib\\site-packages\\pandas\\core\\arraylike.py:124\u001B[0m, in \u001B[0;36mOpsMixin.__truediv__\u001B[1;34m(self, other)\u001B[0m\n\u001B[0;32m    122\u001B[0m \u001B[38;5;129m@unpack_zerodim_and_defer\u001B[39m(\u001B[38;5;124m\"\u001B[39m\u001B[38;5;124m__truediv__\u001B[39m\u001B[38;5;124m\"\u001B[39m)\n\u001B[0;32m    123\u001B[0m \u001B[38;5;28;01mdef\u001B[39;00m \u001B[38;5;21m__truediv__\u001B[39m(\u001B[38;5;28mself\u001B[39m, other):\n\u001B[1;32m--> 124\u001B[0m     \u001B[38;5;28;01mreturn\u001B[39;00m \u001B[38;5;28;43mself\u001B[39;49m\u001B[38;5;241;43m.\u001B[39;49m\u001B[43m_arith_method\u001B[49m\u001B[43m(\u001B[49m\u001B[43mother\u001B[49m\u001B[43m,\u001B[49m\u001B[43m \u001B[49m\u001B[43moperator\u001B[49m\u001B[38;5;241;43m.\u001B[39;49m\u001B[43mtruediv\u001B[49m\u001B[43m)\u001B[49m\n",
      "File \u001B[1;32md:\\projects\\python\\fastapi\\test\\venv\\lib\\site-packages\\pandas\\core\\frame.py:6940\u001B[0m, in \u001B[0;36mDataFrame._arith_method\u001B[1;34m(self, other, op)\u001B[0m\n\u001B[0;32m   6936\u001B[0m other \u001B[38;5;241m=\u001B[39m ops\u001B[38;5;241m.\u001B[39mmaybe_prepare_scalar_for_op(other, (\u001B[38;5;28mself\u001B[39m\u001B[38;5;241m.\u001B[39mshape[axis],))\n\u001B[0;32m   6938\u001B[0m \u001B[38;5;28mself\u001B[39m, other \u001B[38;5;241m=\u001B[39m ops\u001B[38;5;241m.\u001B[39malign_method_FRAME(\u001B[38;5;28mself\u001B[39m, other, axis, flex\u001B[38;5;241m=\u001B[39m\u001B[38;5;28;01mTrue\u001B[39;00m, level\u001B[38;5;241m=\u001B[39m\u001B[38;5;28;01mNone\u001B[39;00m)\n\u001B[1;32m-> 6940\u001B[0m new_data \u001B[38;5;241m=\u001B[39m \u001B[38;5;28;43mself\u001B[39;49m\u001B[38;5;241;43m.\u001B[39;49m\u001B[43m_dispatch_frame_op\u001B[49m\u001B[43m(\u001B[49m\u001B[43mother\u001B[49m\u001B[43m,\u001B[49m\u001B[43m \u001B[49m\u001B[43mop\u001B[49m\u001B[43m,\u001B[49m\u001B[43m \u001B[49m\u001B[43maxis\u001B[49m\u001B[38;5;241;43m=\u001B[39;49m\u001B[43maxis\u001B[49m\u001B[43m)\u001B[49m\n\u001B[0;32m   6941\u001B[0m \u001B[38;5;28;01mreturn\u001B[39;00m \u001B[38;5;28mself\u001B[39m\u001B[38;5;241m.\u001B[39m_construct_result(new_data)\n",
      "File \u001B[1;32md:\\projects\\python\\fastapi\\test\\venv\\lib\\site-packages\\pandas\\core\\frame.py:6979\u001B[0m, in \u001B[0;36mDataFrame._dispatch_frame_op\u001B[1;34m(self, right, func, axis)\u001B[0m\n\u001B[0;32m   6973\u001B[0m     \u001B[38;5;66;03m# TODO: The previous assertion `assert right._indexed_same(self)`\u001B[39;00m\n\u001B[0;32m   6974\u001B[0m     \u001B[38;5;66;03m#  fails in cases with empty columns reached via\u001B[39;00m\n\u001B[0;32m   6975\u001B[0m     \u001B[38;5;66;03m#  _frame_arith_method_with_reindex\u001B[39;00m\n\u001B[0;32m   6976\u001B[0m \n\u001B[0;32m   6977\u001B[0m     \u001B[38;5;66;03m# TODO operate_blockwise expects a manager of the same type\u001B[39;00m\n\u001B[0;32m   6978\u001B[0m     \u001B[38;5;28;01mwith\u001B[39;00m np\u001B[38;5;241m.\u001B[39merrstate(\u001B[38;5;28mall\u001B[39m\u001B[38;5;241m=\u001B[39m\u001B[38;5;124m\"\u001B[39m\u001B[38;5;124mignore\u001B[39m\u001B[38;5;124m\"\u001B[39m):\n\u001B[1;32m-> 6979\u001B[0m         bm \u001B[38;5;241m=\u001B[39m \u001B[38;5;28;43mself\u001B[39;49m\u001B[38;5;241;43m.\u001B[39;49m\u001B[43m_mgr\u001B[49m\u001B[38;5;241;43m.\u001B[39;49m\u001B[43moperate_blockwise\u001B[49m\u001B[43m(\u001B[49m\n\u001B[0;32m   6980\u001B[0m \u001B[43m            \u001B[49m\u001B[38;5;66;43;03m# error: Argument 1 to \"operate_blockwise\" of \"ArrayManager\" has\u001B[39;49;00m\n\u001B[0;32m   6981\u001B[0m \u001B[43m            \u001B[49m\u001B[38;5;66;43;03m# incompatible type \"Union[ArrayManager, BlockManager]\"; expected\u001B[39;49;00m\n\u001B[0;32m   6982\u001B[0m \u001B[43m            \u001B[49m\u001B[38;5;66;43;03m# \"ArrayManager\"\u001B[39;49;00m\n\u001B[0;32m   6983\u001B[0m \u001B[43m            \u001B[49m\u001B[38;5;66;43;03m# error: Argument 1 to \"operate_blockwise\" of \"BlockManager\" has\u001B[39;49;00m\n\u001B[0;32m   6984\u001B[0m \u001B[43m            \u001B[49m\u001B[38;5;66;43;03m# incompatible type \"Union[ArrayManager, BlockManager]\"; expected\u001B[39;49;00m\n\u001B[0;32m   6985\u001B[0m \u001B[43m            \u001B[49m\u001B[38;5;66;43;03m# \"BlockManager\"\u001B[39;49;00m\n\u001B[0;32m   6986\u001B[0m \u001B[43m            \u001B[49m\u001B[43mright\u001B[49m\u001B[38;5;241;43m.\u001B[39;49m\u001B[43m_mgr\u001B[49m\u001B[43m,\u001B[49m\u001B[43m  \u001B[49m\u001B[38;5;66;43;03m# type: ignore[arg-type]\u001B[39;49;00m\n\u001B[0;32m   6987\u001B[0m \u001B[43m            \u001B[49m\u001B[43marray_op\u001B[49m\u001B[43m,\u001B[49m\n\u001B[0;32m   6988\u001B[0m \u001B[43m        \u001B[49m\u001B[43m)\u001B[49m\n\u001B[0;32m   6989\u001B[0m     \u001B[38;5;28;01mreturn\u001B[39;00m \u001B[38;5;28mself\u001B[39m\u001B[38;5;241m.\u001B[39m_constructor(bm)\n\u001B[0;32m   6991\u001B[0m \u001B[38;5;28;01melif\u001B[39;00m \u001B[38;5;28misinstance\u001B[39m(right, Series) \u001B[38;5;129;01mand\u001B[39;00m axis \u001B[38;5;241m==\u001B[39m \u001B[38;5;241m1\u001B[39m:\n\u001B[0;32m   6992\u001B[0m     \u001B[38;5;66;03m# axis=1 means we want to operate row-by-row\u001B[39;00m\n",
      "File \u001B[1;32md:\\projects\\python\\fastapi\\test\\venv\\lib\\site-packages\\pandas\\core\\internals\\managers.py:1409\u001B[0m, in \u001B[0;36mBlockManager.operate_blockwise\u001B[1;34m(self, other, array_op)\u001B[0m\n\u001B[0;32m   1405\u001B[0m \u001B[38;5;28;01mdef\u001B[39;00m \u001B[38;5;21moperate_blockwise\u001B[39m(\u001B[38;5;28mself\u001B[39m, other: BlockManager, array_op) \u001B[38;5;241m-\u001B[39m\u001B[38;5;241m>\u001B[39m BlockManager:\n\u001B[0;32m   1406\u001B[0m     \u001B[38;5;124;03m\"\"\"\u001B[39;00m\n\u001B[0;32m   1407\u001B[0m \u001B[38;5;124;03m    Apply array_op blockwise with another (aligned) BlockManager.\u001B[39;00m\n\u001B[0;32m   1408\u001B[0m \u001B[38;5;124;03m    \"\"\"\u001B[39;00m\n\u001B[1;32m-> 1409\u001B[0m     \u001B[38;5;28;01mreturn\u001B[39;00m \u001B[43moperate_blockwise\u001B[49m\u001B[43m(\u001B[49m\u001B[38;5;28;43mself\u001B[39;49m\u001B[43m,\u001B[49m\u001B[43m \u001B[49m\u001B[43mother\u001B[49m\u001B[43m,\u001B[49m\u001B[43m \u001B[49m\u001B[43marray_op\u001B[49m\u001B[43m)\u001B[49m\n",
      "File \u001B[1;32md:\\projects\\python\\fastapi\\test\\venv\\lib\\site-packages\\pandas\\core\\internals\\ops.py:63\u001B[0m, in \u001B[0;36moperate_blockwise\u001B[1;34m(left, right, array_op)\u001B[0m\n\u001B[0;32m     61\u001B[0m res_blks: \u001B[38;5;28mlist\u001B[39m[Block] \u001B[38;5;241m=\u001B[39m []\n\u001B[0;32m     62\u001B[0m \u001B[38;5;28;01mfor\u001B[39;00m lvals, rvals, locs, left_ea, right_ea, rblk \u001B[38;5;129;01min\u001B[39;00m _iter_block_pairs(left, right):\n\u001B[1;32m---> 63\u001B[0m     res_values \u001B[38;5;241m=\u001B[39m \u001B[43marray_op\u001B[49m\u001B[43m(\u001B[49m\u001B[43mlvals\u001B[49m\u001B[43m,\u001B[49m\u001B[43m \u001B[49m\u001B[43mrvals\u001B[49m\u001B[43m)\u001B[49m\n\u001B[0;32m     64\u001B[0m     \u001B[38;5;28;01mif\u001B[39;00m left_ea \u001B[38;5;129;01mand\u001B[39;00m \u001B[38;5;129;01mnot\u001B[39;00m right_ea \u001B[38;5;129;01mand\u001B[39;00m \u001B[38;5;28mhasattr\u001B[39m(res_values, \u001B[38;5;124m\"\u001B[39m\u001B[38;5;124mreshape\u001B[39m\u001B[38;5;124m\"\u001B[39m):\n\u001B[0;32m     65\u001B[0m         res_values \u001B[38;5;241m=\u001B[39m res_values\u001B[38;5;241m.\u001B[39mreshape(\u001B[38;5;241m1\u001B[39m, \u001B[38;5;241m-\u001B[39m\u001B[38;5;241m1\u001B[39m)\n",
      "File \u001B[1;32md:\\projects\\python\\fastapi\\test\\venv\\lib\\site-packages\\pandas\\core\\ops\\array_ops.py:222\u001B[0m, in \u001B[0;36marithmetic_op\u001B[1;34m(left, right, op)\u001B[0m\n\u001B[0;32m    217\u001B[0m \u001B[38;5;28;01melse\u001B[39;00m:\n\u001B[0;32m    218\u001B[0m     \u001B[38;5;66;03m# TODO we should handle EAs consistently and move this check before the if/else\u001B[39;00m\n\u001B[0;32m    219\u001B[0m     \u001B[38;5;66;03m# (https://github.com/pandas-dev/pandas/issues/41165)\u001B[39;00m\n\u001B[0;32m    220\u001B[0m     _bool_arith_check(op, left, right)\n\u001B[1;32m--> 222\u001B[0m     res_values \u001B[38;5;241m=\u001B[39m \u001B[43m_na_arithmetic_op\u001B[49m\u001B[43m(\u001B[49m\u001B[43mleft\u001B[49m\u001B[43m,\u001B[49m\u001B[43m \u001B[49m\u001B[43mright\u001B[49m\u001B[43m,\u001B[49m\u001B[43m \u001B[49m\u001B[43mop\u001B[49m\u001B[43m)\u001B[49m\n\u001B[0;32m    224\u001B[0m \u001B[38;5;28;01mreturn\u001B[39;00m res_values\n",
      "File \u001B[1;32md:\\projects\\python\\fastapi\\test\\venv\\lib\\site-packages\\pandas\\core\\ops\\array_ops.py:170\u001B[0m, in \u001B[0;36m_na_arithmetic_op\u001B[1;34m(left, right, op, is_cmp)\u001B[0m\n\u001B[0;32m    164\u001B[0m \u001B[38;5;28;01mexcept\u001B[39;00m \u001B[38;5;167;01mTypeError\u001B[39;00m:\n\u001B[0;32m    165\u001B[0m     \u001B[38;5;28;01mif\u001B[39;00m \u001B[38;5;129;01mnot\u001B[39;00m is_cmp \u001B[38;5;129;01mand\u001B[39;00m (is_object_dtype(left\u001B[38;5;241m.\u001B[39mdtype) \u001B[38;5;129;01mor\u001B[39;00m is_object_dtype(right)):\n\u001B[0;32m    166\u001B[0m         \u001B[38;5;66;03m# For object dtype, fallback to a masked operation (only operating\u001B[39;00m\n\u001B[0;32m    167\u001B[0m         \u001B[38;5;66;03m#  on the non-missing values)\u001B[39;00m\n\u001B[0;32m    168\u001B[0m         \u001B[38;5;66;03m# Don't do this for comparisons, as that will handle complex numbers\u001B[39;00m\n\u001B[0;32m    169\u001B[0m         \u001B[38;5;66;03m#  incorrectly, see GH#32047\u001B[39;00m\n\u001B[1;32m--> 170\u001B[0m         result \u001B[38;5;241m=\u001B[39m \u001B[43m_masked_arith_op\u001B[49m\u001B[43m(\u001B[49m\u001B[43mleft\u001B[49m\u001B[43m,\u001B[49m\u001B[43m \u001B[49m\u001B[43mright\u001B[49m\u001B[43m,\u001B[49m\u001B[43m \u001B[49m\u001B[43mop\u001B[49m\u001B[43m)\u001B[49m\n\u001B[0;32m    171\u001B[0m     \u001B[38;5;28;01melse\u001B[39;00m:\n\u001B[0;32m    172\u001B[0m         \u001B[38;5;28;01mraise\u001B[39;00m\n",
      "File \u001B[1;32md:\\projects\\python\\fastapi\\test\\venv\\lib\\site-packages\\pandas\\core\\ops\\array_ops.py:108\u001B[0m, in \u001B[0;36m_masked_arith_op\u001B[1;34m(x, y, op)\u001B[0m\n\u001B[0;32m    106\u001B[0m     \u001B[38;5;66;03m# See GH#5284, GH#5035, GH#19448 for historical reference\u001B[39;00m\n\u001B[0;32m    107\u001B[0m     \u001B[38;5;28;01mif\u001B[39;00m mask\u001B[38;5;241m.\u001B[39many():\n\u001B[1;32m--> 108\u001B[0m         result[mask] \u001B[38;5;241m=\u001B[39m \u001B[43mop\u001B[49m\u001B[43m(\u001B[49m\u001B[43mxrav\u001B[49m\u001B[43m[\u001B[49m\u001B[43mmask\u001B[49m\u001B[43m]\u001B[49m\u001B[43m,\u001B[49m\u001B[43m \u001B[49m\u001B[43myrav\u001B[49m\u001B[43m[\u001B[49m\u001B[43mmask\u001B[49m\u001B[43m]\u001B[49m\u001B[43m)\u001B[49m\n\u001B[0;32m    110\u001B[0m \u001B[38;5;28;01melse\u001B[39;00m:\n\u001B[0;32m    111\u001B[0m     \u001B[38;5;28;01mif\u001B[39;00m \u001B[38;5;129;01mnot\u001B[39;00m is_scalar(y):\n",
      "\u001B[1;31mTypeError\u001B[0m: unsupported operand type(s) for /: 'str' and 'str'"
     ]
    }
   ],
   "source": [
    "df.pct_change()"
   ],
   "metadata": {
    "collapsed": false,
    "pycharm": {
     "name": "#%%\n"
    }
   }
  },
  {
   "cell_type": "code",
   "execution_count": 225,
   "outputs": [
    {
     "data": {
      "text/plain": "2011-01-02    0.913457\n2011-01-05   -0.955026\n2011-01-07   -2.133152\n2011-01-08    0.779401\n2011-01-10   -0.160160\n2011-01-12   -0.561203\ndtype: float64"
     },
     "execution_count": 225,
     "metadata": {},
     "output_type": "execute_result"
    }
   ],
   "source": [
    "dates = [datetime(2011, 1, 2), datetime(2011, 1, 5),\n",
    "         datetime(2011, 1, 7), datetime(2011, 1, 8),\n",
    "         datetime(2011, 1, 10), datetime(2011, 1, 12)]\n",
    "ts = pd.Series(np.random.randn(6), index=dates)\n",
    "ts"
   ],
   "metadata": {
    "collapsed": false,
    "pycharm": {
     "name": "#%%\n"
    }
   }
  },
  {
   "cell_type": "code",
   "execution_count": 226,
   "outputs": [
    {
     "data": {
      "text/plain": "2000-01-01    0\n2000-01-02    1\n2000-01-02    2\n2000-01-02    3\n2000-01-03    4\ndtype: int32"
     },
     "execution_count": 226,
     "metadata": {},
     "output_type": "execute_result"
    }
   ],
   "source": [
    "dates = pd.DatetimeIndex(['1/1/2000', '1/2/2000', '1/2/2000',\n",
    "                          '1/2/2000', '1/3/2000'])\n",
    "dup_ts = pd.Series(np.arange(5), index=dates)\n",
    "dup_ts"
   ],
   "metadata": {
    "collapsed": false,
    "pycharm": {
     "name": "#%%\n"
    }
   }
  },
  {
   "cell_type": "code",
   "execution_count": 227,
   "outputs": [
    {
     "data": {
      "text/plain": "2000-01-01    0\n2000-01-02    6\n2000-01-03    4\ndtype: int32"
     },
     "execution_count": 227,
     "metadata": {},
     "output_type": "execute_result"
    }
   ],
   "source": [
    "dup_ts.groupby(level=0).sum()"
   ],
   "metadata": {
    "collapsed": false,
    "pycharm": {
     "name": "#%%\n"
    }
   }
  },
  {
   "cell_type": "code",
   "execution_count": 233,
   "outputs": [
    {
     "data": {
      "text/plain": "<pandas.core.resample.DatetimeIndexResampler object at 0x0000028E64660E50>"
     },
     "execution_count": 233,
     "metadata": {},
     "output_type": "execute_result"
    }
   ],
   "source": [
    "resempler = ts.resample('D')\n",
    "resempler\n"
   ],
   "metadata": {
    "collapsed": false,
    "pycharm": {
     "name": "#%%\n"
    }
   }
  },
  {
   "cell_type": "code",
   "execution_count": 237,
   "outputs": [
    {
     "data": {
      "text/plain": "0      0\n1      1\n2      2\n3      3\n4      4\n5      5\n6      6\n7      7\n8      8\n9      9\n10    10\ndtype: int32"
     },
     "execution_count": 237,
     "metadata": {},
     "output_type": "execute_result"
    }
   ],
   "source": [
    "t = pd.Series(np.arange(len(resempler)), index=resempler.keys)\n",
    "t"
   ],
   "metadata": {
    "collapsed": false,
    "pycharm": {
     "name": "#%%\n"
    }
   }
  },
  {
   "cell_type": "code",
   "execution_count": 238,
   "outputs": [
    {
     "data": {
      "text/plain": "2011-01-02    0.913457\n2011-01-05   -0.955026\n2011-01-07   -2.133152\n2011-01-08    0.779401\n2011-01-10   -0.160160\n2011-01-12   -0.561203\ndtype: float64"
     },
     "execution_count": 238,
     "metadata": {},
     "output_type": "execute_result"
    }
   ],
   "source": [
    "ts"
   ],
   "metadata": {
    "collapsed": false,
    "pycharm": {
     "name": "#%%\n"
    }
   }
  },
  {
   "cell_type": "code",
   "execution_count": 239,
   "outputs": [
    {
     "data": {
      "text/plain": "2011-01-02         NaN\n2011-01-05         NaN\n2011-01-07    0.913457\n2011-01-08   -0.955026\n2011-01-10   -2.133152\n2011-01-12    0.779401\ndtype: float64"
     },
     "execution_count": 239,
     "metadata": {},
     "output_type": "execute_result"
    }
   ],
   "source": [
    "ts.shift(2)"
   ],
   "metadata": {
    "collapsed": false,
    "pycharm": {
     "name": "#%%\n"
    }
   }
  },
  {
   "cell_type": "code",
   "execution_count": 240,
   "outputs": [
    {
     "data": {
      "text/plain": "2011-02-28    0.913457\n2011-02-28   -0.955026\n2011-02-28   -2.133152\n2011-02-28    0.779401\n2011-02-28   -0.160160\n2011-02-28   -0.561203\ndtype: float64"
     },
     "execution_count": 240,
     "metadata": {},
     "output_type": "execute_result"
    }
   ],
   "source": [
    "ts.shift(2, freq='M')"
   ],
   "metadata": {
    "collapsed": false,
    "pycharm": {
     "name": "#%%\n"
    }
   }
  },
  {
   "cell_type": "code",
   "execution_count": 242,
   "outputs": [
    {
     "data": {
      "text/plain": "Series([], Freq: M, dtype: float64)"
     },
     "execution_count": 242,
     "metadata": {},
     "output_type": "execute_result"
    }
   ],
   "source": [
    "ts.asfreq('M')"
   ],
   "metadata": {
    "collapsed": false,
    "pycharm": {
     "name": "#%%\n"
    }
   }
  },
  {
   "cell_type": "code",
   "execution_count": 243,
   "outputs": [
    {
     "data": {
      "text/plain": "     year  quarter   realgdp  realcons  realinv  realgovt  realdpi    cpi  \\\n0  1959.0      1.0  2710.349    1707.4  286.898   470.045   1886.9  28.98   \n1  1959.0      2.0  2778.801    1733.7  310.859   481.301   1919.7  29.15   \n2  1959.0      3.0  2775.488    1751.8  289.226   491.260   1916.4  29.35   \n3  1959.0      4.0  2785.204    1753.7  299.356   484.052   1931.3  29.37   \n4  1960.0      1.0  2847.699    1770.5  331.722   462.199   1955.5  29.54   \n\n      m1  tbilrate  unemp      pop  infl  realint  \n0  139.7      2.82    5.8  177.146  0.00     0.00  \n1  141.7      3.08    5.1  177.830  2.34     0.74  \n2  140.5      3.82    5.3  178.657  2.74     1.09  \n3  140.0      4.33    5.6  179.386  0.27     4.06  \n4  139.6      3.50    5.2  180.007  2.31     1.19  ",
      "text/html": "<div>\n<style scoped>\n    .dataframe tbody tr th:only-of-type {\n        vertical-align: middle;\n    }\n\n    .dataframe tbody tr th {\n        vertical-align: top;\n    }\n\n    .dataframe thead th {\n        text-align: right;\n    }\n</style>\n<table border=\"1\" class=\"dataframe\">\n  <thead>\n    <tr style=\"text-align: right;\">\n      <th></th>\n      <th>year</th>\n      <th>quarter</th>\n      <th>realgdp</th>\n      <th>realcons</th>\n      <th>realinv</th>\n      <th>realgovt</th>\n      <th>realdpi</th>\n      <th>cpi</th>\n      <th>m1</th>\n      <th>tbilrate</th>\n      <th>unemp</th>\n      <th>pop</th>\n      <th>infl</th>\n      <th>realint</th>\n    </tr>\n  </thead>\n  <tbody>\n    <tr>\n      <th>0</th>\n      <td>1959.0</td>\n      <td>1.0</td>\n      <td>2710.349</td>\n      <td>1707.4</td>\n      <td>286.898</td>\n      <td>470.045</td>\n      <td>1886.9</td>\n      <td>28.98</td>\n      <td>139.7</td>\n      <td>2.82</td>\n      <td>5.8</td>\n      <td>177.146</td>\n      <td>0.00</td>\n      <td>0.00</td>\n    </tr>\n    <tr>\n      <th>1</th>\n      <td>1959.0</td>\n      <td>2.0</td>\n      <td>2778.801</td>\n      <td>1733.7</td>\n      <td>310.859</td>\n      <td>481.301</td>\n      <td>1919.7</td>\n      <td>29.15</td>\n      <td>141.7</td>\n      <td>3.08</td>\n      <td>5.1</td>\n      <td>177.830</td>\n      <td>2.34</td>\n      <td>0.74</td>\n    </tr>\n    <tr>\n      <th>2</th>\n      <td>1959.0</td>\n      <td>3.0</td>\n      <td>2775.488</td>\n      <td>1751.8</td>\n      <td>289.226</td>\n      <td>491.260</td>\n      <td>1916.4</td>\n      <td>29.35</td>\n      <td>140.5</td>\n      <td>3.82</td>\n      <td>5.3</td>\n      <td>178.657</td>\n      <td>2.74</td>\n      <td>1.09</td>\n    </tr>\n    <tr>\n      <th>3</th>\n      <td>1959.0</td>\n      <td>4.0</td>\n      <td>2785.204</td>\n      <td>1753.7</td>\n      <td>299.356</td>\n      <td>484.052</td>\n      <td>1931.3</td>\n      <td>29.37</td>\n      <td>140.0</td>\n      <td>4.33</td>\n      <td>5.6</td>\n      <td>179.386</td>\n      <td>0.27</td>\n      <td>4.06</td>\n    </tr>\n    <tr>\n      <th>4</th>\n      <td>1960.0</td>\n      <td>1.0</td>\n      <td>2847.699</td>\n      <td>1770.5</td>\n      <td>331.722</td>\n      <td>462.199</td>\n      <td>1955.5</td>\n      <td>29.54</td>\n      <td>139.6</td>\n      <td>3.50</td>\n      <td>5.2</td>\n      <td>180.007</td>\n      <td>2.31</td>\n      <td>1.19</td>\n    </tr>\n  </tbody>\n</table>\n</div>"
     },
     "execution_count": 243,
     "metadata": {},
     "output_type": "execute_result"
    }
   ],
   "source": [
    "data = pd.read_csv('../../examples/macrodata.csv')\n",
    "data.head()"
   ],
   "metadata": {
    "collapsed": false,
    "pycharm": {
     "name": "#%%\n"
    }
   }
  },
  {
   "cell_type": "code",
   "execution_count": 245,
   "outputs": [
    {
     "data": {
      "text/plain": "PeriodIndex(['1959Q1', '1959Q2', '1959Q3', '1959Q4', '1960Q1', '1960Q2',\n             '1960Q3', '1960Q4', '1961Q1', '1961Q2',\n             ...\n             '2007Q2', '2007Q3', '2007Q4', '2008Q1', '2008Q2', '2008Q3',\n             '2008Q4', '2009Q1', '2009Q2', '2009Q3'],\n            dtype='period[Q-DEC]', length=203)"
     },
     "execution_count": 245,
     "metadata": {},
     "output_type": "execute_result"
    }
   ],
   "source": [
    "index = pd.PeriodIndex(year=data.year, quarter=data.quarter, freq='Q-DEC')\n",
    "index"
   ],
   "metadata": {
    "collapsed": false,
    "pycharm": {
     "name": "#%%\n"
    }
   }
  },
  {
   "cell_type": "code",
   "execution_count": 246,
   "outputs": [],
   "source": [
    "data.index = index"
   ],
   "metadata": {
    "collapsed": false,
    "pycharm": {
     "name": "#%%\n"
    }
   }
  },
  {
   "cell_type": "code",
   "execution_count": 247,
   "outputs": [
    {
     "data": {
      "text/plain": "          year  quarter    realgdp  realcons   realinv  realgovt  realdpi  \\\n1959Q1  1959.0      1.0   2710.349    1707.4   286.898   470.045   1886.9   \n1959Q2  1959.0      2.0   2778.801    1733.7   310.859   481.301   1919.7   \n1959Q3  1959.0      3.0   2775.488    1751.8   289.226   491.260   1916.4   \n1959Q4  1959.0      4.0   2785.204    1753.7   299.356   484.052   1931.3   \n1960Q1  1960.0      1.0   2847.699    1770.5   331.722   462.199   1955.5   \n...        ...      ...        ...       ...       ...       ...      ...   \n2008Q3  2008.0      3.0  13324.600    9267.7  1990.693   991.551   9838.3   \n2008Q4  2008.0      4.0  13141.920    9195.3  1857.661  1007.273   9920.4   \n2009Q1  2009.0      1.0  12925.410    9209.2  1558.494   996.287   9926.4   \n2009Q2  2009.0      2.0  12901.504    9189.0  1456.678  1023.528  10077.5   \n2009Q3  2009.0      3.0  12990.341    9256.0  1486.398  1044.088  10040.6   \n\n            cpi      m1  tbilrate  unemp      pop  infl  realint  \n1959Q1   28.980   139.7      2.82    5.8  177.146  0.00     0.00  \n1959Q2   29.150   141.7      3.08    5.1  177.830  2.34     0.74  \n1959Q3   29.350   140.5      3.82    5.3  178.657  2.74     1.09  \n1959Q4   29.370   140.0      4.33    5.6  179.386  0.27     4.06  \n1960Q1   29.540   139.6      3.50    5.2  180.007  2.31     1.19  \n...         ...     ...       ...    ...      ...   ...      ...  \n2008Q3  216.889  1474.7      1.17    6.0  305.270 -3.16     4.33  \n2008Q4  212.174  1576.5      0.12    6.9  305.952 -8.79     8.91  \n2009Q1  212.671  1592.8      0.22    8.1  306.547  0.94    -0.71  \n2009Q2  214.469  1653.6      0.18    9.2  307.226  3.37    -3.19  \n2009Q3  216.385  1673.9      0.12    9.6  308.013  3.56    -3.44  \n\n[203 rows x 14 columns]",
      "text/html": "<div>\n<style scoped>\n    .dataframe tbody tr th:only-of-type {\n        vertical-align: middle;\n    }\n\n    .dataframe tbody tr th {\n        vertical-align: top;\n    }\n\n    .dataframe thead th {\n        text-align: right;\n    }\n</style>\n<table border=\"1\" class=\"dataframe\">\n  <thead>\n    <tr style=\"text-align: right;\">\n      <th></th>\n      <th>year</th>\n      <th>quarter</th>\n      <th>realgdp</th>\n      <th>realcons</th>\n      <th>realinv</th>\n      <th>realgovt</th>\n      <th>realdpi</th>\n      <th>cpi</th>\n      <th>m1</th>\n      <th>tbilrate</th>\n      <th>unemp</th>\n      <th>pop</th>\n      <th>infl</th>\n      <th>realint</th>\n    </tr>\n  </thead>\n  <tbody>\n    <tr>\n      <th>1959Q1</th>\n      <td>1959.0</td>\n      <td>1.0</td>\n      <td>2710.349</td>\n      <td>1707.4</td>\n      <td>286.898</td>\n      <td>470.045</td>\n      <td>1886.9</td>\n      <td>28.980</td>\n      <td>139.7</td>\n      <td>2.82</td>\n      <td>5.8</td>\n      <td>177.146</td>\n      <td>0.00</td>\n      <td>0.00</td>\n    </tr>\n    <tr>\n      <th>1959Q2</th>\n      <td>1959.0</td>\n      <td>2.0</td>\n      <td>2778.801</td>\n      <td>1733.7</td>\n      <td>310.859</td>\n      <td>481.301</td>\n      <td>1919.7</td>\n      <td>29.150</td>\n      <td>141.7</td>\n      <td>3.08</td>\n      <td>5.1</td>\n      <td>177.830</td>\n      <td>2.34</td>\n      <td>0.74</td>\n    </tr>\n    <tr>\n      <th>1959Q3</th>\n      <td>1959.0</td>\n      <td>3.0</td>\n      <td>2775.488</td>\n      <td>1751.8</td>\n      <td>289.226</td>\n      <td>491.260</td>\n      <td>1916.4</td>\n      <td>29.350</td>\n      <td>140.5</td>\n      <td>3.82</td>\n      <td>5.3</td>\n      <td>178.657</td>\n      <td>2.74</td>\n      <td>1.09</td>\n    </tr>\n    <tr>\n      <th>1959Q4</th>\n      <td>1959.0</td>\n      <td>4.0</td>\n      <td>2785.204</td>\n      <td>1753.7</td>\n      <td>299.356</td>\n      <td>484.052</td>\n      <td>1931.3</td>\n      <td>29.370</td>\n      <td>140.0</td>\n      <td>4.33</td>\n      <td>5.6</td>\n      <td>179.386</td>\n      <td>0.27</td>\n      <td>4.06</td>\n    </tr>\n    <tr>\n      <th>1960Q1</th>\n      <td>1960.0</td>\n      <td>1.0</td>\n      <td>2847.699</td>\n      <td>1770.5</td>\n      <td>331.722</td>\n      <td>462.199</td>\n      <td>1955.5</td>\n      <td>29.540</td>\n      <td>139.6</td>\n      <td>3.50</td>\n      <td>5.2</td>\n      <td>180.007</td>\n      <td>2.31</td>\n      <td>1.19</td>\n    </tr>\n    <tr>\n      <th>...</th>\n      <td>...</td>\n      <td>...</td>\n      <td>...</td>\n      <td>...</td>\n      <td>...</td>\n      <td>...</td>\n      <td>...</td>\n      <td>...</td>\n      <td>...</td>\n      <td>...</td>\n      <td>...</td>\n      <td>...</td>\n      <td>...</td>\n      <td>...</td>\n    </tr>\n    <tr>\n      <th>2008Q3</th>\n      <td>2008.0</td>\n      <td>3.0</td>\n      <td>13324.600</td>\n      <td>9267.7</td>\n      <td>1990.693</td>\n      <td>991.551</td>\n      <td>9838.3</td>\n      <td>216.889</td>\n      <td>1474.7</td>\n      <td>1.17</td>\n      <td>6.0</td>\n      <td>305.270</td>\n      <td>-3.16</td>\n      <td>4.33</td>\n    </tr>\n    <tr>\n      <th>2008Q4</th>\n      <td>2008.0</td>\n      <td>4.0</td>\n      <td>13141.920</td>\n      <td>9195.3</td>\n      <td>1857.661</td>\n      <td>1007.273</td>\n      <td>9920.4</td>\n      <td>212.174</td>\n      <td>1576.5</td>\n      <td>0.12</td>\n      <td>6.9</td>\n      <td>305.952</td>\n      <td>-8.79</td>\n      <td>8.91</td>\n    </tr>\n    <tr>\n      <th>2009Q1</th>\n      <td>2009.0</td>\n      <td>1.0</td>\n      <td>12925.410</td>\n      <td>9209.2</td>\n      <td>1558.494</td>\n      <td>996.287</td>\n      <td>9926.4</td>\n      <td>212.671</td>\n      <td>1592.8</td>\n      <td>0.22</td>\n      <td>8.1</td>\n      <td>306.547</td>\n      <td>0.94</td>\n      <td>-0.71</td>\n    </tr>\n    <tr>\n      <th>2009Q2</th>\n      <td>2009.0</td>\n      <td>2.0</td>\n      <td>12901.504</td>\n      <td>9189.0</td>\n      <td>1456.678</td>\n      <td>1023.528</td>\n      <td>10077.5</td>\n      <td>214.469</td>\n      <td>1653.6</td>\n      <td>0.18</td>\n      <td>9.2</td>\n      <td>307.226</td>\n      <td>3.37</td>\n      <td>-3.19</td>\n    </tr>\n    <tr>\n      <th>2009Q3</th>\n      <td>2009.0</td>\n      <td>3.0</td>\n      <td>12990.341</td>\n      <td>9256.0</td>\n      <td>1486.398</td>\n      <td>1044.088</td>\n      <td>10040.6</td>\n      <td>216.385</td>\n      <td>1673.9</td>\n      <td>0.12</td>\n      <td>9.6</td>\n      <td>308.013</td>\n      <td>3.56</td>\n      <td>-3.44</td>\n    </tr>\n  </tbody>\n</table>\n<p>203 rows × 14 columns</p>\n</div>"
     },
     "execution_count": 247,
     "metadata": {},
     "output_type": "execute_result"
    }
   ],
   "source": [
    "data"
   ],
   "metadata": {
    "collapsed": false,
    "pycharm": {
     "name": "#%%\n"
    }
   }
  },
  {
   "cell_type": "code",
   "execution_count": 266,
   "outputs": [
    {
     "data": {
      "text/plain": "count    51.000000\nmean      3.954771\nstd       2.790487\nmin      -0.150000\n25%       2.038750\n50%       3.205000\n75%       4.825000\nmax      12.987500\nName: infl, dtype: float64"
     },
     "execution_count": 266,
     "metadata": {},
     "output_type": "execute_result"
    }
   ],
   "source": [
    "data.resample('Y').mean()['infl'].sort_values().describe()"
   ],
   "metadata": {
    "collapsed": false,
    "pycharm": {
     "name": "#%%\n"
    }
   }
  },
  {
   "cell_type": "code",
   "execution_count": null,
   "outputs": [],
   "source": [],
   "metadata": {
    "collapsed": false,
    "pycharm": {
     "name": "#%%\n"
    }
   }
  },
  {
   "cell_type": "code",
   "execution_count": 278,
   "outputs": [
    {
     "data": {
      "text/plain": "       open   high    low  close\n1961  -0.40   1.47  -0.40   0.80\n1964   0.13   2.05   0.13   2.05\n1962   2.26   2.26   0.13   0.79\n2001   1.82   2.26   0.23   0.23\n1998   0.49   2.46   0.49   1.95\n1960   2.31   2.70   0.14   1.21\n1997   1.25   2.73   1.24   1.24\n1959   0.00   2.74   0.00   0.27\n1963   0.53   2.75   0.53   2.46\n1965   1.28   2.90   0.89   2.90\n2003   1.31   3.02   1.09   3.02\n1993   2.79   3.03   1.92   1.92\n1991   1.19   3.24   1.19   3.19\n1994   2.45   3.25   2.45   2.93\n1999   2.90   3.35   1.92   2.85\n1992   3.17   3.40   3.09   3.09\n1995   3.44   3.44   2.10   3.11\n2009   0.94   3.56   0.94   3.56\n2002   3.59   3.59   1.56   3.08\n1996   3.60   3.60   2.30   3.02\n2004   2.35   3.61   2.09   2.09\n2006   2.60   3.97  -1.58   3.30\n2000   3.76   4.19   2.77   3.89\n1986  -4.39   4.33  -4.39   4.33\n1987   4.64   4.64   3.46   3.46\n1984   4.67   4.67   2.28   2.28\n1988   4.12   4.70   4.12   4.31\n1972   2.90   4.71   2.88   4.71\n1967   2.42   4.72   2.42   4.72\n1971   2.00   4.96   2.00   2.92\n1966   4.99   4.99   0.61   0.61\n1985   4.89   5.13   2.61   5.13\n1983   3.66   5.13   3.66   5.13\n1968   3.50   5.77   3.50   4.51\n1970   6.28   6.28   4.13   5.04\n1976   2.14   6.37   2.14   5.49\n2007   4.58   6.38   2.75   6.38\n1989   6.22   6.64   2.88   6.64\n1969   6.67   6.67   5.40   6.38\n1975   5.32   7.48   5.32   6.50\n2008   2.82   8.53  -8.79  -8.79\n1977   8.76   8.76   5.23   7.08\n1990   4.37   8.79   3.88   3.88\n2005   4.15   9.14   0.40   0.40\n1978   7.58   9.89   7.58   8.26\n1982   2.53  10.39  -0.82  -0.82\n1981   8.62  10.63   4.26   4.26\n1973   9.26  12.47   4.55  10.39\n1974  10.96  13.56   9.86  10.07\n1980  14.60  14.60   8.32  11.64\n1979  12.08  14.62  11.88  14.62",
      "text/html": "<div>\n<style scoped>\n    .dataframe tbody tr th:only-of-type {\n        vertical-align: middle;\n    }\n\n    .dataframe tbody tr th {\n        vertical-align: top;\n    }\n\n    .dataframe thead th {\n        text-align: right;\n    }\n</style>\n<table border=\"1\" class=\"dataframe\">\n  <thead>\n    <tr style=\"text-align: right;\">\n      <th></th>\n      <th>open</th>\n      <th>high</th>\n      <th>low</th>\n      <th>close</th>\n    </tr>\n  </thead>\n  <tbody>\n    <tr>\n      <th>1961</th>\n      <td>-0.40</td>\n      <td>1.47</td>\n      <td>-0.40</td>\n      <td>0.80</td>\n    </tr>\n    <tr>\n      <th>1964</th>\n      <td>0.13</td>\n      <td>2.05</td>\n      <td>0.13</td>\n      <td>2.05</td>\n    </tr>\n    <tr>\n      <th>1962</th>\n      <td>2.26</td>\n      <td>2.26</td>\n      <td>0.13</td>\n      <td>0.79</td>\n    </tr>\n    <tr>\n      <th>2001</th>\n      <td>1.82</td>\n      <td>2.26</td>\n      <td>0.23</td>\n      <td>0.23</td>\n    </tr>\n    <tr>\n      <th>1998</th>\n      <td>0.49</td>\n      <td>2.46</td>\n      <td>0.49</td>\n      <td>1.95</td>\n    </tr>\n    <tr>\n      <th>1960</th>\n      <td>2.31</td>\n      <td>2.70</td>\n      <td>0.14</td>\n      <td>1.21</td>\n    </tr>\n    <tr>\n      <th>1997</th>\n      <td>1.25</td>\n      <td>2.73</td>\n      <td>1.24</td>\n      <td>1.24</td>\n    </tr>\n    <tr>\n      <th>1959</th>\n      <td>0.00</td>\n      <td>2.74</td>\n      <td>0.00</td>\n      <td>0.27</td>\n    </tr>\n    <tr>\n      <th>1963</th>\n      <td>0.53</td>\n      <td>2.75</td>\n      <td>0.53</td>\n      <td>2.46</td>\n    </tr>\n    <tr>\n      <th>1965</th>\n      <td>1.28</td>\n      <td>2.90</td>\n      <td>0.89</td>\n      <td>2.90</td>\n    </tr>\n    <tr>\n      <th>2003</th>\n      <td>1.31</td>\n      <td>3.02</td>\n      <td>1.09</td>\n      <td>3.02</td>\n    </tr>\n    <tr>\n      <th>1993</th>\n      <td>2.79</td>\n      <td>3.03</td>\n      <td>1.92</td>\n      <td>1.92</td>\n    </tr>\n    <tr>\n      <th>1991</th>\n      <td>1.19</td>\n      <td>3.24</td>\n      <td>1.19</td>\n      <td>3.19</td>\n    </tr>\n    <tr>\n      <th>1994</th>\n      <td>2.45</td>\n      <td>3.25</td>\n      <td>2.45</td>\n      <td>2.93</td>\n    </tr>\n    <tr>\n      <th>1999</th>\n      <td>2.90</td>\n      <td>3.35</td>\n      <td>1.92</td>\n      <td>2.85</td>\n    </tr>\n    <tr>\n      <th>1992</th>\n      <td>3.17</td>\n      <td>3.40</td>\n      <td>3.09</td>\n      <td>3.09</td>\n    </tr>\n    <tr>\n      <th>1995</th>\n      <td>3.44</td>\n      <td>3.44</td>\n      <td>2.10</td>\n      <td>3.11</td>\n    </tr>\n    <tr>\n      <th>2009</th>\n      <td>0.94</td>\n      <td>3.56</td>\n      <td>0.94</td>\n      <td>3.56</td>\n    </tr>\n    <tr>\n      <th>2002</th>\n      <td>3.59</td>\n      <td>3.59</td>\n      <td>1.56</td>\n      <td>3.08</td>\n    </tr>\n    <tr>\n      <th>1996</th>\n      <td>3.60</td>\n      <td>3.60</td>\n      <td>2.30</td>\n      <td>3.02</td>\n    </tr>\n    <tr>\n      <th>2004</th>\n      <td>2.35</td>\n      <td>3.61</td>\n      <td>2.09</td>\n      <td>2.09</td>\n    </tr>\n    <tr>\n      <th>2006</th>\n      <td>2.60</td>\n      <td>3.97</td>\n      <td>-1.58</td>\n      <td>3.30</td>\n    </tr>\n    <tr>\n      <th>2000</th>\n      <td>3.76</td>\n      <td>4.19</td>\n      <td>2.77</td>\n      <td>3.89</td>\n    </tr>\n    <tr>\n      <th>1986</th>\n      <td>-4.39</td>\n      <td>4.33</td>\n      <td>-4.39</td>\n      <td>4.33</td>\n    </tr>\n    <tr>\n      <th>1987</th>\n      <td>4.64</td>\n      <td>4.64</td>\n      <td>3.46</td>\n      <td>3.46</td>\n    </tr>\n    <tr>\n      <th>1984</th>\n      <td>4.67</td>\n      <td>4.67</td>\n      <td>2.28</td>\n      <td>2.28</td>\n    </tr>\n    <tr>\n      <th>1988</th>\n      <td>4.12</td>\n      <td>4.70</td>\n      <td>4.12</td>\n      <td>4.31</td>\n    </tr>\n    <tr>\n      <th>1972</th>\n      <td>2.90</td>\n      <td>4.71</td>\n      <td>2.88</td>\n      <td>4.71</td>\n    </tr>\n    <tr>\n      <th>1967</th>\n      <td>2.42</td>\n      <td>4.72</td>\n      <td>2.42</td>\n      <td>4.72</td>\n    </tr>\n    <tr>\n      <th>1971</th>\n      <td>2.00</td>\n      <td>4.96</td>\n      <td>2.00</td>\n      <td>2.92</td>\n    </tr>\n    <tr>\n      <th>1966</th>\n      <td>4.99</td>\n      <td>4.99</td>\n      <td>0.61</td>\n      <td>0.61</td>\n    </tr>\n    <tr>\n      <th>1985</th>\n      <td>4.89</td>\n      <td>5.13</td>\n      <td>2.61</td>\n      <td>5.13</td>\n    </tr>\n    <tr>\n      <th>1983</th>\n      <td>3.66</td>\n      <td>5.13</td>\n      <td>3.66</td>\n      <td>5.13</td>\n    </tr>\n    <tr>\n      <th>1968</th>\n      <td>3.50</td>\n      <td>5.77</td>\n      <td>3.50</td>\n      <td>4.51</td>\n    </tr>\n    <tr>\n      <th>1970</th>\n      <td>6.28</td>\n      <td>6.28</td>\n      <td>4.13</td>\n      <td>5.04</td>\n    </tr>\n    <tr>\n      <th>1976</th>\n      <td>2.14</td>\n      <td>6.37</td>\n      <td>2.14</td>\n      <td>5.49</td>\n    </tr>\n    <tr>\n      <th>2007</th>\n      <td>4.58</td>\n      <td>6.38</td>\n      <td>2.75</td>\n      <td>6.38</td>\n    </tr>\n    <tr>\n      <th>1989</th>\n      <td>6.22</td>\n      <td>6.64</td>\n      <td>2.88</td>\n      <td>6.64</td>\n    </tr>\n    <tr>\n      <th>1969</th>\n      <td>6.67</td>\n      <td>6.67</td>\n      <td>5.40</td>\n      <td>6.38</td>\n    </tr>\n    <tr>\n      <th>1975</th>\n      <td>5.32</td>\n      <td>7.48</td>\n      <td>5.32</td>\n      <td>6.50</td>\n    </tr>\n    <tr>\n      <th>2008</th>\n      <td>2.82</td>\n      <td>8.53</td>\n      <td>-8.79</td>\n      <td>-8.79</td>\n    </tr>\n    <tr>\n      <th>1977</th>\n      <td>8.76</td>\n      <td>8.76</td>\n      <td>5.23</td>\n      <td>7.08</td>\n    </tr>\n    <tr>\n      <th>1990</th>\n      <td>4.37</td>\n      <td>8.79</td>\n      <td>3.88</td>\n      <td>3.88</td>\n    </tr>\n    <tr>\n      <th>2005</th>\n      <td>4.15</td>\n      <td>9.14</td>\n      <td>0.40</td>\n      <td>0.40</td>\n    </tr>\n    <tr>\n      <th>1978</th>\n      <td>7.58</td>\n      <td>9.89</td>\n      <td>7.58</td>\n      <td>8.26</td>\n    </tr>\n    <tr>\n      <th>1982</th>\n      <td>2.53</td>\n      <td>10.39</td>\n      <td>-0.82</td>\n      <td>-0.82</td>\n    </tr>\n    <tr>\n      <th>1981</th>\n      <td>8.62</td>\n      <td>10.63</td>\n      <td>4.26</td>\n      <td>4.26</td>\n    </tr>\n    <tr>\n      <th>1973</th>\n      <td>9.26</td>\n      <td>12.47</td>\n      <td>4.55</td>\n      <td>10.39</td>\n    </tr>\n    <tr>\n      <th>1974</th>\n      <td>10.96</td>\n      <td>13.56</td>\n      <td>9.86</td>\n      <td>10.07</td>\n    </tr>\n    <tr>\n      <th>1980</th>\n      <td>14.60</td>\n      <td>14.60</td>\n      <td>8.32</td>\n      <td>11.64</td>\n    </tr>\n    <tr>\n      <th>1979</th>\n      <td>12.08</td>\n      <td>14.62</td>\n      <td>11.88</td>\n      <td>14.62</td>\n    </tr>\n  </tbody>\n</table>\n</div>"
     },
     "execution_count": 278,
     "metadata": {},
     "output_type": "execute_result"
    }
   ],
   "source": [
    "data.resample('Y')['infl'].ohlc().sort_values(by=['high','low'])"
   ],
   "metadata": {
    "collapsed": false,
    "pycharm": {
     "name": "#%%\n"
    }
   }
  },
  {
   "cell_type": "code",
   "execution_count": 313,
   "outputs": [
    {
     "data": {
      "text/plain": "      open  high   low  close\n2000  3.76  4.19  2.77   3.89\n2001  1.82  2.26  0.23   0.23\n2002  3.59  3.59  1.56   3.08\n2003  1.31  3.02  1.09   3.02\n2004  2.35  3.61  2.09   2.09\n2005  4.15  9.14  0.40   0.40\n2006  2.60  3.97 -1.58   3.30\n2007  4.58  6.38  2.75   6.38\n2008  2.82  8.53 -8.79  -8.79\n2009  0.94  3.56  0.94   3.56",
      "text/html": "<div>\n<style scoped>\n    .dataframe tbody tr th:only-of-type {\n        vertical-align: middle;\n    }\n\n    .dataframe tbody tr th {\n        vertical-align: top;\n    }\n\n    .dataframe thead th {\n        text-align: right;\n    }\n</style>\n<table border=\"1\" class=\"dataframe\">\n  <thead>\n    <tr style=\"text-align: right;\">\n      <th></th>\n      <th>open</th>\n      <th>high</th>\n      <th>low</th>\n      <th>close</th>\n    </tr>\n  </thead>\n  <tbody>\n    <tr>\n      <th>2000</th>\n      <td>3.76</td>\n      <td>4.19</td>\n      <td>2.77</td>\n      <td>3.89</td>\n    </tr>\n    <tr>\n      <th>2001</th>\n      <td>1.82</td>\n      <td>2.26</td>\n      <td>0.23</td>\n      <td>0.23</td>\n    </tr>\n    <tr>\n      <th>2002</th>\n      <td>3.59</td>\n      <td>3.59</td>\n      <td>1.56</td>\n      <td>3.08</td>\n    </tr>\n    <tr>\n      <th>2003</th>\n      <td>1.31</td>\n      <td>3.02</td>\n      <td>1.09</td>\n      <td>3.02</td>\n    </tr>\n    <tr>\n      <th>2004</th>\n      <td>2.35</td>\n      <td>3.61</td>\n      <td>2.09</td>\n      <td>2.09</td>\n    </tr>\n    <tr>\n      <th>2005</th>\n      <td>4.15</td>\n      <td>9.14</td>\n      <td>0.40</td>\n      <td>0.40</td>\n    </tr>\n    <tr>\n      <th>2006</th>\n      <td>2.60</td>\n      <td>3.97</td>\n      <td>-1.58</td>\n      <td>3.30</td>\n    </tr>\n    <tr>\n      <th>2007</th>\n      <td>4.58</td>\n      <td>6.38</td>\n      <td>2.75</td>\n      <td>6.38</td>\n    </tr>\n    <tr>\n      <th>2008</th>\n      <td>2.82</td>\n      <td>8.53</td>\n      <td>-8.79</td>\n      <td>-8.79</td>\n    </tr>\n    <tr>\n      <th>2009</th>\n      <td>0.94</td>\n      <td>3.56</td>\n      <td>0.94</td>\n      <td>3.56</td>\n    </tr>\n  </tbody>\n</table>\n</div>"
     },
     "execution_count": 313,
     "metadata": {},
     "output_type": "execute_result"
    }
   ],
   "source": [
    "data.resample('Y')['infl'].ohlc().sort_index()['2000':]"
   ],
   "metadata": {
    "collapsed": false,
    "pycharm": {
     "name": "#%%\n"
    }
   }
  },
  {
   "cell_type": "code",
   "execution_count": 320,
   "outputs": [
    {
     "data": {
      "text/plain": "<AxesSubplot:xlabel='Year', ylabel='Infl'>"
     },
     "execution_count": 320,
     "metadata": {},
     "output_type": "execute_result"
    },
    {
     "data": {
      "text/plain": "<Figure size 432x288 with 1 Axes>",
      "image/png": "[encoded data removed]"
     },
     "metadata": {
      "needs_background": "light"
     },
     "output_type": "display_data"
    }
   ],
   "source": [
    "data.resample('Y')['infl'].ohlc().sort_index()['2000':].plot(ylabel='Infl', xlabel='Year')"
   ],
   "metadata": {
    "collapsed": false,
    "pycharm": {
     "name": "#%%\n"
    }
   }
  },
  {
   "cell_type": "code",
   "execution_count": 321,
   "outputs": [
    {
     "data": {
      "text/plain": "<AxesSubplot:xlabel='Year', ylabel='Infl'>"
     },
     "execution_count": 321,
     "metadata": {},
     "output_type": "execute_result"
    },
    {
     "data": {
      "text/plain": "<Figure size 432x288 with 1 Axes>",
      "image/png": "[encoded data removed]"
     },
     "metadata": {
      "needs_background": "light"
     },
     "output_type": "display_data"
    }
   ],
   "source": [
    "data.resample('Y')['infl'].ohlc().sort_index()['2000':].plot.bar(ylabel='Infl', xlabel='Year')"
   ],
   "metadata": {
    "collapsed": false,
    "pycharm": {
     "name": "#%%\n"
    }
   }
  },
  {
   "cell_type": "code",
   "execution_count": 322,
   "outputs": [
    {
     "data": {
      "text/plain": "   key  value\n0    a    0.0\n1    b    1.0\n2    c    2.0\n3    a    3.0\n4    b    4.0\n5    c    5.0\n6    a    6.0\n7    b    7.0\n8    c    8.0\n9    a    9.0\n10   b   10.0\n11   c   11.0",
      "text/html": "<div>\n<style scoped>\n    .dataframe tbody tr th:only-of-type {\n        vertical-align: middle;\n    }\n\n    .dataframe tbody tr th {\n        vertical-align: top;\n    }\n\n    .dataframe thead th {\n        text-align: right;\n    }\n</style>\n<table border=\"1\" class=\"dataframe\">\n  <thead>\n    <tr style=\"text-align: right;\">\n      <th></th>\n      <th>key</th>\n      <th>value</th>\n    </tr>\n  </thead>\n  <tbody>\n    <tr>\n      <th>0</th>\n      <td>a</td>\n      <td>0.0</td>\n    </tr>\n    <tr>\n      <th>1</th>\n      <td>b</td>\n      <td>1.0</td>\n    </tr>\n    <tr>\n      <th>2</th>\n      <td>c</td>\n      <td>2.0</td>\n    </tr>\n    <tr>\n      <th>3</th>\n      <td>a</td>\n      <td>3.0</td>\n    </tr>\n    <tr>\n      <th>4</th>\n      <td>b</td>\n      <td>4.0</td>\n    </tr>\n    <tr>\n      <th>5</th>\n      <td>c</td>\n      <td>5.0</td>\n    </tr>\n    <tr>\n      <th>6</th>\n      <td>a</td>\n      <td>6.0</td>\n    </tr>\n    <tr>\n      <th>7</th>\n      <td>b</td>\n      <td>7.0</td>\n    </tr>\n    <tr>\n      <th>8</th>\n      <td>c</td>\n      <td>8.0</td>\n    </tr>\n    <tr>\n      <th>9</th>\n      <td>a</td>\n      <td>9.0</td>\n    </tr>\n    <tr>\n      <th>10</th>\n      <td>b</td>\n      <td>10.0</td>\n    </tr>\n    <tr>\n      <th>11</th>\n      <td>c</td>\n      <td>11.0</td>\n    </tr>\n  </tbody>\n</table>\n</div>"
     },
     "execution_count": 322,
     "metadata": {},
     "output_type": "execute_result"
    }
   ],
   "source": [
    "df = pd.DataFrame({'key': ['a', 'b', 'c'] * 4, 'value': np.arange(12.)})\n",
    "df"
   ],
   "metadata": {
    "collapsed": false,
    "pycharm": {
     "name": "#%%\n"
    }
   }
  },
  {
   "cell_type": "code",
   "execution_count": 324,
   "outputs": [
    {
     "data": {
      "text/plain": "     value\nkey       \na      4.5\nb      5.5\nc      6.5",
      "text/html": "<div>\n<style scoped>\n    .dataframe tbody tr th:only-of-type {\n        vertical-align: middle;\n    }\n\n    .dataframe tbody tr th {\n        vertical-align: top;\n    }\n\n    .dataframe thead th {\n        text-align: right;\n    }\n</style>\n<table border=\"1\" class=\"dataframe\">\n  <thead>\n    <tr style=\"text-align: right;\">\n      <th></th>\n      <th>value</th>\n    </tr>\n    <tr>\n      <th>key</th>\n      <th></th>\n    </tr>\n  </thead>\n  <tbody>\n    <tr>\n      <th>a</th>\n      <td>4.5</td>\n    </tr>\n    <tr>\n      <th>b</th>\n      <td>5.5</td>\n    </tr>\n    <tr>\n      <th>c</th>\n      <td>6.5</td>\n    </tr>\n  </tbody>\n</table>\n</div>"
     },
     "execution_count": 324,
     "metadata": {},
     "output_type": "execute_result"
    }
   ],
   "source": [
    "df.groupby('key').mean()"
   ],
   "metadata": {
    "collapsed": false,
    "pycharm": {
     "name": "#%%\n"
    }
   }
  },
  {
   "cell_type": "code",
   "execution_count": 330,
   "outputs": [
    {
     "data": {
      "text/plain": "<pandas.core.groupby.generic.DataFrameGroupBy object at 0x0000028E6904B160>"
     },
     "execution_count": 330,
     "metadata": {},
     "output_type": "execute_result"
    }
   ],
   "source": [
    "df.groupby('key')"
   ],
   "metadata": {
    "collapsed": false,
    "pycharm": {
     "name": "#%%\n"
    }
   }
  },
  {
   "cell_type": "code",
   "execution_count": 332,
   "outputs": [
    {
     "data": {
      "text/plain": "    value\n0     4.5\n1     5.5\n2     6.5\n3     4.5\n4     5.5\n5     6.5\n6     4.5\n7     5.5\n8     6.5\n9     4.5\n10    5.5\n11    6.5",
      "text/html": "<div>\n<style scoped>\n    .dataframe tbody tr th:only-of-type {\n        vertical-align: middle;\n    }\n\n    .dataframe tbody tr th {\n        vertical-align: top;\n    }\n\n    .dataframe thead th {\n        text-align: right;\n    }\n</style>\n<table border=\"1\" class=\"dataframe\">\n  <thead>\n    <tr style=\"text-align: right;\">\n      <th></th>\n      <th>value</th>\n    </tr>\n  </thead>\n  <tbody>\n    <tr>\n      <th>0</th>\n      <td>4.5</td>\n    </tr>\n    <tr>\n      <th>1</th>\n      <td>5.5</td>\n    </tr>\n    <tr>\n      <th>2</th>\n      <td>6.5</td>\n    </tr>\n    <tr>\n      <th>3</th>\n      <td>4.5</td>\n    </tr>\n    <tr>\n      <th>4</th>\n      <td>5.5</td>\n    </tr>\n    <tr>\n      <th>5</th>\n      <td>6.5</td>\n    </tr>\n    <tr>\n      <th>6</th>\n      <td>4.5</td>\n    </tr>\n    <tr>\n      <th>7</th>\n      <td>5.5</td>\n    </tr>\n    <tr>\n      <th>8</th>\n      <td>6.5</td>\n    </tr>\n    <tr>\n      <th>9</th>\n      <td>4.5</td>\n    </tr>\n    <tr>\n      <th>10</th>\n      <td>5.5</td>\n    </tr>\n    <tr>\n      <th>11</th>\n      <td>6.5</td>\n    </tr>\n  </tbody>\n</table>\n</div>"
     },
     "execution_count": 332,
     "metadata": {},
     "output_type": "execute_result"
    }
   ],
   "source": [
    "df.groupby('key').transform(lambda x: x.mean())"
   ],
   "metadata": {
    "collapsed": false,
    "pycharm": {
     "name": "#%%\n"
    }
   }
  },
  {
   "cell_type": "code",
   "execution_count": null,
   "outputs": [],
   "source": [],
   "metadata": {
    "collapsed": false,
    "pycharm": {
     "name": "#%%\n"
    }
   }
  },
  {
   "cell_type": "code",
   "execution_count": 348,
   "outputs": [
    {
     "data": {
      "text/plain": "0      0.0\n1      1.0\n2      2.0\n3      3.0\n4      4.0\n5      5.0\n6      6.0\n7      7.0\n8      8.0\n9      9.0\n10    10.0\n11    11.0\nName: value, dtype: float64"
     },
     "execution_count": 348,
     "metadata": {},
     "output_type": "execute_result"
    }
   ],
   "source": [
    "df['value'].transform(lambda x: x*2) - df['value'].transform(lambda x: x)"
   ],
   "metadata": {
    "collapsed": false,
    "pycharm": {
     "name": "#%%\n"
    }
   }
  },
  {
   "cell_type": "code",
   "execution_count": 349,
   "outputs": [
    {
     "data": {
      "text/plain": "   key  value  k\n0    a    0.0  1\n1    b    1.0  1\n2    c    2.0  1\n3    a    3.0  1\n4    b    4.0  1\n5    c    5.0  1\n6    a    6.0  1\n7    b    7.0  1\n8    c    8.0  1\n9    a    9.0  1\n10   b   10.0  1\n11   c   11.0  1",
      "text/html": "<div>\n<style scoped>\n    .dataframe tbody tr th:only-of-type {\n        vertical-align: middle;\n    }\n\n    .dataframe tbody tr th {\n        vertical-align: top;\n    }\n\n    .dataframe thead th {\n        text-align: right;\n    }\n</style>\n<table border=\"1\" class=\"dataframe\">\n  <thead>\n    <tr style=\"text-align: right;\">\n      <th></th>\n      <th>key</th>\n      <th>value</th>\n      <th>k</th>\n    </tr>\n  </thead>\n  <tbody>\n    <tr>\n      <th>0</th>\n      <td>a</td>\n      <td>0.0</td>\n      <td>1</td>\n    </tr>\n    <tr>\n      <th>1</th>\n      <td>b</td>\n      <td>1.0</td>\n      <td>1</td>\n    </tr>\n    <tr>\n      <th>2</th>\n      <td>c</td>\n      <td>2.0</td>\n      <td>1</td>\n    </tr>\n    <tr>\n      <th>3</th>\n      <td>a</td>\n      <td>3.0</td>\n      <td>1</td>\n    </tr>\n    <tr>\n      <th>4</th>\n      <td>b</td>\n      <td>4.0</td>\n      <td>1</td>\n    </tr>\n    <tr>\n      <th>5</th>\n      <td>c</td>\n      <td>5.0</td>\n      <td>1</td>\n    </tr>\n    <tr>\n      <th>6</th>\n      <td>a</td>\n      <td>6.0</td>\n      <td>1</td>\n    </tr>\n    <tr>\n      <th>7</th>\n      <td>b</td>\n      <td>7.0</td>\n      <td>1</td>\n    </tr>\n    <tr>\n      <th>8</th>\n      <td>c</td>\n      <td>8.0</td>\n      <td>1</td>\n    </tr>\n    <tr>\n      <th>9</th>\n      <td>a</td>\n      <td>9.0</td>\n      <td>1</td>\n    </tr>\n    <tr>\n      <th>10</th>\n      <td>b</td>\n      <td>10.0</td>\n      <td>1</td>\n    </tr>\n    <tr>\n      <th>11</th>\n      <td>c</td>\n      <td>11.0</td>\n      <td>1</td>\n    </tr>\n  </tbody>\n</table>\n</div>"
     },
     "execution_count": 349,
     "metadata": {},
     "output_type": "execute_result"
    }
   ],
   "source": [
    "df.assign(k='1')"
   ],
   "metadata": {
    "collapsed": false,
    "pycharm": {
     "name": "#%%\n"
    }
   }
  },
  {
   "cell_type": "code",
   "execution_count": 350,
   "outputs": [
    {
     "data": {
      "text/plain": "   x0    x1    y\n0   1  0.01 -1.5\n1   2 -0.01  0.0\n2   3  0.25  3.6\n3   4 -4.10  1.3\n4   5  0.00 -2.0",
      "text/html": "<div>\n<style scoped>\n    .dataframe tbody tr th:only-of-type {\n        vertical-align: middle;\n    }\n\n    .dataframe tbody tr th {\n        vertical-align: top;\n    }\n\n    .dataframe thead th {\n        text-align: right;\n    }\n</style>\n<table border=\"1\" class=\"dataframe\">\n  <thead>\n    <tr style=\"text-align: right;\">\n      <th></th>\n      <th>x0</th>\n      <th>x1</th>\n      <th>y</th>\n    </tr>\n  </thead>\n  <tbody>\n    <tr>\n      <th>0</th>\n      <td>1</td>\n      <td>0.01</td>\n      <td>-1.5</td>\n    </tr>\n    <tr>\n      <th>1</th>\n      <td>2</td>\n      <td>-0.01</td>\n      <td>0.0</td>\n    </tr>\n    <tr>\n      <th>2</th>\n      <td>3</td>\n      <td>0.25</td>\n      <td>3.6</td>\n    </tr>\n    <tr>\n      <th>3</th>\n      <td>4</td>\n      <td>-4.10</td>\n      <td>1.3</td>\n    </tr>\n    <tr>\n      <th>4</th>\n      <td>5</td>\n      <td>0.00</td>\n      <td>-2.0</td>\n    </tr>\n  </tbody>\n</table>\n</div>"
     },
     "execution_count": 350,
     "metadata": {},
     "output_type": "execute_result"
    }
   ],
   "source": [
    "data = pd.DataFrame({\n",
    "      'x0': [1, 2, 3, 4, 5],\n",
    "     'x1': [0.01, -0.01, 0.25, -4.1, 0.],\n",
    "      'y': [-1.5, 0., 3.6, 1.3, -2.]})\n",
    "data"
   ],
   "metadata": {
    "collapsed": false,
    "pycharm": {
     "name": "#%%\n"
    }
   }
  },
  {
   "cell_type": "code",
   "execution_count": 352,
   "outputs": [
    {
     "data": {
      "text/plain": "   x0    x1    y strgs\n0   1  0.01 -1.5     a\n1   2 -0.01  0.0     b\n2   3  0.25  3.6     c\n3   4 -4.10  1.3     d\n4   5  0.00 -2.0     e",
      "text/html": "<div>\n<style scoped>\n    .dataframe tbody tr th:only-of-type {\n        vertical-align: middle;\n    }\n\n    .dataframe tbody tr th {\n        vertical-align: top;\n    }\n\n    .dataframe thead th {\n        text-align: right;\n    }\n</style>\n<table border=\"1\" class=\"dataframe\">\n  <thead>\n    <tr style=\"text-align: right;\">\n      <th></th>\n      <th>x0</th>\n      <th>x1</th>\n      <th>y</th>\n      <th>strgs</th>\n    </tr>\n  </thead>\n  <tbody>\n    <tr>\n      <th>0</th>\n      <td>1</td>\n      <td>0.01</td>\n      <td>-1.5</td>\n      <td>a</td>\n    </tr>\n    <tr>\n      <th>1</th>\n      <td>2</td>\n      <td>-0.01</td>\n      <td>0.0</td>\n      <td>b</td>\n    </tr>\n    <tr>\n      <th>2</th>\n      <td>3</td>\n      <td>0.25</td>\n      <td>3.6</td>\n      <td>c</td>\n    </tr>\n    <tr>\n      <th>3</th>\n      <td>4</td>\n      <td>-4.10</td>\n      <td>1.3</td>\n      <td>d</td>\n    </tr>\n    <tr>\n      <th>4</th>\n      <td>5</td>\n      <td>0.00</td>\n      <td>-2.0</td>\n      <td>e</td>\n    </tr>\n  </tbody>\n</table>\n</div>"
     },
     "execution_count": 352,
     "metadata": {},
     "output_type": "execute_result"
    }
   ],
   "source": [
    "df3 = data.copy()\n",
    "df3['strgs'] = list('abcde')\n",
    "df3"
   ],
   "metadata": {
    "collapsed": false,
    "pycharm": {
     "name": "#%%\n"
    }
   }
  },
  {
   "cell_type": "code",
   "execution_count": 361,
   "outputs": [
    {
     "data": {
      "text/plain": "   x0    x1    y categor\n0   1  0.01 -1.5       a\n1   2 -0.01  0.0       b\n2   3  0.25  3.6       a\n3   4 -4.10  1.3       c\n4   5  0.00 -2.0       b",
      "text/html": "<div>\n<style scoped>\n    .dataframe tbody tr th:only-of-type {\n        vertical-align: middle;\n    }\n\n    .dataframe tbody tr th {\n        vertical-align: top;\n    }\n\n    .dataframe thead th {\n        text-align: right;\n    }\n</style>\n<table border=\"1\" class=\"dataframe\">\n  <thead>\n    <tr style=\"text-align: right;\">\n      <th></th>\n      <th>x0</th>\n      <th>x1</th>\n      <th>y</th>\n      <th>categor</th>\n    </tr>\n  </thead>\n  <tbody>\n    <tr>\n      <th>0</th>\n      <td>1</td>\n      <td>0.01</td>\n      <td>-1.5</td>\n      <td>a</td>\n    </tr>\n    <tr>\n      <th>1</th>\n      <td>2</td>\n      <td>-0.01</td>\n      <td>0.0</td>\n      <td>b</td>\n    </tr>\n    <tr>\n      <th>2</th>\n      <td>3</td>\n      <td>0.25</td>\n      <td>3.6</td>\n      <td>a</td>\n    </tr>\n    <tr>\n      <th>3</th>\n      <td>4</td>\n      <td>-4.10</td>\n      <td>1.3</td>\n      <td>c</td>\n    </tr>\n    <tr>\n      <th>4</th>\n      <td>5</td>\n      <td>0.00</td>\n      <td>-2.0</td>\n      <td>b</td>\n    </tr>\n  </tbody>\n</table>\n</div>"
     },
     "execution_count": 361,
     "metadata": {},
     "output_type": "execute_result"
    }
   ],
   "source": [
    "data['categor'] = pd.Categorical(list('abacb'), categories=list('abc'))\n",
    "data"
   ],
   "metadata": {
    "collapsed": false,
    "pycharm": {
     "name": "#%%\n"
    }
   }
  },
  {
   "cell_type": "code",
   "execution_count": 362,
   "outputs": [
    {
     "data": {
      "text/plain": "   categor_a  categor_b  categor_c\n0          1          0          0\n1          0          1          0\n2          1          0          0\n3          0          0          1\n4          0          1          0",
      "text/html": "<div>\n<style scoped>\n    .dataframe tbody tr th:only-of-type {\n        vertical-align: middle;\n    }\n\n    .dataframe tbody tr th {\n        vertical-align: top;\n    }\n\n    .dataframe thead th {\n        text-align: right;\n    }\n</style>\n<table border=\"1\" class=\"dataframe\">\n  <thead>\n    <tr style=\"text-align: right;\">\n      <th></th>\n      <th>categor_a</th>\n      <th>categor_b</th>\n      <th>categor_c</th>\n    </tr>\n  </thead>\n  <tbody>\n    <tr>\n      <th>0</th>\n      <td>1</td>\n      <td>0</td>\n      <td>0</td>\n    </tr>\n    <tr>\n      <th>1</th>\n      <td>0</td>\n      <td>1</td>\n      <td>0</td>\n    </tr>\n    <tr>\n      <th>2</th>\n      <td>1</td>\n      <td>0</td>\n      <td>0</td>\n    </tr>\n    <tr>\n      <th>3</th>\n      <td>0</td>\n      <td>0</td>\n      <td>1</td>\n    </tr>\n    <tr>\n      <th>4</th>\n      <td>0</td>\n      <td>1</td>\n      <td>0</td>\n    </tr>\n  </tbody>\n</table>\n</div>"
     },
     "execution_count": 362,
     "metadata": {},
     "output_type": "execute_result"
    }
   ],
   "source": [
    "dm = pd.get_dummies(data.categor, prefix='categor')\n",
    "dm"
   ],
   "metadata": {
    "collapsed": false,
    "pycharm": {
     "name": "#%%\n"
    }
   }
  },
  {
   "cell_type": "code",
   "execution_count": 358,
   "outputs": [
    {
     "data": {
      "text/plain": "   x0    x1    y  categor_a  categor_b\n0   1  0.01 -1.5          1          0\n1   2 -0.01  0.0          0          1\n2   3  0.25  3.6          1          0\n3   4 -4.10  1.3          1          0\n4   5  0.00 -2.0          0          1",
      "text/html": "<div>\n<style scoped>\n    .dataframe tbody tr th:only-of-type {\n        vertical-align: middle;\n    }\n\n    .dataframe tbody tr th {\n        vertical-align: top;\n    }\n\n    .dataframe thead th {\n        text-align: right;\n    }\n</style>\n<table border=\"1\" class=\"dataframe\">\n  <thead>\n    <tr style=\"text-align: right;\">\n      <th></th>\n      <th>x0</th>\n      <th>x1</th>\n      <th>y</th>\n      <th>categor_a</th>\n      <th>categor_b</th>\n    </tr>\n  </thead>\n  <tbody>\n    <tr>\n      <th>0</th>\n      <td>1</td>\n      <td>0.01</td>\n      <td>-1.5</td>\n      <td>1</td>\n      <td>0</td>\n    </tr>\n    <tr>\n      <th>1</th>\n      <td>2</td>\n      <td>-0.01</td>\n      <td>0.0</td>\n      <td>0</td>\n      <td>1</td>\n    </tr>\n    <tr>\n      <th>2</th>\n      <td>3</td>\n      <td>0.25</td>\n      <td>3.6</td>\n      <td>1</td>\n      <td>0</td>\n    </tr>\n    <tr>\n      <th>3</th>\n      <td>4</td>\n      <td>-4.10</td>\n      <td>1.3</td>\n      <td>1</td>\n      <td>0</td>\n    </tr>\n    <tr>\n      <th>4</th>\n      <td>5</td>\n      <td>0.00</td>\n      <td>-2.0</td>\n      <td>0</td>\n      <td>1</td>\n    </tr>\n  </tbody>\n</table>\n</div>"
     },
     "execution_count": 358,
     "metadata": {},
     "output_type": "execute_result"
    }
   ],
   "source": [
    "dt = data.drop('categor', axis=1).join(dm)\n",
    "dt"
   ],
   "metadata": {
    "collapsed": false,
    "pycharm": {
     "name": "#%%\n"
    }
   }
  },
  {
   "cell_type": "code",
   "execution_count": null,
   "outputs": [],
   "source": [],
   "metadata": {
    "collapsed": false,
    "pycharm": {
     "name": "#%%\n"
    }
   }
  }
 ],
 "metadata": {
  "kernelspec": {
   "display_name": "Python 3 (ipykernel)",
   "language": "python",
   "name": "python3"
  },
  "language_info": {
   "codemirror_mode": {
    "name": "ipython",
    "version": 3
   },
   "file_extension": ".py",
   "mimetype": "text/x-python",
   "name": "python",
   "nbconvert_exporter": "python",
   "pygments_lexer": "ipython3",
   "version": "3.9.6"
  }
 },
 "nbformat": 4,
 "nbformat_minor": 5
}