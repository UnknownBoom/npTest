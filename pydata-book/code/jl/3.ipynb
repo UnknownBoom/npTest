{
 "cells": [
  {
   "cell_type": "code",
   "execution_count": 2,
   "metadata": {
    "collapsed": true
   },
   "outputs": [],
   "source": [
    "from datetime import datetime\n",
    "\n",
    "import pandas as pd\n",
    "import numpy as np\n",
    "import matplotlib.pyplot as pl\n",
    "import seaborn as sns\n",
    "import json"
   ]
  },
  {
   "cell_type": "code",
   "execution_count": 3,
   "outputs": [],
   "source": [
    "pd.options.display.max_rows = 10\n",
    "\n",
    "unames = ['user_id', 'gender', 'age', 'occupation', 'zip']\n",
    "users = pd.read_table('../../datasets/movielens/users.dat', sep='::',\n",
    "                      header=None, names=unames, engine='python')\n",
    "rnames = ['user_id', 'movie_id', 'rating', 'timestamp']\n",
    "ratings = pd.read_table('../../datasets/movielens/ratings.dat', sep='::',\n",
    "                        header=None, names=rnames,engine='python')\n",
    "\n",
    "mnames = ['movie_id', 'title', 'genres']\n",
    "movies = pd.read_table('../../datasets/movielens/movies.dat', sep='::',\n",
    "                       header=None, names=mnames,engine='python')"
   ],
   "metadata": {
    "collapsed": false,
    "pycharm": {
     "name": "#%%\n"
    }
   }
  },
  {
   "cell_type": "code",
   "execution_count": 4,
   "outputs": [
    {
     "data": {
      "text/plain": "   user_id gender  age  occupation    zip\n0        1      F    1          10  48067\n1        2      M   56          16  70072\n2        3      M   25          15  55117\n3        4      M   45           7  02460\n4        5      M   25          20  55455",
      "text/html": "<div>\n<style scoped>\n    .dataframe tbody tr th:only-of-type {\n        vertical-align: middle;\n    }\n\n    .dataframe tbody tr th {\n        vertical-align: top;\n    }\n\n    .dataframe thead th {\n        text-align: right;\n    }\n</style>\n<table border=\"1\" class=\"dataframe\">\n  <thead>\n    <tr style=\"text-align: right;\">\n      <th></th>\n      <th>user_id</th>\n      <th>gender</th>\n      <th>age</th>\n      <th>occupation</th>\n      <th>zip</th>\n    </tr>\n  </thead>\n  <tbody>\n    <tr>\n      <th>0</th>\n      <td>1</td>\n      <td>F</td>\n      <td>1</td>\n      <td>10</td>\n      <td>48067</td>\n    </tr>\n    <tr>\n      <th>1</th>\n      <td>2</td>\n      <td>M</td>\n      <td>56</td>\n      <td>16</td>\n      <td>70072</td>\n    </tr>\n    <tr>\n      <th>2</th>\n      <td>3</td>\n      <td>M</td>\n      <td>25</td>\n      <td>15</td>\n      <td>55117</td>\n    </tr>\n    <tr>\n      <th>3</th>\n      <td>4</td>\n      <td>M</td>\n      <td>45</td>\n      <td>7</td>\n      <td>02460</td>\n    </tr>\n    <tr>\n      <th>4</th>\n      <td>5</td>\n      <td>M</td>\n      <td>25</td>\n      <td>20</td>\n      <td>55455</td>\n    </tr>\n  </tbody>\n</table>\n</div>"
     },
     "execution_count": 4,
     "metadata": {},
     "output_type": "execute_result"
    }
   ],
   "source": [
    "users.head()"
   ],
   "metadata": {
    "collapsed": false,
    "pycharm": {
     "name": "#%%\n"
    }
   }
  },
  {
   "cell_type": "code",
   "execution_count": 5,
   "outputs": [
    {
     "data": {
      "text/plain": "   user_id  movie_id  rating  timestamp\n0        1      1193       5  978300760\n1        1       661       3  978302109\n2        1       914       3  978301968\n3        1      3408       4  978300275\n4        1      2355       5  978824291",
      "text/html": "<div>\n<style scoped>\n    .dataframe tbody tr th:only-of-type {\n        vertical-align: middle;\n    }\n\n    .dataframe tbody tr th {\n        vertical-align: top;\n    }\n\n    .dataframe thead th {\n        text-align: right;\n    }\n</style>\n<table border=\"1\" class=\"dataframe\">\n  <thead>\n    <tr style=\"text-align: right;\">\n      <th></th>\n      <th>user_id</th>\n      <th>movie_id</th>\n      <th>rating</th>\n      <th>timestamp</th>\n    </tr>\n  </thead>\n  <tbody>\n    <tr>\n      <th>0</th>\n      <td>1</td>\n      <td>1193</td>\n      <td>5</td>\n      <td>978300760</td>\n    </tr>\n    <tr>\n      <th>1</th>\n      <td>1</td>\n      <td>661</td>\n      <td>3</td>\n      <td>978302109</td>\n    </tr>\n    <tr>\n      <th>2</th>\n      <td>1</td>\n      <td>914</td>\n      <td>3</td>\n      <td>978301968</td>\n    </tr>\n    <tr>\n      <th>3</th>\n      <td>1</td>\n      <td>3408</td>\n      <td>4</td>\n      <td>978300275</td>\n    </tr>\n    <tr>\n      <th>4</th>\n      <td>1</td>\n      <td>2355</td>\n      <td>5</td>\n      <td>978824291</td>\n    </tr>\n  </tbody>\n</table>\n</div>"
     },
     "execution_count": 5,
     "metadata": {},
     "output_type": "execute_result"
    }
   ],
   "source": [
    "ratings.head()"
   ],
   "metadata": {
    "collapsed": false,
    "pycharm": {
     "name": "#%%\n"
    }
   }
  },
  {
   "cell_type": "code",
   "execution_count": 6,
   "outputs": [
    {
     "data": {
      "text/plain": "   movie_id                               title                        genres\n0         1                    Toy Story (1995)   Animation|Children's|Comedy\n1         2                      Jumanji (1995)  Adventure|Children's|Fantasy\n2         3             Grumpier Old Men (1995)                Comedy|Romance\n3         4            Waiting to Exhale (1995)                  Comedy|Drama\n4         5  Father of the Bride Part II (1995)                        Comedy",
      "text/html": "<div>\n<style scoped>\n    .dataframe tbody tr th:only-of-type {\n        vertical-align: middle;\n    }\n\n    .dataframe tbody tr th {\n        vertical-align: top;\n    }\n\n    .dataframe thead th {\n        text-align: right;\n    }\n</style>\n<table border=\"1\" class=\"dataframe\">\n  <thead>\n    <tr style=\"text-align: right;\">\n      <th></th>\n      <th>movie_id</th>\n      <th>title</th>\n      <th>genres</th>\n    </tr>\n  </thead>\n  <tbody>\n    <tr>\n      <th>0</th>\n      <td>1</td>\n      <td>Toy Story (1995)</td>\n      <td>Animation|Children's|Comedy</td>\n    </tr>\n    <tr>\n      <th>1</th>\n      <td>2</td>\n      <td>Jumanji (1995)</td>\n      <td>Adventure|Children's|Fantasy</td>\n    </tr>\n    <tr>\n      <th>2</th>\n      <td>3</td>\n      <td>Grumpier Old Men (1995)</td>\n      <td>Comedy|Romance</td>\n    </tr>\n    <tr>\n      <th>3</th>\n      <td>4</td>\n      <td>Waiting to Exhale (1995)</td>\n      <td>Comedy|Drama</td>\n    </tr>\n    <tr>\n      <th>4</th>\n      <td>5</td>\n      <td>Father of the Bride Part II (1995)</td>\n      <td>Comedy</td>\n    </tr>\n  </tbody>\n</table>\n</div>"
     },
     "execution_count": 6,
     "metadata": {},
     "output_type": "execute_result"
    }
   ],
   "source": [
    "movies.head()"
   ],
   "metadata": {
    "collapsed": false,
    "pycharm": {
     "name": "#%%\n"
    }
   }
  },
  {
   "cell_type": "code",
   "execution_count": 7,
   "outputs": [
    {
     "data": {
      "text/plain": "   user_id gender  age  occupation    zip  movie_id  rating  timestamp  \\\n0        1      F    1          10  48067      1193       5  978300760   \n1        2      M   56          16  70072      1193       5  978298413   \n2       12      M   25          12  32793      1193       4  978220179   \n3       15      M   25           7  22903      1193       4  978199279   \n4       17      M   50           1  95350      1193       5  978158471   \n\n                                    title genres  \n0  One Flew Over the Cuckoo's Nest (1975)  Drama  \n1  One Flew Over the Cuckoo's Nest (1975)  Drama  \n2  One Flew Over the Cuckoo's Nest (1975)  Drama  \n3  One Flew Over the Cuckoo's Nest (1975)  Drama  \n4  One Flew Over the Cuckoo's Nest (1975)  Drama  ",
      "text/html": "<div>\n<style scoped>\n    .dataframe tbody tr th:only-of-type {\n        vertical-align: middle;\n    }\n\n    .dataframe tbody tr th {\n        vertical-align: top;\n    }\n\n    .dataframe thead th {\n        text-align: right;\n    }\n</style>\n<table border=\"1\" class=\"dataframe\">\n  <thead>\n    <tr style=\"text-align: right;\">\n      <th></th>\n      <th>user_id</th>\n      <th>gender</th>\n      <th>age</th>\n      <th>occupation</th>\n      <th>zip</th>\n      <th>movie_id</th>\n      <th>rating</th>\n      <th>timestamp</th>\n      <th>title</th>\n      <th>genres</th>\n    </tr>\n  </thead>\n  <tbody>\n    <tr>\n      <th>0</th>\n      <td>1</td>\n      <td>F</td>\n      <td>1</td>\n      <td>10</td>\n      <td>48067</td>\n      <td>1193</td>\n      <td>5</td>\n      <td>978300760</td>\n      <td>One Flew Over the Cuckoo's Nest (1975)</td>\n      <td>Drama</td>\n    </tr>\n    <tr>\n      <th>1</th>\n      <td>2</td>\n      <td>M</td>\n      <td>56</td>\n      <td>16</td>\n      <td>70072</td>\n      <td>1193</td>\n      <td>5</td>\n      <td>978298413</td>\n      <td>One Flew Over the Cuckoo's Nest (1975)</td>\n      <td>Drama</td>\n    </tr>\n    <tr>\n      <th>2</th>\n      <td>12</td>\n      <td>M</td>\n      <td>25</td>\n      <td>12</td>\n      <td>32793</td>\n      <td>1193</td>\n      <td>4</td>\n      <td>978220179</td>\n      <td>One Flew Over the Cuckoo's Nest (1975)</td>\n      <td>Drama</td>\n    </tr>\n    <tr>\n      <th>3</th>\n      <td>15</td>\n      <td>M</td>\n      <td>25</td>\n      <td>7</td>\n      <td>22903</td>\n      <td>1193</td>\n      <td>4</td>\n      <td>978199279</td>\n      <td>One Flew Over the Cuckoo's Nest (1975)</td>\n      <td>Drama</td>\n    </tr>\n    <tr>\n      <th>4</th>\n      <td>17</td>\n      <td>M</td>\n      <td>50</td>\n      <td>1</td>\n      <td>95350</td>\n      <td>1193</td>\n      <td>5</td>\n      <td>978158471</td>\n      <td>One Flew Over the Cuckoo's Nest (1975)</td>\n      <td>Drama</td>\n    </tr>\n  </tbody>\n</table>\n</div>"
     },
     "execution_count": 7,
     "metadata": {},
     "output_type": "execute_result"
    }
   ],
   "source": [
    "df = pd.merge(pd.merge(users, ratings), movies)\n",
    "df.head()"
   ],
   "metadata": {
    "collapsed": false,
    "pycharm": {
     "name": "#%%\n"
    }
   }
  },
  {
   "cell_type": "code",
   "execution_count": 8,
   "outputs": [
    {
     "data": {
      "text/plain": "gender                                F         M\ntitle                                            \n$1,000,000 Duck (1971)         3.375000  2.761905\n'Night Mother (1986)           3.388889  3.352941\n'Til There Was You (1997)      2.675676  2.733333\n'burbs, The (1989)             2.793478  2.962085\n...And Justice for All (1979)  3.828571  3.689024",
      "text/html": "<div>\n<style scoped>\n    .dataframe tbody tr th:only-of-type {\n        vertical-align: middle;\n    }\n\n    .dataframe tbody tr th {\n        vertical-align: top;\n    }\n\n    .dataframe thead th {\n        text-align: right;\n    }\n</style>\n<table border=\"1\" class=\"dataframe\">\n  <thead>\n    <tr style=\"text-align: right;\">\n      <th>gender</th>\n      <th>F</th>\n      <th>M</th>\n    </tr>\n    <tr>\n      <th>title</th>\n      <th></th>\n      <th></th>\n    </tr>\n  </thead>\n  <tbody>\n    <tr>\n      <th>$1,000,000 Duck (1971)</th>\n      <td>3.375000</td>\n      <td>2.761905</td>\n    </tr>\n    <tr>\n      <th>'Night Mother (1986)</th>\n      <td>3.388889</td>\n      <td>3.352941</td>\n    </tr>\n    <tr>\n      <th>'Til There Was You (1997)</th>\n      <td>2.675676</td>\n      <td>2.733333</td>\n    </tr>\n    <tr>\n      <th>'burbs, The (1989)</th>\n      <td>2.793478</td>\n      <td>2.962085</td>\n    </tr>\n    <tr>\n      <th>...And Justice for All (1979)</th>\n      <td>3.828571</td>\n      <td>3.689024</td>\n    </tr>\n  </tbody>\n</table>\n</div>"
     },
     "execution_count": 8,
     "metadata": {},
     "output_type": "execute_result"
    }
   ],
   "source": [
    "mt = df.pivot_table('rating', index='title', columns='gender', aggfunc='mean')\n",
    "mt.head()"
   ],
   "metadata": {
    "collapsed": false,
    "pycharm": {
     "name": "#%%\n"
    }
   }
  },
  {
   "cell_type": "code",
   "execution_count": 9,
   "outputs": [
    {
     "data": {
      "text/plain": "title\n$1,000,000 Duck (1971)                         37\n'Night Mother (1986)                           70\n'Til There Was You (1997)                      52\n'burbs, The (1989)                            303\n...And Justice for All (1979)                 199\n                                             ... \nZed & Two Noughts, A (1985)                    29\nZero Effect (1998)                            301\nZero Kelvin (Kjærlighetens kjøtere) (1995)      2\nZeus and Roxanne (1997)                        23\neXistenZ (1999)                               410\nLength: 3706, dtype: int64"
     },
     "execution_count": 9,
     "metadata": {},
     "output_type": "execute_result"
    }
   ],
   "source": [
    "gr_size = df.groupby('title').size()\n",
    "gr_size"
   ],
   "metadata": {
    "collapsed": false,
    "pycharm": {
     "name": "#%%\n"
    }
   }
  },
  {
   "cell_type": "code",
   "execution_count": 10,
   "outputs": [],
   "source": [
    "ai = gr_size[gr_size > 250].index"
   ],
   "metadata": {
    "collapsed": false,
    "pycharm": {
     "name": "#%%\n"
    }
   }
  },
  {
   "cell_type": "code",
   "execution_count": 11,
   "outputs": [
    {
     "data": {
      "text/plain": "gender                                    F         M\ntitle                                                \n'burbs, The (1989)                 2.793478  2.962085\n10 Things I Hate About You (1999)  3.646552  3.311966\n101 Dalmatians (1961)              3.791444  3.500000\n101 Dalmatians (1996)              3.240000  2.911215\n12 Angry Men (1957)                4.184397  4.328421",
      "text/html": "<div>\n<style scoped>\n    .dataframe tbody tr th:only-of-type {\n        vertical-align: middle;\n    }\n\n    .dataframe tbody tr th {\n        vertical-align: top;\n    }\n\n    .dataframe thead th {\n        text-align: right;\n    }\n</style>\n<table border=\"1\" class=\"dataframe\">\n  <thead>\n    <tr style=\"text-align: right;\">\n      <th>gender</th>\n      <th>F</th>\n      <th>M</th>\n    </tr>\n    <tr>\n      <th>title</th>\n      <th></th>\n      <th></th>\n    </tr>\n  </thead>\n  <tbody>\n    <tr>\n      <th>'burbs, The (1989)</th>\n      <td>2.793478</td>\n      <td>2.962085</td>\n    </tr>\n    <tr>\n      <th>10 Things I Hate About You (1999)</th>\n      <td>3.646552</td>\n      <td>3.311966</td>\n    </tr>\n    <tr>\n      <th>101 Dalmatians (1961)</th>\n      <td>3.791444</td>\n      <td>3.500000</td>\n    </tr>\n    <tr>\n      <th>101 Dalmatians (1996)</th>\n      <td>3.240000</td>\n      <td>2.911215</td>\n    </tr>\n    <tr>\n      <th>12 Angry Men (1957)</th>\n      <td>4.184397</td>\n      <td>4.328421</td>\n    </tr>\n  </tbody>\n</table>\n</div>"
     },
     "execution_count": 11,
     "metadata": {},
     "output_type": "execute_result"
    }
   ],
   "source": [
    "res = mt.loc[ai]\n",
    "res.head()"
   ],
   "metadata": {
    "collapsed": false,
    "pycharm": {
     "name": "#%%\n"
    }
   }
  },
  {
   "cell_type": "code",
   "execution_count": 12,
   "outputs": [
    {
     "data": {
      "text/plain": "<AxesSubplot:xlabel='title'>"
     },
     "execution_count": 12,
     "metadata": {},
     "output_type": "execute_result"
    },
    {
     "data": {
      "text/plain": "<Figure size 432x288 with 1 Axes>",
      "image/png": "[encoded data removed]"
     },
     "metadata": {
      "needs_background": "light"
     },
     "output_type": "display_data"
    }
   ],
   "source": [
    "res.head().plot.bar()"
   ],
   "metadata": {
    "collapsed": false,
    "pycharm": {
     "name": "#%%\n"
    }
   }
  },
  {
   "cell_type": "code",
   "execution_count": 13,
   "outputs": [
    {
     "data": {
      "text/plain": "title                                gender\n'burbs, The (1989)                   F         2.793478\n                                     M         2.962085\n10 Things I Hate About You (1999)    F         3.646552\n                                     M         3.311966\n101 Dalmatians (1961)                F         3.791444\n                                                 ...   \n20,000 Leagues Under the Sea (1954)  M         3.709205\n2001: A Space Odyssey (1968)         F         3.825581\n                                     M         4.129738\n2010 (1984)                          F         3.446809\n                                     M         3.413712\nName: total, Length: 20, dtype: float64"
     },
     "execution_count": 13,
     "metadata": {},
     "output_type": "execute_result"
    }
   ],
   "source": [
    "m10 = res.head(10).stack()\n",
    "m10.name='total'\n",
    "m10"
   ],
   "metadata": {
    "collapsed": false,
    "pycharm": {
     "name": "#%%\n"
    }
   }
  },
  {
   "cell_type": "code",
   "execution_count": 15,
   "outputs": [
    {
     "data": {
      "text/plain": "<AxesSubplot:xlabel='total', ylabel='title'>"
     },
     "execution_count": 15,
     "metadata": {},
     "output_type": "execute_result"
    },
    {
     "data": {
      "text/plain": "<Figure size 432x288 with 1 Axes>",
      "image/png": "[encoded data removed]"
     },
     "metadata": {
      "needs_background": "light"
     },
     "output_type": "display_data"
    }
   ],
   "source": [
    "sns.barplot(x='total', y='title', hue='gender', data=m10.reset_index())"
   ],
   "metadata": {
    "collapsed": false,
    "pycharm": {
     "name": "#%%\n"
    }
   }
  },
  {
   "cell_type": "code",
   "execution_count": 30,
   "outputs": [
    {
     "data": {
      "text/plain": "gender                                         F         M        df\ntitle                                                               \nDumb & Dumber (1994)                    2.697987  3.336595  0.638608\nJumpin' Jack Flash (1986)               3.254717  2.578358  0.676359\nKentucky Fried Movie, The (1977)        2.878788  3.555147  0.676359\nGood, The Bad and The Ugly, The (1966)  3.494949  4.221300  0.726351\nDirty Dancing (1987)                    3.790378  2.959596  0.830782",
      "text/html": "<div>\n<style scoped>\n    .dataframe tbody tr th:only-of-type {\n        vertical-align: middle;\n    }\n\n    .dataframe tbody tr th {\n        vertical-align: top;\n    }\n\n    .dataframe thead th {\n        text-align: right;\n    }\n</style>\n<table border=\"1\" class=\"dataframe\">\n  <thead>\n    <tr style=\"text-align: right;\">\n      <th>gender</th>\n      <th>F</th>\n      <th>M</th>\n      <th>df</th>\n    </tr>\n    <tr>\n      <th>title</th>\n      <th></th>\n      <th></th>\n      <th></th>\n    </tr>\n  </thead>\n  <tbody>\n    <tr>\n      <th>Dumb &amp; Dumber (1994)</th>\n      <td>2.697987</td>\n      <td>3.336595</td>\n      <td>0.638608</td>\n    </tr>\n    <tr>\n      <th>Jumpin' Jack Flash (1986)</th>\n      <td>3.254717</td>\n      <td>2.578358</td>\n      <td>0.676359</td>\n    </tr>\n    <tr>\n      <th>Kentucky Fried Movie, The (1977)</th>\n      <td>2.878788</td>\n      <td>3.555147</td>\n      <td>0.676359</td>\n    </tr>\n    <tr>\n      <th>Good, The Bad and The Ugly, The (1966)</th>\n      <td>3.494949</td>\n      <td>4.221300</td>\n      <td>0.726351</td>\n    </tr>\n    <tr>\n      <th>Dirty Dancing (1987)</th>\n      <td>3.790378</td>\n      <td>2.959596</td>\n      <td>0.830782</td>\n    </tr>\n  </tbody>\n</table>\n</div>"
     },
     "execution_count": 30,
     "metadata": {},
     "output_type": "execute_result"
    }
   ],
   "source": [
    "res['df'] = res['M'] - res['F']\n",
    "res['df'] = np.abs(res['df'])\n",
    "res = res.sort_values(by='df')\n",
    "res[-5:]"
   ],
   "metadata": {
    "collapsed": false,
    "pycharm": {
     "name": "#%%\n"
    }
   }
  },
  {
   "cell_type": "code",
   "execution_count": 32,
   "outputs": [
    {
     "data": {
      "text/plain": "         user_id gender  age  occupation    zip  movie_id  rating  timestamp  \\\n0              1      F    1          10  48067      1193       5  978300760   \n1              2      M   56          16  70072      1193       5  978298413   \n2             12      M   25          12  32793      1193       4  978220179   \n3             15      M   25           7  22903      1193       4  978199279   \n4             17      M   50           1  95350      1193       5  978158471   \n...          ...    ...  ...         ...    ...       ...     ...        ...   \n1000204     5949      M   18          17  47901      2198       5  958846401   \n1000205     5675      M   35          14  30030      2703       3  976029116   \n1000206     5780      M   18          17  92886      2845       1  958153068   \n1000207     5851      F   18          20  55410      3607       5  957756608   \n1000208     5938      M   25           1  35401      2909       4  957273353   \n\n                                               title                genres  \n0             One Flew Over the Cuckoo's Nest (1975)                 Drama  \n1             One Flew Over the Cuckoo's Nest (1975)                 Drama  \n2             One Flew Over the Cuckoo's Nest (1975)                 Drama  \n3             One Flew Over the Cuckoo's Nest (1975)                 Drama  \n4             One Flew Over the Cuckoo's Nest (1975)                 Drama  \n...                                              ...                   ...  \n1000204                           Modulations (1998)           Documentary  \n1000205                        Broken Vessels (1998)                 Drama  \n1000206                            White Boys (1999)                 Drama  \n1000207                     One Little Indian (1973)  Comedy|Drama|Western  \n1000208  Five Wives, Three Secretaries and Me (1998)           Documentary  \n\n[1000209 rows x 10 columns]",
      "text/html": "<div>\n<style scoped>\n    .dataframe tbody tr th:only-of-type {\n        vertical-align: middle;\n    }\n\n    .dataframe tbody tr th {\n        vertical-align: top;\n    }\n\n    .dataframe thead th {\n        text-align: right;\n    }\n</style>\n<table border=\"1\" class=\"dataframe\">\n  <thead>\n    <tr style=\"text-align: right;\">\n      <th></th>\n      <th>user_id</th>\n      <th>gender</th>\n      <th>age</th>\n      <th>occupation</th>\n      <th>zip</th>\n      <th>movie_id</th>\n      <th>rating</th>\n      <th>timestamp</th>\n      <th>title</th>\n      <th>genres</th>\n    </tr>\n  </thead>\n  <tbody>\n    <tr>\n      <th>0</th>\n      <td>1</td>\n      <td>F</td>\n      <td>1</td>\n      <td>10</td>\n      <td>48067</td>\n      <td>1193</td>\n      <td>5</td>\n      <td>978300760</td>\n      <td>One Flew Over the Cuckoo's Nest (1975)</td>\n      <td>Drama</td>\n    </tr>\n    <tr>\n      <th>1</th>\n      <td>2</td>\n      <td>M</td>\n      <td>56</td>\n      <td>16</td>\n      <td>70072</td>\n      <td>1193</td>\n      <td>5</td>\n      <td>978298413</td>\n      <td>One Flew Over the Cuckoo's Nest (1975)</td>\n      <td>Drama</td>\n    </tr>\n    <tr>\n      <th>2</th>\n      <td>12</td>\n      <td>M</td>\n      <td>25</td>\n      <td>12</td>\n      <td>32793</td>\n      <td>1193</td>\n      <td>4</td>\n      <td>978220179</td>\n      <td>One Flew Over the Cuckoo's Nest (1975)</td>\n      <td>Drama</td>\n    </tr>\n    <tr>\n      <th>3</th>\n      <td>15</td>\n      <td>M</td>\n      <td>25</td>\n      <td>7</td>\n      <td>22903</td>\n      <td>1193</td>\n      <td>4</td>\n      <td>978199279</td>\n      <td>One Flew Over the Cuckoo's Nest (1975)</td>\n      <td>Drama</td>\n    </tr>\n    <tr>\n      <th>4</th>\n      <td>17</td>\n      <td>M</td>\n      <td>50</td>\n      <td>1</td>\n      <td>95350</td>\n      <td>1193</td>\n      <td>5</td>\n      <td>978158471</td>\n      <td>One Flew Over the Cuckoo's Nest (1975)</td>\n      <td>Drama</td>\n    </tr>\n    <tr>\n      <th>...</th>\n      <td>...</td>\n      <td>...</td>\n      <td>...</td>\n      <td>...</td>\n      <td>...</td>\n      <td>...</td>\n      <td>...</td>\n      <td>...</td>\n      <td>...</td>\n      <td>...</td>\n    </tr>\n    <tr>\n      <th>1000204</th>\n      <td>5949</td>\n      <td>M</td>\n      <td>18</td>\n      <td>17</td>\n      <td>47901</td>\n      <td>2198</td>\n      <td>5</td>\n      <td>958846401</td>\n      <td>Modulations (1998)</td>\n      <td>Documentary</td>\n    </tr>\n    <tr>\n      <th>1000205</th>\n      <td>5675</td>\n      <td>M</td>\n      <td>35</td>\n      <td>14</td>\n      <td>30030</td>\n      <td>2703</td>\n      <td>3</td>\n      <td>976029116</td>\n      <td>Broken Vessels (1998)</td>\n      <td>Drama</td>\n    </tr>\n    <tr>\n      <th>1000206</th>\n      <td>5780</td>\n      <td>M</td>\n      <td>18</td>\n      <td>17</td>\n      <td>92886</td>\n      <td>2845</td>\n      <td>1</td>\n      <td>958153068</td>\n      <td>White Boys (1999)</td>\n      <td>Drama</td>\n    </tr>\n    <tr>\n      <th>1000207</th>\n      <td>5851</td>\n      <td>F</td>\n      <td>18</td>\n      <td>20</td>\n      <td>55410</td>\n      <td>3607</td>\n      <td>5</td>\n      <td>957756608</td>\n      <td>One Little Indian (1973)</td>\n      <td>Comedy|Drama|Western</td>\n    </tr>\n    <tr>\n      <th>1000208</th>\n      <td>5938</td>\n      <td>M</td>\n      <td>25</td>\n      <td>1</td>\n      <td>35401</td>\n      <td>2909</td>\n      <td>4</td>\n      <td>957273353</td>\n      <td>Five Wives, Three Secretaries and Me (1998)</td>\n      <td>Documentary</td>\n    </tr>\n  </tbody>\n</table>\n<p>1000209 rows × 10 columns</p>\n</div>"
     },
     "execution_count": 32,
     "metadata": {},
     "output_type": "execute_result"
    }
   ],
   "source": [
    "df1 = df.copy()\n",
    "df1"
   ],
   "metadata": {
    "collapsed": false,
    "pycharm": {
     "name": "#%%\n"
    }
   }
  },
  {
   "cell_type": "code",
   "execution_count": 37,
   "outputs": [
    {
     "data": {
      "text/plain": "title\nDumb & Dumber (1994)                     1.321333\nBlair Witch Project, The (1999)          1.316368\nNatural Born Killers (1994)              1.307198\nTank Girl (1995)                         1.277695\nRocky Horror Picture Show, The (1975)    1.260177\n                                           ...   \nWrong Trousers, The (1993)               0.708666\nShawshank Redemption, The (1994)         0.700443\nGreat Escape, The (1963)                 0.692585\nRear Window (1954)                       0.688946\nClose Shave, A (1995)                    0.667143\nName: rating, Length: 1214, dtype: float64"
     },
     "execution_count": 37,
     "metadata": {},
     "output_type": "execute_result"
    }
   ],
   "source": [
    "srd_rating = df1.groupby('title')['rating'].std()\n",
    "srd_rating.loc[ai].sort_values(ascending=False)"
   ],
   "metadata": {
    "collapsed": false,
    "pycharm": {
     "name": "#%%\n"
    }
   }
  },
  {
   "cell_type": "code",
   "execution_count": null,
   "outputs": [],
   "source": [],
   "metadata": {
    "collapsed": false,
    "pycharm": {
     "name": "#%%\n"
    }
   }
  }
 ],
 "metadata": {
  "kernelspec": {
   "display_name": "Python 3",
   "language": "python",
   "name": "python3"
  },
  "language_info": {
   "codemirror_mode": {
    "name": "ipython",
    "version": 2
   },
   "file_extension": ".py",
   "mimetype": "text/x-python",
   "name": "python",
   "nbconvert_exporter": "python",
   "pygments_lexer": "ipython2",
   "version": "2.7.6"
  }
 },
 "nbformat": 4,
 "nbformat_minor": 0
}