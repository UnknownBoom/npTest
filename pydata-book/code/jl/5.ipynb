{
 "cells": [
  {
   "cell_type": "code",
   "execution_count": 52,
   "metadata": {
    "collapsed": true
   },
   "outputs": [],
   "source": [
    "import os\n",
    "from datetime import datetime\n",
    "\n",
    "import pandas as pd\n",
    "import numpy as np\n",
    "import matplotlib.pyplot as pl\n",
    "import seaborn as sns\n",
    "import json"
   ]
  },
  {
   "cell_type": "code",
   "execution_count": 53,
   "outputs": [],
   "source": [
    "json_data = json.load(open('../../datasets/usda_food/database.json', 'r'))"
   ],
   "metadata": {
    "collapsed": false,
    "pycharm": {
     "name": "#%%\n"
    }
   }
  },
  {
   "cell_type": "code",
   "execution_count": 54,
   "outputs": [
    {
     "data": {
      "text/plain": "{'id': 1008,\n 'description': 'Cheese, caraway',\n 'tags': [],\n 'manufacturer': '',\n 'group': 'Dairy and Egg Products',\n 'portions': [{'amount': 1, 'unit': 'oz', 'grams': 28.35}],\n 'nutrients': [{'value': 25.18,\n   'units': 'g',\n   'description': 'Protein',\n   'group': 'Composition'},\n  {'value': 29.2,\n   'units': 'g',\n   'description': 'Total lipid (fat)',\n   'group': 'Composition'},\n  {'value': 3.06,\n   'units': 'g',\n   'description': 'Carbohydrate, by difference',\n   'group': 'Composition'},\n  {'value': 3.28, 'units': 'g', 'description': 'Ash', 'group': 'Other'},\n  {'value': 376.0,\n   'units': 'kcal',\n   'description': 'Energy',\n   'group': 'Energy'},\n  {'value': 39.28,\n   'units': 'g',\n   'description': 'Water',\n   'group': 'Composition'},\n  {'value': 1573.0, 'units': 'kJ', 'description': 'Energy', 'group': 'Energy'},\n  {'value': 0.0,\n   'units': 'g',\n   'description': 'Fiber, total dietary',\n   'group': 'Composition'},\n  {'value': 673.0,\n   'units': 'mg',\n   'description': 'Calcium, Ca',\n   'group': 'Elements'},\n  {'value': 0.64,\n   'units': 'mg',\n   'description': 'Iron, Fe',\n   'group': 'Elements'},\n  {'value': 22.0,\n   'units': 'mg',\n   'description': 'Magnesium, Mg',\n   'group': 'Elements'},\n  {'value': 490.0,\n   'units': 'mg',\n   'description': 'Phosphorus, P',\n   'group': 'Elements'},\n  {'value': 93.0,\n   'units': 'mg',\n   'description': 'Potassium, K',\n   'group': 'Elements'},\n  {'value': 690.0,\n   'units': 'mg',\n   'description': 'Sodium, Na',\n   'group': 'Elements'},\n  {'value': 2.94,\n   'units': 'mg',\n   'description': 'Zinc, Zn',\n   'group': 'Elements'},\n  {'value': 0.024,\n   'units': 'mg',\n   'description': 'Copper, Cu',\n   'group': 'Elements'},\n  {'value': 0.021,\n   'units': 'mg',\n   'description': 'Manganese, Mn',\n   'group': 'Elements'},\n  {'value': 14.5,\n   'units': 'mcg',\n   'description': 'Selenium, Se',\n   'group': 'Elements'},\n  {'value': 1054.0,\n   'units': 'IU',\n   'description': 'Vitamin A, IU',\n   'group': 'Vitamins'},\n  {'value': 262.0,\n   'units': 'mcg',\n   'description': 'Retinol',\n   'group': 'Vitamins'},\n  {'value': 271.0,\n   'units': 'mcg_RAE',\n   'description': 'Vitamin A, RAE',\n   'group': 'Vitamins'},\n  {'value': 0.0,\n   'units': 'mg',\n   'description': 'Vitamin C, total ascorbic acid',\n   'group': 'Vitamins'},\n  {'value': 0.031,\n   'units': 'mg',\n   'description': 'Thiamin',\n   'group': 'Vitamins'},\n  {'value': 0.45,\n   'units': 'mg',\n   'description': 'Riboflavin',\n   'group': 'Vitamins'},\n  {'value': 0.18, 'units': 'mg', 'description': 'Niacin', 'group': 'Vitamins'},\n  {'value': 0.19,\n   'units': 'mg',\n   'description': 'Pantothenic acid',\n   'group': 'Vitamins'},\n  {'value': 0.074,\n   'units': 'mg',\n   'description': 'Vitamin B-6',\n   'group': 'Vitamins'},\n  {'value': 18.0,\n   'units': 'mcg',\n   'description': 'Folate, total',\n   'group': 'Vitamins'},\n  {'value': 0.27,\n   'units': 'mcg',\n   'description': 'Vitamin B-12',\n   'group': 'Vitamins'},\n  {'value': 0.0,\n   'units': 'mcg',\n   'description': 'Folic acid',\n   'group': 'Vitamins'},\n  {'value': 18.0,\n   'units': 'mcg',\n   'description': 'Folate, food',\n   'group': 'Vitamins'},\n  {'value': 18.0,\n   'units': 'mcg_DFE',\n   'description': 'Folate, DFE',\n   'group': 'Vitamins'},\n  {'value': 93.0,\n   'units': 'mg',\n   'description': 'Cholesterol',\n   'group': 'Other'},\n  {'value': 18.584,\n   'units': 'g',\n   'description': 'Fatty acids, total saturated',\n   'group': 'Other'},\n  {'value': 8.275,\n   'units': 'g',\n   'description': 'Fatty acids, total monounsaturated',\n   'group': 'Other'},\n  {'value': 0.83,\n   'units': 'g',\n   'description': 'Fatty acids, total polyunsaturated',\n   'group': 'Other'},\n  {'value': 0.324,\n   'units': 'g',\n   'description': 'Tryptophan',\n   'group': 'Amino Acids'},\n  {'value': 0.896,\n   'units': 'g',\n   'description': 'Threonine',\n   'group': 'Amino Acids'},\n  {'value': 1.563,\n   'units': 'g',\n   'description': 'Isoleucine',\n   'group': 'Amino Acids'},\n  {'value': 2.412,\n   'units': 'g',\n   'description': 'Leucine',\n   'group': 'Amino Acids'},\n  {'value': 2.095,\n   'units': 'g',\n   'description': 'Lysine',\n   'group': 'Amino Acids'},\n  {'value': 0.659,\n   'units': 'g',\n   'description': 'Methionine',\n   'group': 'Amino Acids'},\n  {'value': 0.126,\n   'units': 'g',\n   'description': 'Cystine',\n   'group': 'Amino Acids'},\n  {'value': 1.326,\n   'units': 'g',\n   'description': 'Phenylalanine',\n   'group': 'Amino Acids'},\n  {'value': 1.216,\n   'units': 'g',\n   'description': 'Tyrosine',\n   'group': 'Amino Acids'},\n  {'value': 1.682,\n   'units': 'g',\n   'description': 'Valine',\n   'group': 'Amino Acids'},\n  {'value': 0.952,\n   'units': 'g',\n   'description': 'Arginine',\n   'group': 'Amino Acids'},\n  {'value': 0.884,\n   'units': 'g',\n   'description': 'Histidine',\n   'group': 'Amino Acids'},\n  {'value': 0.711,\n   'units': 'g',\n   'description': 'Alanine',\n   'group': 'Amino Acids'},\n  {'value': 1.618,\n   'units': 'g',\n   'description': 'Aspartic acid',\n   'group': 'Amino Acids'},\n  {'value': 6.16,\n   'units': 'g',\n   'description': 'Glutamic acid',\n   'group': 'Amino Acids'},\n  {'value': 0.439,\n   'units': 'g',\n   'description': 'Glycine',\n   'group': 'Amino Acids'},\n  {'value': 2.838,\n   'units': 'g',\n   'description': 'Proline',\n   'group': 'Amino Acids'},\n  {'value': 1.472,\n   'units': 'g',\n   'description': 'Serine',\n   'group': 'Amino Acids'},\n  {'value': 25.18,\n   'units': 'g',\n   'description': 'Protein',\n   'group': 'Composition'},\n  {'value': 29.2,\n   'units': 'g',\n   'description': 'Total lipid (fat)',\n   'group': 'Composition'},\n  {'value': 3.06,\n   'units': 'g',\n   'description': 'Carbohydrate, by difference',\n   'group': 'Composition'},\n  {'value': 3.28, 'units': 'g', 'description': 'Ash', 'group': 'Other'},\n  {'value': 376.0,\n   'units': 'kcal',\n   'description': 'Energy',\n   'group': 'Energy'},\n  {'value': 39.28,\n   'units': 'g',\n   'description': 'Water',\n   'group': 'Composition'},\n  {'value': 1573.0, 'units': 'kJ', 'description': 'Energy', 'group': 'Energy'},\n  {'value': 0.0,\n   'units': 'g',\n   'description': 'Fiber, total dietary',\n   'group': 'Composition'},\n  {'value': 673.0,\n   'units': 'mg',\n   'description': 'Calcium, Ca',\n   'group': 'Elements'},\n  {'value': 0.64,\n   'units': 'mg',\n   'description': 'Iron, Fe',\n   'group': 'Elements'},\n  {'value': 22.0,\n   'units': 'mg',\n   'description': 'Magnesium, Mg',\n   'group': 'Elements'},\n  {'value': 490.0,\n   'units': 'mg',\n   'description': 'Phosphorus, P',\n   'group': 'Elements'},\n  {'value': 93.0,\n   'units': 'mg',\n   'description': 'Potassium, K',\n   'group': 'Elements'},\n  {'value': 690.0,\n   'units': 'mg',\n   'description': 'Sodium, Na',\n   'group': 'Elements'},\n  {'value': 2.94,\n   'units': 'mg',\n   'description': 'Zinc, Zn',\n   'group': 'Elements'},\n  {'value': 0.024,\n   'units': 'mg',\n   'description': 'Copper, Cu',\n   'group': 'Elements'},\n  {'value': 0.021,\n   'units': 'mg',\n   'description': 'Manganese, Mn',\n   'group': 'Elements'},\n  {'value': 14.5,\n   'units': 'mcg',\n   'description': 'Selenium, Se',\n   'group': 'Elements'},\n  {'value': 1054.0,\n   'units': 'IU',\n   'description': 'Vitamin A, IU',\n   'group': 'Vitamins'},\n  {'value': 262.0,\n   'units': 'mcg',\n   'description': 'Retinol',\n   'group': 'Vitamins'},\n  {'value': 271.0,\n   'units': 'mcg_RAE',\n   'description': 'Vitamin A, RAE',\n   'group': 'Vitamins'},\n  {'value': 0.0,\n   'units': 'mg',\n   'description': 'Vitamin C, total ascorbic acid',\n   'group': 'Vitamins'},\n  {'value': 0.031,\n   'units': 'mg',\n   'description': 'Thiamin',\n   'group': 'Vitamins'},\n  {'value': 0.45,\n   'units': 'mg',\n   'description': 'Riboflavin',\n   'group': 'Vitamins'},\n  {'value': 0.18, 'units': 'mg', 'description': 'Niacin', 'group': 'Vitamins'},\n  {'value': 0.19,\n   'units': 'mg',\n   'description': 'Pantothenic acid',\n   'group': 'Vitamins'},\n  {'value': 0.074,\n   'units': 'mg',\n   'description': 'Vitamin B-6',\n   'group': 'Vitamins'},\n  {'value': 18.0,\n   'units': 'mcg',\n   'description': 'Folate, total',\n   'group': 'Vitamins'},\n  {'value': 0.27,\n   'units': 'mcg',\n   'description': 'Vitamin B-12',\n   'group': 'Vitamins'},\n  {'value': 0.0,\n   'units': 'mcg',\n   'description': 'Folic acid',\n   'group': 'Vitamins'},\n  {'value': 18.0,\n   'units': 'mcg',\n   'description': 'Folate, food',\n   'group': 'Vitamins'},\n  {'value': 18.0,\n   'units': 'mcg_DFE',\n   'description': 'Folate, DFE',\n   'group': 'Vitamins'},\n  {'value': 0.324,\n   'units': 'g',\n   'description': 'Tryptophan',\n   'group': 'Amino Acids'},\n  {'value': 0.896,\n   'units': 'g',\n   'description': 'Threonine',\n   'group': 'Amino Acids'},\n  {'value': 1.563,\n   'units': 'g',\n   'description': 'Isoleucine',\n   'group': 'Amino Acids'},\n  {'value': 2.412,\n   'units': 'g',\n   'description': 'Leucine',\n   'group': 'Amino Acids'},\n  {'value': 2.095,\n   'units': 'g',\n   'description': 'Lysine',\n   'group': 'Amino Acids'},\n  {'value': 0.659,\n   'units': 'g',\n   'description': 'Methionine',\n   'group': 'Amino Acids'},\n  {'value': 0.126,\n   'units': 'g',\n   'description': 'Cystine',\n   'group': 'Amino Acids'},\n  {'value': 1.326,\n   'units': 'g',\n   'description': 'Phenylalanine',\n   'group': 'Amino Acids'},\n  {'value': 1.216,\n   'units': 'g',\n   'description': 'Tyrosine',\n   'group': 'Amino Acids'},\n  {'value': 1.682,\n   'units': 'g',\n   'description': 'Valine',\n   'group': 'Amino Acids'},\n  {'value': 0.952,\n   'units': 'g',\n   'description': 'Arginine',\n   'group': 'Amino Acids'},\n  {'value': 0.884,\n   'units': 'g',\n   'description': 'Histidine',\n   'group': 'Amino Acids'},\n  {'value': 0.711,\n   'units': 'g',\n   'description': 'Alanine',\n   'group': 'Amino Acids'},\n  {'value': 1.618,\n   'units': 'g',\n   'description': 'Aspartic acid',\n   'group': 'Amino Acids'},\n  {'value': 6.16,\n   'units': 'g',\n   'description': 'Glutamic acid',\n   'group': 'Amino Acids'},\n  {'value': 0.439,\n   'units': 'g',\n   'description': 'Glycine',\n   'group': 'Amino Acids'},\n  {'value': 2.838,\n   'units': 'g',\n   'description': 'Proline',\n   'group': 'Amino Acids'},\n  {'value': 1.472,\n   'units': 'g',\n   'description': 'Serine',\n   'group': 'Amino Acids'},\n  {'value': 93.0,\n   'units': 'mg',\n   'description': 'Cholesterol',\n   'group': 'Other'},\n  {'value': 18.584,\n   'units': 'g',\n   'description': 'Fatty acids, total saturated',\n   'group': 'Other'},\n  {'value': 8.275,\n   'units': 'g',\n   'description': 'Fatty acids, total monounsaturated',\n   'group': 'Other'},\n  {'value': 0.83,\n   'units': 'g',\n   'description': 'Fatty acids, total polyunsaturated',\n   'group': 'Other'},\n  {'value': 25.18,\n   'units': 'g',\n   'description': 'Protein',\n   'group': 'Composition'},\n  {'value': 29.2,\n   'units': 'g',\n   'description': 'Total lipid (fat)',\n   'group': 'Composition'},\n  {'value': 3.06,\n   'units': 'g',\n   'description': 'Carbohydrate, by difference',\n   'group': 'Composition'},\n  {'value': 3.28, 'units': 'g', 'description': 'Ash', 'group': 'Other'},\n  {'value': 376.0,\n   'units': 'kcal',\n   'description': 'Energy',\n   'group': 'Energy'},\n  {'value': 39.28,\n   'units': 'g',\n   'description': 'Water',\n   'group': 'Composition'},\n  {'value': 1573.0, 'units': 'kJ', 'description': 'Energy', 'group': 'Energy'},\n  {'value': 0.0,\n   'units': 'g',\n   'description': 'Fiber, total dietary',\n   'group': 'Composition'},\n  {'value': 673.0,\n   'units': 'mg',\n   'description': 'Calcium, Ca',\n   'group': 'Elements'},\n  {'value': 0.64,\n   'units': 'mg',\n   'description': 'Iron, Fe',\n   'group': 'Elements'},\n  {'value': 22.0,\n   'units': 'mg',\n   'description': 'Magnesium, Mg',\n   'group': 'Elements'},\n  {'value': 490.0,\n   'units': 'mg',\n   'description': 'Phosphorus, P',\n   'group': 'Elements'},\n  {'value': 93.0,\n   'units': 'mg',\n   'description': 'Potassium, K',\n   'group': 'Elements'},\n  {'value': 690.0,\n   'units': 'mg',\n   'description': 'Sodium, Na',\n   'group': 'Elements'},\n  {'value': 2.94,\n   'units': 'mg',\n   'description': 'Zinc, Zn',\n   'group': 'Elements'},\n  {'value': 0.024,\n   'units': 'mg',\n   'description': 'Copper, Cu',\n   'group': 'Elements'},\n  {'value': 0.021,\n   'units': 'mg',\n   'description': 'Manganese, Mn',\n   'group': 'Elements'},\n  {'value': 14.5,\n   'units': 'mcg',\n   'description': 'Selenium, Se',\n   'group': 'Elements'},\n  {'value': 1054.0,\n   'units': 'IU',\n   'description': 'Vitamin A, IU',\n   'group': 'Vitamins'},\n  {'value': 262.0,\n   'units': 'mcg',\n   'description': 'Retinol',\n   'group': 'Vitamins'},\n  {'value': 271.0,\n   'units': 'mcg_RAE',\n   'description': 'Vitamin A, RAE',\n   'group': 'Vitamins'},\n  {'value': 0.0,\n   'units': 'mg',\n   'description': 'Vitamin C, total ascorbic acid',\n   'group': 'Vitamins'},\n  {'value': 0.031,\n   'units': 'mg',\n   'description': 'Thiamin',\n   'group': 'Vitamins'},\n  {'value': 0.45,\n   'units': 'mg',\n   'description': 'Riboflavin',\n   'group': 'Vitamins'},\n  {'value': 0.18, 'units': 'mg', 'description': 'Niacin', 'group': 'Vitamins'},\n  {'value': 0.19,\n   'units': 'mg',\n   'description': 'Pantothenic acid',\n   'group': 'Vitamins'},\n  {'value': 0.074,\n   'units': 'mg',\n   'description': 'Vitamin B-6',\n   'group': 'Vitamins'},\n  {'value': 18.0,\n   'units': 'mcg',\n   'description': 'Folate, total',\n   'group': 'Vitamins'},\n  {'value': 0.27,\n   'units': 'mcg',\n   'description': 'Vitamin B-12',\n   'group': 'Vitamins'},\n  {'value': 0.0,\n   'units': 'mcg',\n   'description': 'Folic acid',\n   'group': 'Vitamins'},\n  {'value': 18.0,\n   'units': 'mcg',\n   'description': 'Folate, food',\n   'group': 'Vitamins'},\n  {'value': 18.0,\n   'units': 'mcg_DFE',\n   'description': 'Folate, DFE',\n   'group': 'Vitamins'},\n  {'value': 0.324,\n   'units': 'g',\n   'description': 'Tryptophan',\n   'group': 'Amino Acids'},\n  {'value': 0.896,\n   'units': 'g',\n   'description': 'Threonine',\n   'group': 'Amino Acids'},\n  {'value': 1.563,\n   'units': 'g',\n   'description': 'Isoleucine',\n   'group': 'Amino Acids'},\n  {'value': 2.412,\n   'units': 'g',\n   'description': 'Leucine',\n   'group': 'Amino Acids'},\n  {'value': 2.095,\n   'units': 'g',\n   'description': 'Lysine',\n   'group': 'Amino Acids'},\n  {'value': 0.659,\n   'units': 'g',\n   'description': 'Methionine',\n   'group': 'Amino Acids'},\n  {'value': 0.126,\n   'units': 'g',\n   'description': 'Cystine',\n   'group': 'Amino Acids'},\n  {'value': 1.326,\n   'units': 'g',\n   'description': 'Phenylalanine',\n   'group': 'Amino Acids'},\n  {'value': 1.216,\n   'units': 'g',\n   'description': 'Tyrosine',\n   'group': 'Amino Acids'},\n  {'value': 1.682,\n   'units': 'g',\n   'description': 'Valine',\n   'group': 'Amino Acids'},\n  {'value': 0.952,\n   'units': 'g',\n   'description': 'Arginine',\n   'group': 'Amino Acids'},\n  {'value': 0.884,\n   'units': 'g',\n   'description': 'Histidine',\n   'group': 'Amino Acids'},\n  {'value': 0.711,\n   'units': 'g',\n   'description': 'Alanine',\n   'group': 'Amino Acids'},\n  {'value': 1.618,\n   'units': 'g',\n   'description': 'Aspartic acid',\n   'group': 'Amino Acids'},\n  {'value': 6.16,\n   'units': 'g',\n   'description': 'Glutamic acid',\n   'group': 'Amino Acids'},\n  {'value': 0.439,\n   'units': 'g',\n   'description': 'Glycine',\n   'group': 'Amino Acids'},\n  {'value': 2.838,\n   'units': 'g',\n   'description': 'Proline',\n   'group': 'Amino Acids'},\n  {'value': 1.472,\n   'units': 'g',\n   'description': 'Serine',\n   'group': 'Amino Acids'},\n  {'value': 93.0,\n   'units': 'mg',\n   'description': 'Cholesterol',\n   'group': 'Other'},\n  {'value': 18.584,\n   'units': 'g',\n   'description': 'Fatty acids, total saturated',\n   'group': 'Other'},\n  {'value': 8.275,\n   'units': 'g',\n   'description': 'Fatty acids, total monounsaturated',\n   'group': 'Other'},\n  {'value': 0.83,\n   'units': 'g',\n   'description': 'Fatty acids, total polyunsaturated',\n   'group': 'Other'}]}"
     },
     "execution_count": 54,
     "metadata": {},
     "output_type": "execute_result"
    }
   ],
   "source": [
    "json_data[0]"
   ],
   "metadata": {
    "collapsed": false,
    "pycharm": {
     "name": "#%%\n"
    }
   }
  },
  {
   "cell_type": "code",
   "execution_count": 55,
   "outputs": [
    {
     "data": {
      "text/plain": "                          description                   group    id  \\\n0                     Cheese, caraway  Dairy and Egg Products  1008   \n1                     Cheese, cheddar  Dairy and Egg Products  1009   \n2                        Cheese, edam  Dairy and Egg Products  1018   \n3                        Cheese, feta  Dairy and Egg Products  1019   \n4  Cheese, mozzarella, part skim milk  Dairy and Egg Products  1028   \n\n  manufacturer  \n0               \n1               \n2               \n3               \n4               ",
      "text/html": "<div>\n<style scoped>\n    .dataframe tbody tr th:only-of-type {\n        vertical-align: middle;\n    }\n\n    .dataframe tbody tr th {\n        vertical-align: top;\n    }\n\n    .dataframe thead th {\n        text-align: right;\n    }\n</style>\n<table border=\"1\" class=\"dataframe\">\n  <thead>\n    <tr style=\"text-align: right;\">\n      <th></th>\n      <th>description</th>\n      <th>group</th>\n      <th>id</th>\n      <th>manufacturer</th>\n    </tr>\n  </thead>\n  <tbody>\n    <tr>\n      <th>0</th>\n      <td>Cheese, caraway</td>\n      <td>Dairy and Egg Products</td>\n      <td>1008</td>\n      <td></td>\n    </tr>\n    <tr>\n      <th>1</th>\n      <td>Cheese, cheddar</td>\n      <td>Dairy and Egg Products</td>\n      <td>1009</td>\n      <td></td>\n    </tr>\n    <tr>\n      <th>2</th>\n      <td>Cheese, edam</td>\n      <td>Dairy and Egg Products</td>\n      <td>1018</td>\n      <td></td>\n    </tr>\n    <tr>\n      <th>3</th>\n      <td>Cheese, feta</td>\n      <td>Dairy and Egg Products</td>\n      <td>1019</td>\n      <td></td>\n    </tr>\n    <tr>\n      <th>4</th>\n      <td>Cheese, mozzarella, part skim milk</td>\n      <td>Dairy and Egg Products</td>\n      <td>1028</td>\n      <td></td>\n    </tr>\n  </tbody>\n</table>\n</div>"
     },
     "execution_count": 55,
     "metadata": {},
     "output_type": "execute_result"
    }
   ],
   "source": [
    "nutr = pd.DataFrame(json_data, columns=['description', 'group', 'id', 'manufacturer'])\n",
    "nutr.head()"
   ],
   "metadata": {
    "collapsed": false,
    "pycharm": {
     "name": "#%%\n"
    }
   }
  },
  {
   "cell_type": "code",
   "execution_count": 56,
   "outputs": [
    {
     "name": "stdout",
     "output_type": "stream",
     "text": [
      "<class 'pandas.core.frame.DataFrame'>\n",
      "RangeIndex: 6636 entries, 0 to 6635\n",
      "Data columns (total 4 columns):\n",
      " #   Column        Non-Null Count  Dtype \n",
      "---  ------        --------------  ----- \n",
      " 0   description   6636 non-null   object\n",
      " 1   group         6636 non-null   object\n",
      " 2   id            6636 non-null   int64 \n",
      " 3   manufacturer  5195 non-null   object\n",
      "dtypes: int64(1), object(3)\n",
      "memory usage: 207.5+ KB\n"
     ]
    }
   ],
   "source": [
    "nutr.info()"
   ],
   "metadata": {
    "collapsed": false,
    "pycharm": {
     "name": "#%%\n"
    }
   }
  },
  {
   "cell_type": "code",
   "execution_count": 57,
   "outputs": [
    {
     "data": {
      "text/plain": "description     6636\ngroup             25\nid              6636\nmanufacturer      67\ndtype: int64"
     },
     "execution_count": 57,
     "metadata": {},
     "output_type": "execute_result"
    }
   ],
   "source": [
    "nutr.nunique()"
   ],
   "metadata": {
    "collapsed": false,
    "pycharm": {
     "name": "#%%\n"
    }
   }
  },
  {
   "cell_type": "code",
   "execution_count": 58,
   "outputs": [
    {
     "data": {
      "text/plain": "    value units                  description        group    id\n0   25.18     g                      Protein  Composition  1008\n1   29.20     g            Total lipid (fat)  Composition  1008\n2    3.06     g  Carbohydrate, by difference  Composition  1008\n3    3.28     g                          Ash        Other  1008\n4  376.00  kcal                       Energy       Energy  1008",
      "text/html": "<div>\n<style scoped>\n    .dataframe tbody tr th:only-of-type {\n        vertical-align: middle;\n    }\n\n    .dataframe tbody tr th {\n        vertical-align: top;\n    }\n\n    .dataframe thead th {\n        text-align: right;\n    }\n</style>\n<table border=\"1\" class=\"dataframe\">\n  <thead>\n    <tr style=\"text-align: right;\">\n      <th></th>\n      <th>value</th>\n      <th>units</th>\n      <th>description</th>\n      <th>group</th>\n      <th>id</th>\n    </tr>\n  </thead>\n  <tbody>\n    <tr>\n      <th>0</th>\n      <td>25.18</td>\n      <td>g</td>\n      <td>Protein</td>\n      <td>Composition</td>\n      <td>1008</td>\n    </tr>\n    <tr>\n      <th>1</th>\n      <td>29.20</td>\n      <td>g</td>\n      <td>Total lipid (fat)</td>\n      <td>Composition</td>\n      <td>1008</td>\n    </tr>\n    <tr>\n      <th>2</th>\n      <td>3.06</td>\n      <td>g</td>\n      <td>Carbohydrate, by difference</td>\n      <td>Composition</td>\n      <td>1008</td>\n    </tr>\n    <tr>\n      <th>3</th>\n      <td>3.28</td>\n      <td>g</td>\n      <td>Ash</td>\n      <td>Other</td>\n      <td>1008</td>\n    </tr>\n    <tr>\n      <th>4</th>\n      <td>376.00</td>\n      <td>kcal</td>\n      <td>Energy</td>\n      <td>Energy</td>\n      <td>1008</td>\n    </tr>\n  </tbody>\n</table>\n</div>"
     },
     "execution_count": 58,
     "metadata": {},
     "output_type": "execute_result"
    }
   ],
   "source": [
    "nutrients = []\n",
    "for rec in json_data:\n",
    "    fnuts = pd.DataFrame(rec['nutrients'])\n",
    "    fnuts['id'] = rec['id']\n",
    "    nutrients.append(fnuts)\n",
    "nutrients = pd.concat(nutrients, ignore_index=True)\n",
    "nutrients.head()"
   ],
   "metadata": {
    "collapsed": false,
    "pycharm": {
     "name": "#%%\n"
    }
   }
  },
  {
   "cell_type": "code",
   "execution_count": 59,
   "outputs": [
    {
     "data": {
      "text/plain": "14179"
     },
     "execution_count": 59,
     "metadata": {},
     "output_type": "execute_result"
    }
   ],
   "source": [
    "nutrients.duplicated().sum()"
   ],
   "metadata": {
    "collapsed": false,
    "pycharm": {
     "name": "#%%\n"
    }
   }
  },
  {
   "cell_type": "code",
   "execution_count": 60,
   "outputs": [],
   "source": [
    "nutrients = nutrients.drop_duplicates()"
   ],
   "metadata": {
    "collapsed": false,
    "pycharm": {
     "name": "#%%\n"
    }
   }
  },
  {
   "cell_type": "code",
   "execution_count": 61,
   "outputs": [
    {
     "data": {
      "text/plain": "    value units                  description        group    id\n0   25.18     g                      Protein  Composition  1008\n1   29.20     g            Total lipid (fat)  Composition  1008\n2    3.06     g  Carbohydrate, by difference  Composition  1008\n3    3.28     g                          Ash        Other  1008\n4  376.00  kcal                       Energy       Energy  1008",
      "text/html": "<div>\n<style scoped>\n    .dataframe tbody tr th:only-of-type {\n        vertical-align: middle;\n    }\n\n    .dataframe tbody tr th {\n        vertical-align: top;\n    }\n\n    .dataframe thead th {\n        text-align: right;\n    }\n</style>\n<table border=\"1\" class=\"dataframe\">\n  <thead>\n    <tr style=\"text-align: right;\">\n      <th></th>\n      <th>value</th>\n      <th>units</th>\n      <th>description</th>\n      <th>group</th>\n      <th>id</th>\n    </tr>\n  </thead>\n  <tbody>\n    <tr>\n      <th>0</th>\n      <td>25.18</td>\n      <td>g</td>\n      <td>Protein</td>\n      <td>Composition</td>\n      <td>1008</td>\n    </tr>\n    <tr>\n      <th>1</th>\n      <td>29.20</td>\n      <td>g</td>\n      <td>Total lipid (fat)</td>\n      <td>Composition</td>\n      <td>1008</td>\n    </tr>\n    <tr>\n      <th>2</th>\n      <td>3.06</td>\n      <td>g</td>\n      <td>Carbohydrate, by difference</td>\n      <td>Composition</td>\n      <td>1008</td>\n    </tr>\n    <tr>\n      <th>3</th>\n      <td>3.28</td>\n      <td>g</td>\n      <td>Ash</td>\n      <td>Other</td>\n      <td>1008</td>\n    </tr>\n    <tr>\n      <th>4</th>\n      <td>376.00</td>\n      <td>kcal</td>\n      <td>Energy</td>\n      <td>Energy</td>\n      <td>1008</td>\n    </tr>\n  </tbody>\n</table>\n</div>"
     },
     "execution_count": 61,
     "metadata": {},
     "output_type": "execute_result"
    }
   ],
   "source": [
    "nutrients.head()"
   ],
   "metadata": {
    "collapsed": false,
    "pycharm": {
     "name": "#%%\n"
    }
   }
  },
  {
   "cell_type": "code",
   "execution_count": 62,
   "outputs": [
    {
     "data": {
      "text/plain": "                          food       fgroup    id\n0                      Protein  Composition  1008\n1            Total lipid (fat)  Composition  1008\n2  Carbohydrate, by difference  Composition  1008\n3                          Ash        Other  1008\n4                       Energy       Energy  1008",
      "text/html": "<div>\n<style scoped>\n    .dataframe tbody tr th:only-of-type {\n        vertical-align: middle;\n    }\n\n    .dataframe tbody tr th {\n        vertical-align: top;\n    }\n\n    .dataframe thead th {\n        text-align: right;\n    }\n</style>\n<table border=\"1\" class=\"dataframe\">\n  <thead>\n    <tr style=\"text-align: right;\">\n      <th></th>\n      <th>food</th>\n      <th>fgroup</th>\n      <th>id</th>\n    </tr>\n  </thead>\n  <tbody>\n    <tr>\n      <th>0</th>\n      <td>Protein</td>\n      <td>Composition</td>\n      <td>1008</td>\n    </tr>\n    <tr>\n      <th>1</th>\n      <td>Total lipid (fat)</td>\n      <td>Composition</td>\n      <td>1008</td>\n    </tr>\n    <tr>\n      <th>2</th>\n      <td>Carbohydrate, by difference</td>\n      <td>Composition</td>\n      <td>1008</td>\n    </tr>\n    <tr>\n      <th>3</th>\n      <td>Ash</td>\n      <td>Other</td>\n      <td>1008</td>\n    </tr>\n    <tr>\n      <th>4</th>\n      <td>Energy</td>\n      <td>Energy</td>\n      <td>1008</td>\n    </tr>\n  </tbody>\n</table>\n</div>"
     },
     "execution_count": 62,
     "metadata": {},
     "output_type": "execute_result"
    }
   ],
   "source": [
    "info = nutrients.rename(columns={'description':'food', 'group':'fgroup'},copy=False).drop(columns=['value','units'])\n",
    "info.head()"
   ],
   "metadata": {
    "collapsed": false,
    "pycharm": {
     "name": "#%%\n"
    }
   }
  },
  {
   "cell_type": "code",
   "execution_count": 63,
   "outputs": [
    {
     "data": {
      "text/plain": "    value units                     nutrient     nutgroup    id\n0   25.18     g                      Protein  Composition  1008\n1   29.20     g            Total lipid (fat)  Composition  1008\n2    3.06     g  Carbohydrate, by difference  Composition  1008\n3    3.28     g                          Ash        Other  1008\n4  376.00  kcal                       Energy       Energy  1008",
      "text/html": "<div>\n<style scoped>\n    .dataframe tbody tr th:only-of-type {\n        vertical-align: middle;\n    }\n\n    .dataframe tbody tr th {\n        vertical-align: top;\n    }\n\n    .dataframe thead th {\n        text-align: right;\n    }\n</style>\n<table border=\"1\" class=\"dataframe\">\n  <thead>\n    <tr style=\"text-align: right;\">\n      <th></th>\n      <th>value</th>\n      <th>units</th>\n      <th>nutrient</th>\n      <th>nutgroup</th>\n      <th>id</th>\n    </tr>\n  </thead>\n  <tbody>\n    <tr>\n      <th>0</th>\n      <td>25.18</td>\n      <td>g</td>\n      <td>Protein</td>\n      <td>Composition</td>\n      <td>1008</td>\n    </tr>\n    <tr>\n      <th>1</th>\n      <td>29.20</td>\n      <td>g</td>\n      <td>Total lipid (fat)</td>\n      <td>Composition</td>\n      <td>1008</td>\n    </tr>\n    <tr>\n      <th>2</th>\n      <td>3.06</td>\n      <td>g</td>\n      <td>Carbohydrate, by difference</td>\n      <td>Composition</td>\n      <td>1008</td>\n    </tr>\n    <tr>\n      <th>3</th>\n      <td>3.28</td>\n      <td>g</td>\n      <td>Ash</td>\n      <td>Other</td>\n      <td>1008</td>\n    </tr>\n    <tr>\n      <th>4</th>\n      <td>376.00</td>\n      <td>kcal</td>\n      <td>Energy</td>\n      <td>Energy</td>\n      <td>1008</td>\n    </tr>\n  </tbody>\n</table>\n</div>"
     },
     "execution_count": 63,
     "metadata": {},
     "output_type": "execute_result"
    }
   ],
   "source": [
    "nutrients = nutrients.rename(columns={'description' : 'nutrient','group' : 'nutgroup'} , copy=False)\n",
    "nutrients.head()"
   ],
   "metadata": {
    "collapsed": false,
    "pycharm": {
     "name": "#%%\n"
    }
   }
  },
  {
   "cell_type": "code",
   "execution_count": 64,
   "outputs": [
    {
     "data": {
      "text/plain": "   value units nutrient     nutgroup    id                         food  \\\n0  25.18     g  Protein  Composition  1008                      Protein   \n1  25.18     g  Protein  Composition  1008            Total lipid (fat)   \n2  25.18     g  Protein  Composition  1008  Carbohydrate, by difference   \n3  25.18     g  Protein  Composition  1008                          Ash   \n4  25.18     g  Protein  Composition  1008                       Energy   \n\n        fgroup  \n0  Composition  \n1  Composition  \n2  Composition  \n3        Other  \n4       Energy  ",
      "text/html": "<div>\n<style scoped>\n    .dataframe tbody tr th:only-of-type {\n        vertical-align: middle;\n    }\n\n    .dataframe tbody tr th {\n        vertical-align: top;\n    }\n\n    .dataframe thead th {\n        text-align: right;\n    }\n</style>\n<table border=\"1\" class=\"dataframe\">\n  <thead>\n    <tr style=\"text-align: right;\">\n      <th></th>\n      <th>value</th>\n      <th>units</th>\n      <th>nutrient</th>\n      <th>nutgroup</th>\n      <th>id</th>\n      <th>food</th>\n      <th>fgroup</th>\n    </tr>\n  </thead>\n  <tbody>\n    <tr>\n      <th>0</th>\n      <td>25.18</td>\n      <td>g</td>\n      <td>Protein</td>\n      <td>Composition</td>\n      <td>1008</td>\n      <td>Protein</td>\n      <td>Composition</td>\n    </tr>\n    <tr>\n      <th>1</th>\n      <td>25.18</td>\n      <td>g</td>\n      <td>Protein</td>\n      <td>Composition</td>\n      <td>1008</td>\n      <td>Total lipid (fat)</td>\n      <td>Composition</td>\n    </tr>\n    <tr>\n      <th>2</th>\n      <td>25.18</td>\n      <td>g</td>\n      <td>Protein</td>\n      <td>Composition</td>\n      <td>1008</td>\n      <td>Carbohydrate, by difference</td>\n      <td>Composition</td>\n    </tr>\n    <tr>\n      <th>3</th>\n      <td>25.18</td>\n      <td>g</td>\n      <td>Protein</td>\n      <td>Composition</td>\n      <td>1008</td>\n      <td>Ash</td>\n      <td>Other</td>\n    </tr>\n    <tr>\n      <th>4</th>\n      <td>25.18</td>\n      <td>g</td>\n      <td>Protein</td>\n      <td>Composition</td>\n      <td>1008</td>\n      <td>Energy</td>\n      <td>Energy</td>\n    </tr>\n  </tbody>\n</table>\n</div>"
     },
     "execution_count": 64,
     "metadata": {},
     "output_type": "execute_result"
    }
   ],
   "source": [
    "ndata = pd.merge(nutrients, info, on='id', how='outer')\n",
    "ndata.head()"
   ],
   "metadata": {
    "collapsed": false,
    "pycharm": {
     "name": "#%%\n"
    }
   }
  },
  {
   "cell_type": "code",
   "execution_count": 67,
   "outputs": [
    {
     "data": {
      "text/plain": "<AxesSubplot:ylabel='fgroup'>"
     },
     "execution_count": 67,
     "metadata": {},
     "output_type": "execute_result"
    },
    {
     "data": {
      "text/plain": "<Figure size 432x288 with 1 Axes>",
      "image/png": "[encoded data removed]"
     },
     "metadata": {
      "needs_background": "light"
     },
     "output_type": "display_data"
    }
   ],
   "source": [
    "res = ndata.groupby(['nutrient', 'fgroup'])['value'].quantile(0.5)\n",
    "res['Zinc, Zn'].sort_values().plot(kind='barh')"
   ],
   "metadata": {
    "collapsed": false,
    "pycharm": {
     "name": "#%%\n"
    }
   }
  },
  {
   "cell_type": "code",
   "execution_count": 65,
   "outputs": [],
   "source": [],
   "metadata": {
    "collapsed": false,
    "pycharm": {
     "name": "#%%\n"
    }
   }
  }
 ],
 "metadata": {
  "kernelspec": {
   "display_name": "Python 3",
   "language": "python",
   "name": "python3"
  },
  "language_info": {
   "codemirror_mode": {
    "name": "ipython",
    "version": 2
   },
   "file_extension": ".py",
   "mimetype": "text/x-python",
   "name": "python",
   "nbconvert_exporter": "python",
   "pygments_lexer": "ipython2",
   "version": "2.7.6"
  }
 },
 "nbformat": 4,
 "nbformat_minor": 0
}